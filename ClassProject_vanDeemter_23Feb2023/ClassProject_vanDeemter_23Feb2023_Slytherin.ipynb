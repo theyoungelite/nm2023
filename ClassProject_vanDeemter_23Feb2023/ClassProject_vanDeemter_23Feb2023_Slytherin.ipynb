{
 "cells": [
  {
   "cell_type": "markdown",
   "id": "27b13a3e",
   "metadata": {},
   "source": [
    "# A least-squares fitting execise in gas chromatography."
   ]
  },
  {
   "cell_type": "markdown",
   "id": "57814aa1",
   "metadata": {},
   "source": [
    "The csv file `nm2023/data/exp_data.csv` contains data from a gas chromatography experiment. The first column corresponds to the flow rate, $u$, in milli-Litre-per-minute (mL/min), and the second column corresponds to the plate height, $H(u)$, in millimeter (mm). \n",
    "\n",
    "Fit this data to the [van Deemter equation](https://en.wikipedia.org/wiki/Van_Deemter_equation), $H(u)=A+B/u+Cu$, and determine the diffusion parameters, $A$, $B$, and $C$. The meaning of the parameters are defined in the wiki article linked above. \n",
    "\n",
    "Report the following in a Jupyter notebook (rename this file as `ClassProject_vanDeemter_23Feb2023_githubhandle.ipynb`) and send it via google classroom:   \n",
    "- The diffusion parameters, $A$, $B$, and $C$  \n",
    "- Accuracy of your fit in terms of mean absolute deviation (MAD), root mean square deviation (RMSD), maximum absolute error (MAD), and Pearson correlation coefficient. \n",
    "- Plot the actual data along with your fitted function.\n"
   ]
  },
  {
   "cell_type": "markdown",
   "id": "ea735d7d",
   "metadata": {},
   "source": [
    "# Solution"
   ]
  },
  {
   "cell_type": "markdown",
   "id": "ef21b7a7",
   "metadata": {},
   "source": [
    "## Codes"
   ]
  },
  {
   "cell_type": "code",
   "execution_count": 75,
   "id": "bb317b06",
   "metadata": {},
   "outputs": [
    {
     "name": "stdout",
     "output_type": "stream",
     "text": [
      "coefficient of x^ 0  is  -1.3322932475488948e-05\n",
      "coefficient of x^ 1  is  0.0034801903821114017\n",
      "coefficient of x^ 2  is  -0.2439304418422671\n",
      "coefficient of x^ 3  is  9.899137969187736\n",
      "Mean absolute deviation= 0.8906893527010213\n",
      "Root Mean square deviation= 1.2564321043487143\n",
      "pearson corelation coefficient= 0.6963326834514708\n",
      "max absolute error= 4.634590265585411\n"
     ]
    }
   ],
   "source": [
    "import numpy as np\n",
    "\n",
    "#=== Read the data from a file\n",
    "file=open('../data/exp_data.csv','r')\n",
    "\n",
    "x=np.array([])\n",
    "y=np.array([])\n",
    "\n",
    "iline=0\n",
    "for line in file:\n",
    "    if iline > 0:            # i == 0 corresponds to the heading\n",
    "        str=line.split(',')\n",
    "        valx=eval(str[0])\n",
    "        valy=eval(str[1])\n",
    "        x=np.append(x,[valx])\n",
    "        y=np.append(y,[valy])\n",
    "        \n",
    "    iline=iline+1\n",
    "myfile.close() \n",
    "D=3 #D=1 shows a linear trend, unlike what is expected, however D=2(parabola) the expected sharper increase in H at higher u is not seen\n",
    "N=x.shape[0]\n",
    "\n",
    "a=np.polyfit(x,y,D)\n",
    "for i in range(D+1):\n",
    "    print(\"coefficient of x^\",i,\" is \",a[i])\n",
    "    \n",
    "p = np.poly1d(a)#fitted polynomial\n",
    "\n",
    "yfit=np.polyval(a,x)\n",
    "\n",
    "mad = np.mean(np.abs(y-yfit)) #MAD\n",
    "rmsd = np.sqrt(((y - yfit) ** 2).mean()) #RMSD\n",
    "pearson_coef = np.corrcoef(y, yfit)[0,1]  #pearson corelation coefficient\n",
    "\n",
    "mae= np.max(np.abs(y-yfit))\n",
    "\n",
    "print(\"Mean absolute deviation=\",mad)\n",
    "print(\"Root Mean square deviation=\",rmsd)\n",
    "print(\"pearson corelation coefficient=\", pearson_coef)\n",
    "print(\"max absolute error=\",mae)\n"
   ]
  },
  {
   "cell_type": "markdown",
   "id": "a88662c4",
   "metadata": {},
   "source": [
    "## Plot"
   ]
  },
  {
   "cell_type": "code",
   "execution_count": 70,
   "id": "75d5f56b",
   "metadata": {},
   "outputs": [
    {
     "data": {
      "text/plain": [
       "Text(0.5, 1.0, 'Polynomial fitting')"
      ]
     },
     "execution_count": 70,
     "metadata": {},
     "output_type": "execute_result"
    },
    {
     "data": {
      "image/png": "[encoded data removed]",
      "text/plain": [
       "<Figure size 640x480 with 1 Axes>"
      ]
     },
     "metadata": {},
     "output_type": "display_data"
    }
   ],
   "source": [
    "# Plot here\n",
    "import numpy as np\n",
    "import matplotlib.pyplot as plt\n",
    "\n",
    "plt.plot(x,y,'o',color='r',linewidth=1,label='y$^{exact}$')\n",
    "plt.plot(x,yfit,'x',color='b',linewidth=1)\n",
    "\n",
    "xgrids=np.linspace(0,7, 51)\n",
    "ygridsfit=np.polyval(a,xgrids)\n",
    "\n",
    "plt.plot(xgrids,ygridsfit,'-',color='b',linewidth=1,label='y$^{fitted}$')\n",
    "\n",
    "plt.legend()\n",
    "\n",
    "plt.xlabel(\"u\")\n",
    "plt.ylabel(\"H(u)\")\n",
    "plt.title('Polynomial fitting')\n"
   ]
  },
  {
   "cell_type": "markdown",
   "id": "3530209b",
   "metadata": {},
   "source": [
    "## Accuracy of the fit"
   ]
  },
  {
   "cell_type": "markdown",
   "id": "17918175",
   "metadata": {},
   "source": [
    "| A       | B       | C       | MAD     | RMSD    | Pearson coefficient |\n",
    "|---------|---------|---------|---------|---------|---------------------|\n",
    "| xx.xxxx | xx.xxxx | xx.xxxx | xx.xxxx | xx.xxxx | xx.xxxx             |"
   ]
  }
 ],
 "metadata": {
  "kernelspec": {
   "display_name": "Python 3 (ipykernel)",
   "language": "python",
   "name": "python3"
  },
  "language_info": {
   "codemirror_mode": {
    "name": "ipython",
    "version": 3
   },
   "file_extension": ".py",
   "mimetype": "text/x-python",
   "name": "python",
   "nbconvert_exporter": "python",
   "pygments_lexer": "ipython3",
   "version": "3.8.10"
  }
 },
 "nbformat": 4,
 "nbformat_minor": 5
}
