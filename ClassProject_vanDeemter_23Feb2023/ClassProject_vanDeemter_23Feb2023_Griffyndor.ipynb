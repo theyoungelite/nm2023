{
 "cells": [
  {
   "cell_type": "markdown",
   "id": "27b13a3e",
   "metadata": {},
   "source": [
    "# A least-squares fitting execise in gas chromatography."
   ]
  },
  {
   "cell_type": "markdown",
   "id": "57814aa1",
   "metadata": {},
   "source": [
    "The csv file `nm2023/data/exp_data.csv` contains data from a gas chromatography experiment. The first column corresponds to the flow rate, $u$, in milli-Litre-per-minute (mL/min), and the second column corresponds to the plate height, $H(u)$, in millimeter (mm). \n",
    "\n",
    "Fit this data to the [van Deemter equation](https://en.wikipedia.org/wiki/Van_Deemter_equation), $H(u)=A+B/u+Cu$, and determine the diffusion parameters, $A$, $B$, and $C$. The meaning of the parameters are defined in the wiki article linked above. \n",
    "\n",
    "Report the following in a Jupyter notebook (rename this file as `ClassProject_vanDeemter_23Feb2023_githubhandle.ipynb`) and send it via google classroom:   \n",
    "- The diffusion parameters, $A$, $B$, and $C$  \n",
    "- Accuracy of your fit in terms of mean absolute deviation (MAD), root mean square deviation (RMSD), maximum absolute error (MAD), and Pearson correlation coefficient. \n",
    "- Plot the actual data along with your fitted function.\n"
   ]
  },
  {
   "cell_type": "markdown",
   "id": "ea735d7d",
   "metadata": {},
   "source": [
    "# Solution"
   ]
  },
  {
   "cell_type": "markdown",
   "id": "ef21b7a7",
   "metadata": {},
   "source": [
    "## Codes"
   ]
  },
  {
   "cell_type": "code",
   "execution_count": 36,
   "id": "bb317b06",
   "metadata": {},
   "outputs": [
    {
     "name": "stdout",
     "output_type": "stream",
     "text": [
      "#    i      a_i\n",
      "     0    -0.00000000\n",
      "     1     0.00000000\n",
      "     2    -0.00000000\n",
      "     3     0.00000000\n",
      "     4    -0.00000000\n",
      "     5     0.00000000\n",
      "     6    -0.00000000\n",
      "     7     0.00000002\n",
      "     8    -0.00000095\n",
      "     9     0.00003958\n",
      "    10    -0.00115576\n",
      "    11     0.02303718\n",
      "    12    -0.30051043\n",
      "    13     2.43123458\n",
      "    14   -11.35940288\n",
      "    15    31.05710967\n",
      "\n",
      "The fitted polynomial is \n",
      "             15             14             13             12\n",
      "-2.494e-25 x  + 3.074e-22 x  - 1.705e-19 x  + 5.632e-17 x \n",
      "              11             10             9            8\n",
      " - 1.233e-14 x  + 1.886e-12 x  - 2.071e-10 x + 1.65e-08 x\n",
      "              7             6            5           4          3\n",
      " - 9.538e-07 x + 3.958e-05 x - 0.001156 x + 0.02304 x - 0.3005 x\n",
      "          2\n",
      " + 2.431 x - 11.36 x + 31.06 \n",
      "\n",
      "\n",
      "#    i      u_i           H_i             H_i (fit)      error          |error|      % error\n",
      "     0     2.50505000    13.94430000    13.93630229     0.00799771     0.00799771     0.05735466\n",
      "     1     4.01010000    10.12410000    10.13100784    -0.00690784     0.00690784     0.06823168\n",
      "     2     7.02020000     7.38571000     7.43287961    -0.04716961     0.04716961     0.63866045\n",
      "     3    10.03030000     6.44311000     6.36309022     0.08001978     0.08001978     1.24194344\n",
      "     4    13.04040000     5.88968000     5.56172768     0.32795232     0.32795232     5.56825365\n",
      "     5    14.54550000     4.69011000     5.29828752    -0.60817752     0.60817752    12.96723353\n",
      "     6    17.55560000     5.40629000     5.14949688     0.25679312     0.25679312     4.74989547\n",
      "     7    19.06060000     5.31540000     5.24640986     0.06899014     0.06899014     1.29792939\n",
      "     8    20.56570000     5.39149000     5.41795039    -0.02646039     0.02646039     0.49078056\n",
      "     9    23.57580000     5.57162000     5.82632515    -0.25470515     0.25470515     4.57147391\n",
      "    10    25.08080000     6.25110000     5.99117668     0.25992332     0.25992332     4.15804132\n",
      "    11    34.11110000     5.54969000     5.66666645    -0.11697645     0.11697645     2.10780156\n",
      "    12    46.15150000     5.48357000     5.36958431     0.11398569     0.11398569     2.07867663\n",
      "    13    50.66670000     5.99921000     5.88403055     0.11517945     0.11517945     1.91991032\n",
      "    14    58.19190000     5.67912000     6.33743439    -0.65831439     0.65831439    11.59183803\n",
      "    15    62.70710000     6.76265000     6.11884027     0.64380973     0.64380973     9.52008059\n",
      "    16    71.73740000     5.28177000     5.46390908    -0.18213908     0.18213908     3.44844779\n",
      "    17    91.30300000     6.79167000     6.75602874     0.03564126     0.03564126     0.52477901\n",
      "    18    97.32320000     6.85479000     6.64047796     0.21431204     0.21431204     3.12645673\n",
      "    19   100.33300000     5.93714000     6.50221082    -0.56507082     0.56507082     9.51755923\n",
      "    20   101.83800000     6.77849000     6.44471225     0.33377775     0.33377775     4.92407238\n",
      "    21   116.88900000     7.19739000     7.14878783     0.04860217     0.04860217     0.67527493\n",
      "    22   118.39400000     7.23973000     7.25362662    -0.01389662     0.01389662     0.19194945\n",
      "    23   122.90900000     7.36718000     7.42772738    -0.06054738     0.06054738     0.82185292\n",
      "    24   125.91900000     7.45247000     7.45024098     0.00222902     0.00222902     0.02990983\n",
      "    25   127.42400000     7.49520000     7.45673877     0.03846123     0.03846123     0.51314479\n",
      "    26   134.94900000     7.70967000     7.71985164    -0.01018164     0.01018164     0.13206324\n",
      "    27   139.46500000     7.83893000     7.83570110     0.00322890     0.00322890     0.04119058\n",
      "    28   143.98000000     7.96859000     7.96892314    -0.00033314     0.00033314     0.00418072\n",
      "coefficient of u^ 0  is  8.18331140735744\n",
      "coefficient of u^ 1  is  -0.08130804288974015\n",
      "coefficient of u^ 2  is  0.0005972406390972879\n",
      "No. of data points, N:  29\n",
      "Degree of the polynomial, D:  2\n",
      "Mean absolute error:  0.17592357515648868\n",
      "Standard deviation:   0.2688883915919185\n"
     ]
    }
   ],
   "source": [
    "import numpy as np\n",
    "\n",
    "myfile=open('..\\data\\exp_data.csv','r')\n",
    "\n",
    "u=np.array([])\n",
    "H=np.array([])\n",
    "\n",
    "iline=0\n",
    "for line in myfile:\n",
    "    if iline > 0:           \n",
    "        str=line.split(',')  \n",
    "        valu=eval(str[0])\n",
    "        valH=eval(str[1])\n",
    "        u=np.append(u,[valu])\n",
    "        H=np.append(H,[valH])\n",
    "        \n",
    "    iline=iline+1\n",
    "myfile.close() \n",
    "\n",
    "D=15\n",
    "N=u.shape[0]\n",
    "\n",
    "print('#    i','     a_i')\n",
    "a=np.polyfit(u,H,D)\n",
    "for i in range(D+1):\n",
    "    print('{:6d}{:15.8f}'.format(i,a[i]))\n",
    "\n",
    "p = np.poly1d(a)\n",
    "print(\"\\nThe fitted polynomial is \\n\",p,\"\\n\\n\")\n",
    "\n",
    "Hfit=np.polyval(a,u)\n",
    "\n",
    "err=H-Hfit\n",
    "abs_err = np.abs(H-Hfit)\n",
    "perc_err=np.abs( abs_err/H ) *100\n",
    "\n",
    "print('#    i','     u_i           H_i             H_i (fit)      error          |error|      % error')\n",
    "for i in range(N):\n",
    "    print('{:6d}{:15.8f}{:15.8f}{:15.8f}{:15.8f}{:15.8f}{:15.8f}'.format(i,u[i],H[i],Hfit[i],err[i],abs_err[i],perc_err[i]))\n",
    "    \n",
    "def chol(A,b):\n",
    "    from scipy.linalg import cho_factor, cho_solve\n",
    "    D=b.shape[0]\n",
    "    \n",
    "    c=np.zeros(D,float)\n",
    "\n",
    "    L, low = cho_factor(A)   \n",
    "\n",
    "    c = cho_solve((L, low), b)\n",
    "    return c\n",
    "\n",
    "\n",
    "def polyfit(x,y,D):\n",
    "    '''\n",
    "        Fits a given set of data x,y to a polynomial of degree D\n",
    "    '''\n",
    "    import numpy as np \n",
    "        \n",
    "    X=np.vander(x, D+1, increasing=True)\n",
    "    XT=np.transpose(X)\n",
    "    \n",
    "    A=np.matmul(XT,X)\n",
    "    \n",
    "    b=np.matmul(XT,y)\n",
    "\n",
    "    c=chol(A,b)\n",
    "    \n",
    "    return(c)\n",
    "D=2\n",
    "c=polyfit(u,H,D)\n",
    "\n",
    "for i in range(D+1):\n",
    "    print(\"coefficient of u^\",i,\" is \",c[i])\n",
    "    \n",
    "print('No. of data points, N: ', N)\n",
    "print('Degree of the polynomial, D: ', D)\n",
    "\n",
    "mae=np.mean(abs_err)\n",
    "print(\"Mean absolute error: \", mae)\n",
    "\n",
    "cerr=err-np.mean(err)\n",
    "var=np.mean(cerr**2)\n",
    "std=np.sqrt(var)\n",
    "print(\"Standard deviation:  \", std)"
   ]
  },
  {
   "cell_type": "code",
   "execution_count": 17,
   "id": "f71f608a",
   "metadata": {},
   "outputs": [
    {
     "data": {
      "image/png": "[encoded data removed]",
      "text/plain": [
       "<Figure size 640x480 with 1 Axes>"
      ]
     },
     "metadata": {},
     "output_type": "display_data"
    }
   ],
   "source": [
    "import numpy as np\n",
    "import matplotlib.pyplot as plt\n",
    "\n",
    "plt.plot(u,H,'o',color='r',linewidth=1,label='y$^{exact}$')\n",
    "plt.plot(u,Hfit,'x',color='b',linewidth=1)\n",
    "\n",
    "ugrids=np.linspace(0,7, 51)\n",
    "Hgridsfit=np.polyval(a,ugrids)\n",
    "\n",
    "plt.plot(ugrids,Hgridsfit,'-',color='b',linewidth=1,label='H$^{fitted}$')\n",
    "\n",
    "plt.legend()\n",
    "\n",
    "plt.xlabel(\"u\")\n",
    "plt.ylabel(\"H\")\n",
    "plt.title('Polynomial fitting')\n",
    "\n",
    "plt.show()"
   ]
  },
  {
   "cell_type": "markdown",
   "id": "81281282",
   "metadata": {},
   "source": [
    "# Pearson's correlation coefficient"
   ]
  },
  {
   "cell_type": "code",
   "execution_count": 18,
   "id": "84b1f939",
   "metadata": {},
   "outputs": [
    {
     "name": "stdout",
     "output_type": "stream",
     "text": [
      "Pearson correlation coefficient is:  0.9881333089199571\n"
     ]
    }
   ],
   "source": [
    "my_rho = np.corrcoef(H, Hfit)[0,1]  \n",
    "print('Pearson correlation coefficient is: ', my_rho)"
   ]
  },
  {
   "cell_type": "code",
   "execution_count": 23,
   "id": "f3b20a48",
   "metadata": {},
   "outputs": [
    {
     "data": {
      "text/plain": [
       "Text(0.5, 1.0, 'Scatterplot')"
      ]
     },
     "execution_count": 23,
     "metadata": {},
     "output_type": "execute_result"
    },
    {
     "data": {
      "image/png": "[encoded data removed]",
      "text/plain": [
       "<Figure size 640x480 with 1 Axes>"
      ]
     },
     "metadata": {},
     "output_type": "display_data"
    }
   ],
   "source": [
    "import numpy as np\n",
    "import matplotlib.pyplot as plt\n",
    "\n",
    "\n",
    "fig = plt.figure()                          \n",
    "au = fig.add_subplot(111)                  \n",
    "plt.plot(H,Hfit,'x',color='blue')\n",
    "au.set_aspect('equal', adjustable='box')   \n",
    "plt.plot(H,H,'-',color='black')\n",
    "\n",
    "plt.text(10,-5, r'$\\rho=$ {0:5.3f}'.format(my_rho), fontsize=10)\n",
    "\n",
    "plt.legend(['fit','$H=u$'])\n",
    "\n",
    "plt.xlabel(\"H$^{exact}$\")\n",
    "plt.ylabel(\"H$^{fitted}$\")\n",
    "plt.title('Scatterplot')"
   ]
  },
  {
   "cell_type": "markdown",
   "id": "c7cbf9b5",
   "metadata": {},
   "source": [
    "# "
   ]
  },
  {
   "cell_type": "markdown",
   "id": "a88662c4",
   "metadata": {},
   "source": [
    "## Plot"
   ]
  },
  {
   "cell_type": "code",
   "execution_count": 2,
   "id": "75d5f56b",
   "metadata": {},
   "outputs": [],
   "source": [
    "# Plot here"
   ]
  },
  {
   "cell_type": "markdown",
   "id": "3530209b",
   "metadata": {},
   "source": [
    "## Accuracy of the fit"
   ]
  },
  {
   "cell_type": "markdown",
   "id": "17918175",
   "metadata": {},
   "source": [
    "| A       | B       | C       | MAD     | RMSD    | Pearson coefficient |\n",
    "|---------|---------|---------|---------|---------|---------------------|\n",
    "| 8.18331140735744| -0.08130804288974015 |  0.0005972406390972879| 0.1759235 | 0.2688883915919185 | 0.98813 |"
   ]
  }
 ],
 "metadata": {
  "kernelspec": {
   "display_name": "Python 3 (ipykernel)",
   "language": "python",
   "name": "python3"
  },
  "language_info": {
   "codemirror_mode": {
    "name": "ipython",
    "version": 3
   },
   "file_extension": ".py",
   "mimetype": "text/x-python",
   "name": "python",
   "nbconvert_exporter": "python",
   "pygments_lexer": "ipython3",
   "version": "3.9.13"
  }
 },
 "nbformat": 4,
 "nbformat_minor": 5
}
