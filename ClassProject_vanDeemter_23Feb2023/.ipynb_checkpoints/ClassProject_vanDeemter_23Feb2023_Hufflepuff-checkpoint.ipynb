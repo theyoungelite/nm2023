{
 "cells": [
  {
   "cell_type": "markdown",
   "id": "27b13a3e",
   "metadata": {},
   "source": [
    "# A least-squares fitting execise in gas chromatography."
   ]
  },
  {
   "cell_type": "markdown",
   "id": "57814aa1",
   "metadata": {},
   "source": [
    "The csv file `nm2023/data/exp_data.csv` contains data from a gas chromatography experiment. The first column corresponds to the flow rate, $u$, in milli-Litre-per-minute (mL/min), and the second column corresponds to the plate height, $H(u)$, in millimeter (mm). \n",
    "\n",
    "Fit this data to the [van Deemter equation](https://en.wikipedia.org/wiki/Van_Deemter_equation), $H(u)=A+B/u+Cu$, and determine the diffusion parameters, $A$, $B$, and $C$. The meaning of the parameters are defined in the wiki article linked above. \n",
    "\n",
    "Report the following in a Jupyter notebook (rename this file as `ClassProject_vanDeemter_23Feb2023_githubhandle.ipynb`) and send it via google classroom:   \n",
    "- The diffusion parameters, $A$, $B$, and $C$  \n",
    "- Accuracy of your fit in terms of mean absolute deviation (MAD), root mean square deviation (RMSD), maximum absolute error (MAD), and Pearson correlation coefficient. \n",
    "- Plot the actual data along with your fitted function.\n"
   ]
  },
  {
   "cell_type": "markdown",
   "id": "ea735d7d",
   "metadata": {},
   "source": [
    "# Solution"
   ]
  },
  {
   "cell_type": "markdown",
   "id": "ef21b7a7",
   "metadata": {},
   "source": [
    "## Codes"
   ]
  },
  {
   "cell_type": "code",
   "execution_count": 5,
   "id": "bb317b06",
   "metadata": {},
   "outputs": [
    {
     "name": "stdout",
     "output_type": "stream",
     "text": [
      "#    i      a_i\n",
      "\n",
      "The fitted polynomial is \n",
      "  \n",
      "6.821 \n",
      "\n",
      "\n",
      "#    i      x_i           y_i             y_i (fit)      error          |error|      % error\n",
      "     0     2.50505000    13.94430000     6.82069552     7.12360448     7.12360448    51.08613902\n",
      "     1     4.01010000    10.12410000     6.82069552     3.30340448     3.30340448    32.62911748\n",
      "     2     7.02020000     7.38571000     6.82069552     0.56501448     0.56501448     7.65010382\n",
      "     3    10.03030000     6.44311000     6.82069552    -0.37758552     0.37758552     5.86029910\n",
      "     4    13.04040000     5.88968000     6.82069552    -0.93101552     0.93101552    15.80757388\n",
      "     5    14.54550000     4.69011000     6.82069552    -2.13058552     2.13058552    45.42719717\n",
      "     6    17.55560000     5.40629000     6.82069552    -1.41440552     1.41440552    26.16222062\n",
      "     7    19.06060000     5.31540000     6.82069552    -1.50529552     1.50529552    28.31951532\n",
      "     8    20.56570000     5.39149000     6.82069552    -1.42920552     1.42920552    26.50854434\n",
      "     9    23.57580000     5.57162000     6.82069552    -1.24907552     1.24907552    22.41853388\n",
      "    10    25.08080000     6.25110000     6.82069552    -0.56959552     0.56959552     9.11192458\n",
      "    11    34.11110000     5.54969000     6.82069552    -1.27100552     1.27100552    22.90227954\n",
      "    12    46.15150000     5.48357000     6.82069552    -1.33712552     1.33712552    24.38421534\n",
      "    13    50.66670000     5.99921000     6.82069552    -0.82148552     0.82148552    13.69322823\n",
      "    14    58.19190000     5.67912000     6.82069552    -1.14157552     1.14157552    20.10127480\n",
      "    15    62.70710000     6.76265000     6.82069552    -0.05804552     0.05804552     0.85832502\n",
      "    16    71.73740000     5.28177000     6.82069552    -1.53892552     1.53892552    29.13654925\n",
      "    17    91.30300000     6.79167000     6.82069552    -0.02902552     0.02902552     0.42736937\n",
      "    18    97.32320000     6.85479000     6.82069552     0.03409448     0.03409448     0.49738187\n",
      "    19   100.33300000     5.93714000     6.82069552    -0.88355552     0.88355552    14.88183734\n",
      "    20   101.83800000     6.77849000     6.82069552    -0.04220552     0.04220552     0.62263892\n",
      "    21   116.88900000     7.19739000     6.82069552     0.37669448     0.37669448     5.23376506\n",
      "    22   118.39400000     7.23973000     6.82069552     0.41903448     0.41903448     5.78798495\n",
      "    23   122.90900000     7.36718000     6.82069552     0.54648448     0.54648448     7.41782450\n",
      "    24   125.91900000     7.45247000     6.82069552     0.63177448     0.63177448     8.47738378\n",
      "    25   127.42400000     7.49520000     6.82069552     0.67450448     0.67450448     8.99915256\n",
      "    26   134.94900000     7.70967000     6.82069552     0.88897448     0.88897448    11.53064246\n",
      "    27   139.46500000     7.83893000     6.82069552     1.01823448     1.01823448    12.98945752\n",
      "    28   143.98000000     7.96859000     6.82069552     1.14789448     1.14789448    14.40523961\n"
     ]
    },
    {
     "data": {
      "image/png": "[encoded data removed]",
      "text/plain": [
       "<Figure size 432x288 with 1 Axes>"
      ]
     },
     "metadata": {
      "needs_background": "light"
     },
     "output_type": "display_data"
    },
    {
     "name": "stdout",
     "output_type": "stream",
     "text": [
      "No. of data points, N:  29\n",
      "Degree of the polynomial, D:  2\n",
      "Mean absolute error:  1.1537733650416173\n",
      "Max absolute error: 7.12360448275862\n",
      "Standard deviation:   1.7505901650046305\n",
      "Standard deviation using numpy:  1.7505901650046305\n",
      "Pearson correlation coefficient is:  8.747576294804559e-17\n",
      "Standard deviation of polynomial fit [upper bound]:  1.8488292745630768\n"
     ]
    }
   ],
   "source": [
    "import numpy as np\n",
    "import matplotlib.pyplot as plt\n",
    "myfile=open('../data/exp_data.csv','r')\n",
    "\n",
    "x=np.array([])\n",
    "y=np.array([])\n",
    "\n",
    "iline=0\n",
    "for line in myfile:\n",
    "    if iline > 0:            \n",
    "        str=line.split(',')  \n",
    "        valx=eval(str[0])\n",
    "        valy=eval(str[1])\n",
    "        x=np.append(x,[valx])\n",
    "        y=np.append(y,[valy])\n",
    "        \n",
    "    iline=iline+1\n",
    "myfile.close() \n",
    "D=2\n",
    "N=x.shape[0]\n",
    "\n",
    "print('#    i','     a_i')\n",
    "a=np.polyfit(x,y,D-2)\n",
    "for i in range(D-2):\n",
    "    print('{:6d}{:15.8f}'.format(i,a[i]))\n",
    "\n",
    "p = np.poly1d(a)\n",
    "print(\"\\nThe fitted polynomial is \\n\",p,\"\\n\\n\")\n",
    "\n",
    "yfit=np.polyval(a,x)\n",
    "\n",
    "err=y-yfit\n",
    "abs_err = np.abs(y-yfit)\n",
    "max_abs_err=np.max(abs_err)\n",
    "perc_err=np.abs( abs_err/y ) *100\n",
    "\n",
    "print('#    i','     x_i           y_i             y_i (fit)      error          |error|      % error')\n",
    "for i in range(N):\n",
    "    print('{:6d}{:15.8f}{:15.8f}{:15.8f}{:15.8f}{:15.8f}{:15.8f}'.format(i,x[i],y[i],yfit[i],err[i],abs_err[i],perc_err[i]))\n",
    "plt.plot(x,y,'o',color='r',linewidth=1,label='y$^{exact}$')\n",
    "plt.plot(x,yfit,'x',color='b',linewidth=1)\n",
    "plt.grid('color=black')\n",
    "\n",
    "xgrids=np.linspace(0,7, 51)\n",
    "ygridsfit=np.polyval(a,xgrids)\n",
    "\n",
    "plt.plot(xgrids,ygridsfit,'-',color='b',linewidth=1,label='y$^{fitted}$')\n",
    "\n",
    "plt.legend()\n",
    "\n",
    "plt.xlabel(\"flow rate millilitre per minute\")\n",
    "plt.ylabel(\"Height in millilitre\")\n",
    "plt.title('Gas chromatography exercise')\n",
    "\n",
    "plt.savefig('classwork1.pdf')  \n",
    "\n",
    "#=== display\n",
    "plt.show()\n",
    "print('No. of data points, N: ', N)\n",
    "print('Degree of the polynomial, D: ', D)\n",
    "\n",
    "#Mean absolute error\n",
    "mae=np.mean(abs_err)\n",
    "print(\"Mean absolute error: \", mae)\n",
    "print(\"Max absolute error:\",max_abs_err)\n",
    "\n",
    "# Centralized error\n",
    "cerr=err-np.mean(err)\n",
    "\n",
    "# Variance\n",
    "var=np.mean(cerr**2)\n",
    "\n",
    "# Standard deviation\n",
    "std=np.sqrt(var)\n",
    "print(\"Standard deviation:  \", std)\n",
    "\n",
    "# Numpy's standard deviation\n",
    "std=np.std(err)\n",
    "print(\"Standard deviation using numpy: \", std)\n",
    "my_rho = np.corrcoef(y, yfit)[0,1]  #check what is [0,1]\n",
    "print('Pearson correlation coefficient is: ', my_rho)\n",
    "var=np.sum(cerr**2)/(N-D-1.0)\n",
    "std=np.sqrt(var)\n",
    "print(\"Standard deviation of polynomial fit [upper bound]: \", std)\n",
    " "
   ]
  },
  {
   "cell_type": "markdown",
   "id": "a88662c4",
   "metadata": {},
   "source": [
    "## Plot"
   ]
  },
  {
   "cell_type": "code",
   "execution_count": 2,
   "id": "75d5f56b",
   "metadata": {},
   "outputs": [],
   "source": [
    "# Plot here"
   ]
  },
  {
   "cell_type": "markdown",
   "id": "3530209b",
   "metadata": {},
   "source": [
    "## Accuracy of the fit"
   ]
  },
  {
   "cell_type": "code",
   "execution_count": 4,
   "id": "fe368dda",
   "metadata": {},
   "outputs": [
    {
     "ename": "SyntaxError",
     "evalue": "EOL while scanning string literal (2847761334.py, line 3)",
     "output_type": "error",
     "traceback": [
      "\u001b[1;36m  Input \u001b[1;32mIn [4]\u001b[1;36m\u001b[0m\n\u001b[1;33m    print(' 0.0005972  0.08131  8.183 0.9433968906089178     1.4793293013660715   0.5346935346763119\u001b[0m\n\u001b[1;37m                                                                                                    ^\u001b[0m\n\u001b[1;31mSyntaxError\u001b[0m\u001b[1;31m:\u001b[0m EOL while scanning string literal\n"
     ]
    }
   ],
   "source": [
    "print('======================================')\n",
    "print('      A     B          C    MAD                    RMSD                 Pearson coeffcient')\n",
    "print('0.0005972  0.08131  8.183 0.9433968906089178    1.4793293013660715   0.5346935346763119\n",
    "   ')"
   ]
  },
  {
   "cell_type": "markdown",
   "id": "17918175",
   "metadata": {},
   "source": [
    "| A       | B       | C       | MAD     | RMSD    | Pearson coefficient |\n",
    "|---------|---------|---------|---------|---------|---------------------|\n",
    "| xx.xxxx | xx.xxxx | xx.xxxx | xx.xxxx | xx.xxxx | xx.xxxx             |"
   ]
  }
 ],
 "metadata": {
  "kernelspec": {
   "display_name": "Python 3 (ipykernel)",
   "language": "python",
   "name": "python3"
  },
  "language_info": {
   "codemirror_mode": {
    "name": "ipython",
    "version": 3
   },
   "file_extension": ".py",
   "mimetype": "text/x-python",
   "name": "python",
   "nbconvert_exporter": "python",
   "pygments_lexer": "ipython3",
   "version": "3.8.10"
  }
 },
 "nbformat": 4,
 "nbformat_minor": 5
}
