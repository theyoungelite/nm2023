{
 "cells": [
  {
   "cell_type": "markdown",
   "id": "4b8fdd6d",
   "metadata": {},
   "source": [
    "# Content:\n",
    "1. [Integer overflow](#integer-overflow)\n",
    "2. [Finding the cube root](#cube-root)\n",
    "3. [The river crossing problem](#river-crossing)"
   ]
  },
  {
   "cell_type": "markdown",
   "id": "e03c8577",
   "metadata": {},
   "source": [
    "# 1. <a name=\"integer-overflow\">Integer overflow</a>"
   ]
  },
  {
   "cell_type": "markdown",
   "id": "4698a335",
   "metadata": {},
   "source": [
    "## Bits and Bytes"
   ]
  },
  {
   "cell_type": "markdown",
   "id": "fb90da4e",
   "metadata": {},
   "source": [
    "* Bit (binary digit) is the fundamental unit of memory. A bit can be physically realized using a two-state device. Possible values a bit can store are the two states of the device, represented typically by 0 or 1.\n",
    "* A byte, B, (= 8 Bits) is a derived unit of memory. Much larger units\n",
    "that are multiples of bytes are commonly encountered in computational sciences.\n",
    "* RAM (Random Access Memory) is a computer’s primary storage device. The data stored in RAM will be deleted when the CPU is switched off. Hence RAM is said to have volatile memory. RAM consists of virtual address space (VAS), where each address is a numerical number (in binary, decimal, or hexadecimal representation). A 64-bit system uses 64-bit addresses. A 64-bit (8 B) laptop with 16 GB RAM can have 16x1024^3/8 = 2.14 × 10^9 addresses. Each address can hold only 1 Byte of data.\n",
    "* To simplify programming using numerical address (binary or hex- adecimal), programming languages have the concept of variables. A variable is a named location that can store a value of a particular type (integer, real, character, logical, etc). \n",
    "* For example, a Fortran statement like `integer :: A`, declares an integer data (of size 4 bytes) for which 4 addresses in the VAS will be reserved. The equivalent in Python is `numpy.int64(A)`"
   ]
  },
  {
   "cell_type": "markdown",
   "id": "4e03865e",
   "metadata": {},
   "source": [
    "## Integer bounds"
   ]
  },
  {
   "cell_type": "markdown",
   "id": "4c175db0",
   "metadata": {},
   "source": [
    "* An $N$-bit integer variable can be used to store any of the 2$N$ integers in the range −(2$N$−1) to (2$N$−1) − 1. A hypothetical 1-bit integer can only store the two integers −1, and 0.\n",
    "\n",
    "Let's see what is the range of integers, the default `int` datatype in Python can store."
   ]
  },
  {
   "cell_type": "code",
   "execution_count": 1,
   "id": "7c41963c",
   "metadata": {},
   "outputs": [
    {
     "data": {
      "text/plain": [
       "iinfo(min=-9223372036854775808, max=9223372036854775807, dtype=int64)"
      ]
     },
     "execution_count": 1,
     "metadata": {},
     "output_type": "execute_result"
    }
   ],
   "source": [
    "import numpy as np\n",
    "\n",
    "np.iinfo(int) # Bounds of the default integer on this system."
   ]
  },
  {
   "cell_type": "code",
   "execution_count": 2,
   "id": "d9e7f55c",
   "metadata": {},
   "outputs": [
    {
     "name": "stdout",
     "output_type": "stream",
     "text": [
      "-9223372036854775808 9223372036854775807\n"
     ]
    }
   ],
   "source": [
    "N=64; print(-2**(N-1), 2**(N-1)-1) "
   ]
  },
  {
   "cell_type": "markdown",
   "id": "dc511343",
   "metadata": {},
   "source": [
    "## Ariane 5 and the overflow-bug"
   ]
  },
  {
   "cell_type": "markdown",
   "id": "994e58d3",
   "metadata": {},
   "source": [
    "What this youtube video: https://www.youtube.com/watch?v=gp_D8r-2hwk"
   ]
  },
  {
   "cell_type": "code",
   "execution_count": 3,
   "id": "088d7465",
   "metadata": {},
   "outputs": [
    {
     "data": {
      "text/html": [
       "\n",
       "        <iframe\n",
       "            width=\"800\"\n",
       "            height=\"300\"\n",
       "            src=\"https://www.youtube.com/embed/gp_D8r-2hwk\"\n",
       "            frameborder=\"0\"\n",
       "            allowfullscreen\n",
       "        ></iframe>\n",
       "        "
      ],
      "text/plain": [
       "<IPython.lib.display.YouTubeVideo at 0x10fa996d0>"
      ]
     },
     "execution_count": 3,
     "metadata": {},
     "output_type": "execute_result"
    }
   ],
   "source": [
    "from IPython.display import YouTubeVideo\n",
    "\n",
    "YouTubeVideo('gp_D8r-2hwk', width=800, height=300)"
   ]
  },
  {
   "cell_type": "markdown",
   "id": "d309f123",
   "metadata": {},
   "source": [
    "Here is what the official investigation report (https://www.ima.umn.edu/∼arnold/disasters/ariane.html) says"
   ]
  },
  {
   "cell_type": "markdown",
   "id": "c6e29866",
   "metadata": {},
   "source": [
    "```On June 4, 1996 an unmanned Ariane 5 rocket launched by the European Space Agency exploded just forty seconds after its lift-off from Kourou, French Guiana. Ariane explosion The rocket was on its first voyage, after a decade of development costing $7 billion. The destroyed rocket and its cargo were valued at $500 million. A board of inquiry investigated the causes of the explosion and in two weeks issued a report.\n",
    "It turned out that the cause of the failure was a software error in the inertial reference system. Specifically a\n",
    "64 bit floating point number relating to the horizontal velocity of the rocket with respect to the platform was converted to a 16 bit signed integer. The number was larger than 32,767, the largest integer storeable in a 16 bit signed integer, and thus the conversion failed.```"
   ]
  },
  {
   "cell_type": "markdown",
   "id": "8ecb6093",
   "metadata": {},
   "source": [
    "The ’software-bug’ that was responsible for the failure of Ariane 5 is an overflow error, which arises when a variable declared as a low memory datatype (i.e. fewer addresses in the VAS) is assigned a numerical value requiring large memory (requiring more addresses in the VAS). Modern compilers (Fortran or C++) can detect such scenarios and either warn the user during compilation or simply fail to compile with a relevant error message. "
   ]
  },
  {
   "cell_type": "markdown",
   "id": "31605f2f",
   "metadata": {},
   "source": [
    "The following code demonstrates the overflow error discussed above by assigning an 4-byte (64 bit) integer to a 1-byte (8 bit) integer variable."
   ]
  },
  {
   "cell_type": "code",
   "execution_count": 4,
   "id": "217d5729",
   "metadata": {},
   "outputs": [
    {
     "name": "stdout",
     "output_type": "stream",
     "text": [
      "67\n"
     ]
    }
   ],
   "source": [
    "A=np.int8(323); print(A)"
   ]
  },
  {
   "cell_type": "markdown",
   "id": "1b5f47d4",
   "metadata": {},
   "source": [
    "The resulting program when executed returns the answer 67, which is the remainder in the integer divi- sion 323/256. Integer overflow happens when an $N$-bit variable is assigned a value that is either less than −$(2N−1)$ or greater than $(2N−1)$−1. Specifically, integer overflow causes the number to be reduced modulo a power of two — in our case after reaching 127, the couting starts at −128, goes through −127,−126, and so on, eventually ending at 67 as the three-hundred-and-twenty-third integer. \n",
    "The following xkcd cartoon (https://xkcd.com/571/) illustrates integer overflow in a humorous way."
   ]
  },
  {
   "attachments": {
    "cant_sleep.png": {
     "image/png": "[encoded data removed]"
    }
   },
   "cell_type": "markdown",
   "id": "1fefee71",
   "metadata": {},
   "source": [
    " ![cant_sleep.png](attachment:cant_sleep.png)"
   ]
  },
  {
   "cell_type": "markdown",
   "id": "03aad479",
   "metadata": {},
   "source": [
    "# 2. <a name=\"cube-root\">Finding the cube root</a>"
   ]
  },
  {
   "cell_type": "markdown",
   "id": "e83f928d",
   "metadata": {},
   "source": [
    "Let's see how to use fixed-point iteration to find the cube root of a number. As we have discussed, in this procedure in order to solve the problem $f(x)=0$, we have to express the problem as $x=g(x)$. Then, our working formula is $x_{k+1}=g(x_k)$. We will start with the initial guess for the solution, $x_0$, and then by iterating converge to a refined answer."
   ]
  },
  {
   "cell_type": "markdown",
   "id": "c03af0ac",
   "metadata": {},
   "source": [
    "The problem at hand is $x^3=N \\Rightarrow x^3-N=0$, and we want to find the root of this equation. So, let's first write it in the format $x=g(x)$. By a little bit of manipulation, we can get $x^2=N/x \\Rightarrow x=\\sqrt{N/x}$. "
   ]
  },
  {
   "cell_type": "code",
   "execution_count": 5,
   "id": "5bb7d90d",
   "metadata": {},
   "outputs": [],
   "source": [
    "def f(N,x):\n",
    "    val=x**3-N\n",
    "    return val\n",
    "\n",
    "def g(N,x):\n",
    "    val=np.sqrt(N/x)\n",
    "    return val"
   ]
  },
  {
   "cell_type": "code",
   "execution_count": 6,
   "id": "70ee615b",
   "metadata": {},
   "outputs": [
    {
     "name": "stdout",
     "output_type": "stream",
     "text": [
      "range(0, 5)\n"
     ]
    }
   ],
   "source": [
    "print(range(5))"
   ]
  },
  {
   "cell_type": "code",
   "execution_count": 7,
   "id": "8b0ad90b",
   "metadata": {},
   "outputs": [
    {
     "name": "stdout",
     "output_type": "stream",
     "text": [
      "0 2.23606797749979 1.1803398874989508\n",
      "1 2.114742526881128 -0.5425839099682435\n",
      "2 2.174559276040982 0.28285594297889816\n",
      "3 2.144442346687759 -0.13849670452788665\n",
      "4 2.1594483084632885 0.06997605600685652\n",
      "5 2.151932247574706 -0.0348054679481109\n",
      "6 2.155687002315689 0.017448294411751775\n",
      "7 2.153808806733035 -0.008712747168935664\n",
      "8 2.154747699882162 0.004359222351546066\n",
      "9 2.1542782021581965 -0.002178898828811171\n",
      "10 2.1545129382314356 0.0010896274817433493\n",
      "11 2.154395566997804 -0.0005447692216158373\n",
      "12 2.1544542518153453 0.00027239574031945324\n",
      "13 2.1544249092067584 -0.00013619508774631583\n",
      "14 2.154439580461098 6.809823947406812e-05\n",
      "15 2.1544322448214395 -3.4048945837028555e-05\n",
      "16 2.1544359126381463 1.702451639040703e-05\n",
      "17 2.154434078729013 -8.51224732301148e-06\n",
      "18 2.1544349956833844 4.256126381108061e-06\n",
      "19 2.1544345372061495 -2.1280625137620746e-06\n",
      "20 2.154434766444755 1.0640314265231154e-06\n",
      "21 2.154434651825449 -5.320156741817073e-07\n",
      "22 2.1544347091351015 2.660078486371731e-07\n",
      "23 2.154434680480275 -1.3300392076587286e-07\n",
      "24 2.154434694807688 6.650195949475801e-08\n",
      "25 2.1544346876439815 -3.3250980635557426e-08\n",
      "26 2.154434691225835 1.6625492094135552e-08\n",
      "27 2.154434689434908 -8.312747823424615e-09\n",
      "28 2.1544346903303717 4.1563747998907274e-09\n",
      "29 2.1544346898826396 -2.0781882881237834e-09\n",
      "30 2.154434690106506 1.0390959204187311e-09\n",
      "31 2.1544346899945728 -5.195470720309459e-10\n",
      "32 2.154434690050539 2.5977264783705323e-10\n",
      "33 2.154434690022556 -1.2988365938326751e-10\n",
      "34 2.1544346900365476 6.494360604847316e-11\n",
      "35 2.154434690029552 -3.247002666739718e-11\n",
      "36 2.1544346900330495 1.623412515527889e-11\n",
      "37 2.1544346900313007 -8.117950756059145e-12\n",
      "38 2.154434690032175 4.057199021190172e-12\n",
      "39 2.154434690031738 -2.0268231537556858e-12\n",
      "40 2.1544346900319566 1.0160761121369433e-12\n",
      "41 2.1544346900318474 -5.062616992290714e-13\n",
      "42 2.154434690031902 2.540190280342358e-13\n",
      "43 2.1544346900318745 -1.2789769243681803e-13\n",
      "44 2.1544346900318883 6.394884621840902e-14\n",
      "45 2.1544346900318816 -3.019806626980426e-14\n",
      "46 2.1544346900318847 1.4210854715202004e-14\n",
      "47 2.1544346900318834 -5.329070518200751e-15\n",
      "48 2.154434690031884 1.7763568394002505e-15\n",
      "49 2.154434690031884 1.7763568394002505e-15\n"
     ]
    }
   ],
   "source": [
    "N=10   # because we want to find the cube root of 10\n",
    "Max_iter=50\n",
    "x=2  # initial value of x\n",
    "\n",
    "for iter in range(0,Max_iter):\n",
    "    x=g(N,x)  # x is assigned a new value, xnew = g(xold)\n",
    "    fn=f(N,x)\n",
    "    print(iter,x,fn)"
   ]
  },
  {
   "cell_type": "code",
   "execution_count": 8,
   "id": "3f0098a8",
   "metadata": {},
   "outputs": [
    {
     "name": "stdout",
     "output_type": "stream",
     "text": [
      "2.154434690031884\n"
     ]
    }
   ],
   "source": [
    "print(N**(1/3))"
   ]
  },
  {
   "cell_type": "markdown",
   "id": "9c422e48",
   "metadata": {},
   "source": [
    "We can see that in 50 iterations, we have arrived at the desired value of the cube root of 10. Again, it is possible to improve the code in so many different ways. To begin with, we can again use the `while` loop. "
   ]
  },
  {
   "cell_type": "code",
   "execution_count": 9,
   "id": "8b2efbe8",
   "metadata": {},
   "outputs": [
    {
     "name": "stdout",
     "output_type": "stream",
     "text": [
      "1 2.23606797749979 1.1803398874989508\n",
      "2 2.114742526881128 -0.5425839099682435\n",
      "3 2.174559276040982 0.28285594297889816\n",
      "4 2.144442346687759 -0.13849670452788665\n",
      "5 2.1594483084632885 0.06997605600685652\n",
      "6 2.151932247574706 -0.0348054679481109\n",
      "7 2.155687002315689 0.017448294411751775\n",
      "8 2.153808806733035 -0.008712747168935664\n",
      "9 2.154747699882162 0.004359222351546066\n",
      "10 2.1542782021581965 -0.002178898828811171\n",
      "11 2.1545129382314356 0.0010896274817433493\n",
      "12 2.154395566997804 -0.0005447692216158373\n",
      "13 2.1544542518153453 0.00027239574031945324\n",
      "14 2.1544249092067584 -0.00013619508774631583\n",
      "15 2.154439580461098 6.809823947406812e-05\n",
      "16 2.1544322448214395 -3.4048945837028555e-05\n",
      "17 2.1544359126381463 1.702451639040703e-05\n",
      "18 2.154434078729013 -8.51224732301148e-06\n",
      "19 2.1544349956833844 4.256126381108061e-06\n",
      "20 2.1544345372061495 -2.1280625137620746e-06\n",
      "21 2.154434766444755 1.0640314265231154e-06\n",
      "22 2.154434651825449 -5.320156741817073e-07\n",
      "23 2.1544347091351015 2.660078486371731e-07\n",
      "24 2.154434680480275 -1.3300392076587286e-07\n",
      "25 2.154434694807688 6.650195949475801e-08\n",
      "26 2.1544346876439815 -3.3250980635557426e-08\n"
     ]
    }
   ],
   "source": [
    "N=10\n",
    "x=2\n",
    "xthresh=1e-8 # threshold accuracy to which we want to converge our root\n",
    "\n",
    "\n",
    "#dx=x\n",
    "dx=999999  # choose initial dx as a fairly large number\n",
    "\n",
    "iter=0\n",
    "while dx>xthresh:\n",
    "    iter+=1   # iter = iter + 1\n",
    "    gn=g(N,x)\n",
    "    dx=abs(x-gn)\n",
    "    x=gn\n",
    "    fn=f(N,x)\n",
    "    print(iter,x,fn)"
   ]
  },
  {
   "cell_type": "markdown",
   "id": "e749547c",
   "metadata": {},
   "source": [
    "We can change the code a little bit to print our ouput in a pretty format "
   ]
  },
  {
   "cell_type": "code",
   "execution_count": 10,
   "id": "c6137b1d",
   "metadata": {},
   "outputs": [
    {
     "name": "stdout",
     "output_type": "stream",
     "text": [
      "======================================\n",
      "Iterations    x               f(x)\n",
      "======================================\n",
      "    1       2.23606798      1.18033989\n",
      "    2       2.11474253     -0.54258391\n",
      "    3       2.17455928      0.28285594\n",
      "    4       2.14444235     -0.13849670\n",
      "    5       2.15944831      0.06997606\n",
      "    6       2.15193225     -0.03480547\n",
      "    7       2.15568700      0.01744829\n",
      "    8       2.15380881     -0.00871275\n",
      "    9       2.15474770      0.00435922\n",
      "   10       2.15427820     -0.00217890\n",
      "   11       2.15451294      0.00108963\n",
      "   12       2.15439557     -0.00054477\n",
      "   13       2.15445425      0.00027240\n",
      "   14       2.15442491     -0.00013620\n",
      "   15       2.15443958      0.00006810\n",
      "   16       2.15443224     -0.00003405\n",
      "   17       2.15443591      0.00001702\n",
      "   18       2.15443408     -0.00000851\n",
      "   19       2.15443500      0.00000426\n",
      "   20       2.15443454     -0.00000213\n",
      "   21       2.15443477      0.00000106\n",
      "   22       2.15443465     -0.00000053\n",
      "   23       2.15443471      0.00000027\n",
      "   24       2.15443468     -0.00000013\n",
      "   25       2.15443469      0.00000007\n",
      "   26       2.15443469     -0.00000003\n"
     ]
    }
   ],
   "source": [
    "N=10\n",
    "x=2\n",
    "xthresh=1e-8 # threshold accuracy to which we want to converge our root\n",
    "\n",
    "dx=x\n",
    "\n",
    "iter=0\n",
    "\n",
    "print('======================================')\n",
    "print('Iterations    x               f(x)')\n",
    "print('======================================')\n",
    "while dx>xthresh: \n",
    "    iter+=1\n",
    "    gn=g(N,x)\n",
    "    dx=abs(x-gn)\n",
    "    x=gn\n",
    "    fn=f(N,x)\n",
    "    print('{:5d}  {:15.8f} {:15.8f}'.format(iter,x,fn))"
   ]
  },
  {
   "cell_type": "markdown",
   "id": "6f2bba2d",
   "metadata": {},
   "source": [
    "# 3. <a name=\"river-crossing\">The river crossing problem</a>"
   ]
  },
  {
   "cell_type": "markdown",
   "id": "b7a41b8e",
   "metadata": {},
   "source": [
    "This classic problem needs no description. But, for those who have forgotten here it is "
   ]
  },
  {
   "attachments": {
    "farmer-wolf-goat-cabbage.png": {
     "image/png": "[encoded data removed]"
    }
   },
   "cell_type": "markdown",
   "id": "bfcd3602",
   "metadata": {},
   "source": [
    "![farmer-wolf-goat-cabbage.png](attachment:farmer-wolf-goat-cabbage.png)   \n",
    "Source: https://mark-borg.github.io/blog/2016/river-crossing-puzzles/"
   ]
  },
  {
   "cell_type": "markdown",
   "id": "a7f6d7dd",
   "metadata": {},
   "source": [
    "```\n",
    "Once upon a time, there was a Farmer who had a tiny boat. The boat was so tiny that it could only take the Farmer himself and one additional passenger. He wanted to move a Wolf, a Goat and a Cabbage across a river with his tiny boat. \n",
    "\n",
    "When the Farmer is around, everyone is safe, the Wolf will not eat the Goat, the Goat will not eat the Cabbage.\n",
    "\n",
    "But he can’t leave the Wolf alone with the Goat because the Wolf will eat the Goat. He can’t leave the Goat alone with the Cabbage because the Goat will eat the Cabbage.\n",
    "\n",
    "And of course he can only fit one more object with him on the boat (either the Wolf, the Goat or the Cabbage).\n",
    "\n",
    "The question is: How can he safely transport the three of them to the other side of the river?\n",
    "```"
   ]
  },
  {
   "cell_type": "markdown",
   "id": "d8685337",
   "metadata": {},
   "source": [
    "Can we find the answer by programming? Let's make an attempt. "
   ]
  },
  {
   "cell_type": "markdown",
   "id": "230b8830",
   "metadata": {},
   "source": [
    "What we are trying to find is a sequence of `state`, where a state tells us the positions (Left or Right to the river), of all four characters. \n",
    "\n",
    "So, we know what a brute-force solution can be. We will have to make a `function` that tells us if a `state` is allowed or not. Then, for an initial `state`, we find out what can be the next allowed `state`. \n",
    "\n",
    "In the beginning, all are on the left bank of the river, so we have `state=['L','L','L','L']`. \n",
    "\n",
    "_Where, we assume that the order of the characters are Farmer, Cabbage, Goat, and Wolf._\n",
    "\n",
    "Our program must give us the sequence as follows.\n",
    "\n",
    "`['L','L','L','L']`   \n",
    "`...`   \n",
    "`...`   \n",
    "`['R','R','R','R']`"
   ]
  },
  {
   "cell_type": "markdown",
   "id": "845184d5",
   "metadata": {},
   "source": [
    "Let's write a `function` that tells us whether a state is allowed or not. Instead of writing the complete function, let's start with something, figure out how Python works, and how to `call` the function and so on."
   ]
  },
  {
   "cell_type": "code",
   "execution_count": 11,
   "id": "2691420f",
   "metadata": {},
   "outputs": [],
   "source": [
    "def allowed_or_not(A):\n",
    "    #\n",
    "    # We are going to assume that the order of the characters are Farmer, Cabbage, Goat, and Wolf.\n",
    "    #\n",
    "    \n",
    "    val=True # We are assigning a logical data type which can take only two values (True or False)\n",
    "    \n",
    "    # Suppose the cabbage and goat are on the same side, but the farmer is on the other side\n",
    "    if A[1] == A[2] and A[1] != A[0]:\n",
    "        val=False\n",
    "    return val"
   ]
  },
  {
   "cell_type": "code",
   "execution_count": 12,
   "id": "4f92884b",
   "metadata": {},
   "outputs": [
    {
     "name": "stdout",
     "output_type": "stream",
     "text": [
      "True\n"
     ]
    }
   ],
   "source": [
    "State=['L','L','L','L']\n",
    "status=allowed_or_not(State)\n",
    "print(status)"
   ]
  },
  {
   "cell_type": "code",
   "execution_count": 13,
   "id": "d9b72442",
   "metadata": {},
   "outputs": [
    {
     "name": "stdout",
     "output_type": "stream",
     "text": [
      "The state is allowed\n"
     ]
    }
   ],
   "source": [
    "if status:  # if status == True:\n",
    "    print('The state is allowed')"
   ]
  },
  {
   "cell_type": "code",
   "execution_count": 14,
   "id": "efad9a59",
   "metadata": {},
   "outputs": [
    {
     "name": "stdout",
     "output_type": "stream",
     "text": [
      "False\n"
     ]
    }
   ],
   "source": [
    "State=['L','R','R','L']\n",
    "status=allowed_or_not(State)\n",
    "print(status)"
   ]
  },
  {
   "cell_type": "markdown",
   "id": "d9c9d37c",
   "metadata": {},
   "source": [
    "Let's add more conditions to the function."
   ]
  },
  {
   "cell_type": "code",
   "execution_count": 15,
   "id": "bb3ad718",
   "metadata": {},
   "outputs": [],
   "source": [
    "def allowed_or_not(A):\n",
    "    \n",
    "    # We are going to assume that the order of the characters are Farmer, Cabbage, Goat, and Wolf.\n",
    "    # The output of the function is a logical data type which can take only two values (True or False).\n",
    "    \n",
    "    # Suppose the cabbage and the goat are on the same side, but the farmer is on the other side\n",
    "    if A[1] == A[2] and A[1] != A[0]:\n",
    "        val=False\n",
    "    # Suppose the goat and the wolf are on the same side, but the farmer is on the other side\n",
    "    elif A[2] == A[3] and A[2] != A[0]:\n",
    "        val=False\n",
    "    else:\n",
    "        val=True # All other states are allowed\n",
    "    \n",
    "    #if (val):\n",
    "        #print(A, ' is an allowed state')\n",
    "        \n",
    "    return val"
   ]
  },
  {
   "cell_type": "markdown",
   "id": "c1e2e07d",
   "metadata": {},
   "source": [
    "Now let's use the function `allowed_or_not` and try to solve the problem, step-by-step."
   ]
  },
  {
   "cell_type": "code",
   "execution_count": 16,
   "id": "7298655d",
   "metadata": {},
   "outputs": [],
   "source": [
    "# Initial state\n",
    "State0=['L','L','L','L']\n",
    "\n",
    "# Now let's try all possible moves from the initial state\n",
    "# We know that the maximum number of changes we can make is two (that is the maximum number the boat can carry)\n",
    "# So, we will ensure that we never change more than two elements of `State`"
   ]
  },
  {
   "cell_type": "code",
   "execution_count": 17,
   "id": "499369a0",
   "metadata": {},
   "outputs": [
    {
     "name": "stdout",
     "output_type": "stream",
     "text": [
      "False\n"
     ]
    }
   ],
   "source": [
    "i=0 # 0 is Farmer\n",
    "j=1 # 1 is Cabbage\n",
    "\n",
    "State=State0.copy() # Note this line. We are doing a deep copy. Read about deep copy.\n",
    "State[i]='R' # Farmer crosses \n",
    "status=allowed_or_not(State)\n",
    "print(status)"
   ]
  },
  {
   "cell_type": "code",
   "execution_count": 18,
   "id": "a6c0b1cd",
   "metadata": {},
   "outputs": [
    {
     "name": "stdout",
     "output_type": "stream",
     "text": [
      "True\n"
     ]
    }
   ],
   "source": [
    "State=State0.copy()\n",
    "State[j]='R' # Cabbage crosses \n",
    "status=allowed_or_not(State)\n",
    "print(status)"
   ]
  },
  {
   "cell_type": "code",
   "execution_count": 19,
   "id": "8e8925a5",
   "metadata": {},
   "outputs": [
    {
     "name": "stdout",
     "output_type": "stream",
     "text": [
      "False\n"
     ]
    }
   ],
   "source": [
    "State=State0.copy()\n",
    "State[i]='R' # Farmer crosses \n",
    "State[j]='R' # Cabbage crosses\n",
    "status=allowed_or_not(State)\n",
    "print(status)"
   ]
  },
  {
   "cell_type": "markdown",
   "id": "4b15187f",
   "metadata": {},
   "source": [
    "At this point, we have learned a lesson! \n",
    "\n",
    "We have to write another function that tells us that the cabbage, the goat or the wolf cannot cross the river alone. \n",
    "\n",
    "This means that if only one position changes from 'L' or 'R', then it must correspond to that of the farmer."
   ]
  },
  {
   "cell_type": "code",
   "execution_count": 20,
   "id": "ab470e09",
   "metadata": {},
   "outputs": [
    {
     "name": "stdout",
     "output_type": "stream",
     "text": [
      "['L', 'L', 'L', 'L'] ['L', 'R', 'L', 'L']\n",
      "1\n"
     ]
    }
   ],
   "source": [
    "i=0 # 0 is Farmer\n",
    "j=1 # 1 is Cabbage\n",
    "State=State0.copy()\n",
    "State[j]='R' # Cabbage crosses \n",
    "\n",
    "print(State0, State)\n",
    "\n",
    "N_diff_State=0\n",
    "for i in range(len(State0)):\n",
    "    if State0[i] != State[i]:\n",
    "        N_diff_State=N_diff_State+1\n",
    "\n",
    "print(N_diff_State)"
   ]
  },
  {
   "cell_type": "markdown",
   "id": "f9ff8b1e",
   "metadata": {},
   "source": [
    "which means, one element in the current `State` is new compared to the previous one."
   ]
  },
  {
   "cell_type": "code",
   "execution_count": 21,
   "id": "05d1de05",
   "metadata": {},
   "outputs": [],
   "source": [
    "def allowed_move(State_i, State_f):\n",
    "\n",
    "    N_diff_State=0\n",
    "    for i in range(len(State_i)):\n",
    "        if State_i[i] != State_f[i]:\n",
    "            N_diff_State=N_diff_State+1\n",
    "\n",
    "    if State_i[0] == State_f[0] and N_diff_State >= 1: # Farmer is not changing, but 1 or more characters are crossing\n",
    "        val=False\n",
    "    else:\n",
    "        val=True\n",
    "        \n",
    "    return val"
   ]
  },
  {
   "cell_type": "code",
   "execution_count": 22,
   "id": "83fe59fc",
   "metadata": {},
   "outputs": [
    {
     "name": "stdout",
     "output_type": "stream",
     "text": [
      "False\n"
     ]
    }
   ],
   "source": [
    "i=0 # 0 is Farmer\n",
    "j=1 # 1 is Cabbage\n",
    "State_i=State0.copy()\n",
    "State_f=State0.copy()\n",
    "State_f[j]='R' # Cabbage crosses \n",
    "    \n",
    "status_move=allowed_move(State_i, State_f)\n",
    "print(status_move)"
   ]
  },
  {
   "cell_type": "markdown",
   "id": "3f185296",
   "metadata": {},
   "source": [
    "The `False` above means that cabbage crossing the river alone is not an allowed move!"
   ]
  },
  {
   "cell_type": "markdown",
   "id": "9f753379",
   "metadata": {},
   "source": [
    "Now, for every move, only when `status_move` is True, we will check `status` (which is the status of everybody's position). "
   ]
  },
  {
   "cell_type": "code",
   "execution_count": 23,
   "id": "db772621",
   "metadata": {},
   "outputs": [
    {
     "name": "stdout",
     "output_type": "stream",
     "text": [
      "['L', 'L', 'L', 'L']\n"
     ]
    }
   ],
   "source": [
    "print(State0)"
   ]
  },
  {
   "cell_type": "code",
   "execution_count": 24,
   "id": "bbf83e4f",
   "metadata": {},
   "outputs": [],
   "source": [
    "i=0 # 0 is Farmer\n",
    "j=1 # 1 is Cabbage"
   ]
  },
  {
   "cell_type": "code",
   "execution_count": 25,
   "id": "d239113b",
   "metadata": {},
   "outputs": [
    {
     "name": "stdout",
     "output_type": "stream",
     "text": [
      "['L', 'L', 'L', 'L'] ['R', 'L', 'L', 'L']\n",
      "False\n"
     ]
    }
   ],
   "source": [
    "State_i=State0.copy() \n",
    "State_f=State_i.copy()\n",
    "\n",
    "State_f[i]='R' # Farmer crosses \n",
    "\n",
    "print(State_i, State_f)\n",
    "\n",
    "status_move=allowed_move(State_i, State_f)\n",
    "\n",
    "if (status_move):\n",
    "    status=allowed_or_not(State_f)\n",
    "    print(status)"
   ]
  },
  {
   "cell_type": "markdown",
   "id": "ca3a0045",
   "metadata": {},
   "source": [
    "See, here the move is allowed because the farmer can cross the river alone, but the final status where the other three characters are together is not allowed."
   ]
  },
  {
   "cell_type": "code",
   "execution_count": 26,
   "id": "7a137261",
   "metadata": {},
   "outputs": [
    {
     "name": "stdout",
     "output_type": "stream",
     "text": [
      "['L', 'L', 'L', 'L'] ['R', 'R', 'L', 'L']\n",
      "False\n"
     ]
    }
   ],
   "source": [
    "State_i=State0.copy() \n",
    "State_f=State_i.copy()\n",
    "\n",
    "State_f[i]='R' # Farmer crosses \n",
    "State_f[j]='R' # Cabbage crosses \n",
    "\n",
    "print(State_i, State_f)\n",
    "\n",
    "status_move=allowed_move(State_i, State_f)\n",
    "\n",
    "if (status_move):\n",
    "    status=allowed_or_not(State_f)\n",
    "    print(status)"
   ]
  },
  {
   "cell_type": "code",
   "execution_count": 27,
   "id": "b5d71fae",
   "metadata": {},
   "outputs": [
    {
     "name": "stdout",
     "output_type": "stream",
     "text": [
      "['L', 'L', 'L', 'L'] ['L', 'R', 'L', 'L']\n"
     ]
    }
   ],
   "source": [
    "# We will never need this scenario that the cabbage crosses alone\n",
    "State_i=State0.copy() \n",
    "State_f=State_i.copy()\n",
    "\n",
    "State_f[j]='R' # Cabbage crosses \n",
    "\n",
    "print(State_i, State_f)\n",
    "\n",
    "status_move=allowed_move(State_i, State_f)\n",
    "\n",
    "if (status_move):\n",
    "    status=allowed_or_not(State_f)\n",
    "    print(status)"
   ]
  },
  {
   "cell_type": "markdown",
   "id": "d46a9d1b",
   "metadata": {},
   "source": [
    "Here the status is not printed because, the move (cabbage crossing alone) is not allowed."
   ]
  },
  {
   "cell_type": "code",
   "execution_count": 28,
   "id": "cea99ffe",
   "metadata": {},
   "outputs": [],
   "source": [
    "i=0 # 0 is Farmer\n",
    "j=2 # 2 is Goat"
   ]
  },
  {
   "cell_type": "code",
   "execution_count": 29,
   "id": "1fb6f90d",
   "metadata": {},
   "outputs": [
    {
     "name": "stdout",
     "output_type": "stream",
     "text": [
      "['L', 'L', 'L', 'L'] ['R', 'L', 'L', 'L']\n",
      "False\n"
     ]
    }
   ],
   "source": [
    "State_i=State0.copy() \n",
    "State_f=State_i.copy()\n",
    "\n",
    "State_f[i]='R' # Farmer crosses \n",
    "\n",
    "print(State_i, State_f)\n",
    "\n",
    "status_move=allowed_move(State_i, State_f)\n",
    "\n",
    "if (status_move):\n",
    "    status=allowed_or_not(State_f)\n",
    "    print(status)"
   ]
  },
  {
   "cell_type": "code",
   "execution_count": 30,
   "id": "e69f7782",
   "metadata": {},
   "outputs": [
    {
     "name": "stdout",
     "output_type": "stream",
     "text": [
      "['L', 'L', 'L', 'L'] ['R', 'L', 'R', 'L']\n",
      "True\n"
     ]
    }
   ],
   "source": [
    "State_i=State0.copy() \n",
    "State_f=State_i.copy()\n",
    "\n",
    "State_f[i]='R' # Farmer crosses \n",
    "State_f[j]='R' # Goat crosses \n",
    "\n",
    "print(State_i, State_f)\n",
    "\n",
    "status_move=allowed_move(State_i, State_f)\n",
    "\n",
    "if (status_move):\n",
    "    status=allowed_or_not(State_f)\n",
    "    print(status)"
   ]
  },
  {
   "cell_type": "markdown",
   "id": "8e3068c0",
   "metadata": {},
   "source": [
    "`True' above means that we have made our first move successfully. Farmer and goat have crossed the river."
   ]
  },
  {
   "cell_type": "markdown",
   "id": "e7d8dab4",
   "metadata": {},
   "source": [
    "Let us now loop over all pairwise combinations. Here is an example of a `for` loop."
   ]
  },
  {
   "cell_type": "code",
   "execution_count": 31,
   "id": "e3b87051",
   "metadata": {},
   "outputs": [
    {
     "name": "stdout",
     "output_type": "stream",
     "text": [
      "0 1\n",
      "0 2\n",
      "0 3\n",
      "1 2\n",
      "1 3\n",
      "2 3\n"
     ]
    }
   ],
   "source": [
    "for i in range(4):\n",
    "    for j in range(i+1,4):\n",
    "        print(i,j)"
   ]
  },
  {
   "cell_type": "markdown",
   "id": "ae893799",
   "metadata": {},
   "source": [
    "We will need another function which swaps the value from 'L' to 'R' and vice versa. We need this function to allow the possibility that the farmer can return from 'R' to 'L'."
   ]
  },
  {
   "cell_type": "code",
   "execution_count": 32,
   "id": "b67581b8",
   "metadata": {},
   "outputs": [],
   "source": [
    "def state_swap(State,ival):\n",
    "    oldval=State[ival]\n",
    "    if oldval=='L':\n",
    "        State[ival]='R'\n",
    "    elif oldval=='R':\n",
    "        State[ival]='L'\n",
    "    else:\n",
    "        print('Unknown status encountered in function state_swap')\n",
    "    return State"
   ]
  },
  {
   "cell_type": "markdown",
   "id": "4260840b",
   "metadata": {},
   "source": [
    "Let's see how the above function works."
   ]
  },
  {
   "cell_type": "code",
   "execution_count": 33,
   "id": "0aedba37",
   "metadata": {},
   "outputs": [
    {
     "name": "stdout",
     "output_type": "stream",
     "text": [
      "['R', 'L', 'L', 'L']\n",
      "['L', 'L', 'L', 'L']\n",
      "['R', 'L', 'L', 'L']\n"
     ]
    }
   ],
   "source": [
    "State_i=State0.copy()\n",
    "State_i=state_swap(State_i,0)\n",
    "print(State_i)\n",
    "State_i=state_swap(State_i,0)\n",
    "print(State_i)\n",
    "State_i=state_swap(State_i,0)\n",
    "print(State_i)"
   ]
  },
  {
   "cell_type": "code",
   "execution_count": 34,
   "id": "e5e450a7",
   "metadata": {},
   "outputs": [
    {
     "name": "stdout",
     "output_type": "stream",
     "text": [
      "0 2 True ['L', 'L', 'L', 'L'] ['R', 'L', 'R', 'L']\n",
      "0 3 True ['R', 'L', 'R', 'L'] ['L', 'L', 'R', 'L']\n",
      "0 3 True ['L', 'L', 'R', 'L'] ['R', 'L', 'R', 'R']\n"
     ]
    }
   ],
   "source": [
    "State_i=State0.copy() # Initial state\n",
    "\n",
    "i = 0 # i is always the farmer\n",
    "\n",
    "for j in range(1,4):\n",
    "        \n",
    "        # Farmer crossing alone\n",
    "        State_f=State_i.copy() \n",
    "        State_f=state_swap(State_f,i)\n",
    "        status_move=allowed_move(State_i, State_f)\n",
    "\n",
    "        if (status_move):\n",
    "            status=allowed_or_not(State_f)\n",
    "            if (status):\n",
    "                print(i,j,status,State_i, State_f)\n",
    "                State_i=State_f        \n",
    "        \n",
    "        # Farmer crossing with another character\n",
    "        State_f=State_i.copy() \n",
    "        State_f=state_swap(State_f,i)\n",
    "        State_f=state_swap(State_f,j)\n",
    "        status_move=allowed_move(State_i, State_f)\n",
    "\n",
    "        if (status_move):\n",
    "            status=allowed_or_not(State_f)\n",
    "            if (status):\n",
    "                print(i,j,status,State_i, State_f)\n",
    "                State_i=State_f    "
   ]
  },
  {
   "cell_type": "markdown",
   "id": "77550a57",
   "metadata": {},
   "source": [
    "Step1: Farmer and Goat cross    \n",
    "Step2: Farmer returns     \n",
    "Step3: Farmer and tiger cross  \n",
    "\n",
    "So far, we have found the sequence in agreement with our intuition."
   ]
  },
  {
   "cell_type": "markdown",
   "id": "efff8f79",
   "metadata": {},
   "source": [
    "_Now we are in an interesting situation! We have run over all indices but we want the farmer to go back. \n",
    "What to do next?_"
   ]
  },
  {
   "cell_type": "markdown",
   "id": "0035b08e",
   "metadata": {},
   "source": [
    "Well, we will repeat the entire process again. \n",
    "\n",
    "That means, we have to do one more iteration!"
   ]
  },
  {
   "cell_type": "code",
   "execution_count": 35,
   "id": "08fa87fe",
   "metadata": {},
   "outputs": [
    {
     "name": "stdout",
     "output_type": "stream",
     "text": [
      "0 2 True ['R', 'L', 'R', 'R'] ['L', 'L', 'L', 'R']\n"
     ]
    }
   ],
   "source": [
    "for j in range(1,4):\n",
    "            \n",
    "        State_f=State_i.copy() \n",
    "        State_f=state_swap(State_f,i)\n",
    "        status_move=allowed_move(State_i, State_f)\n",
    "\n",
    "        if (status_move):\n",
    "            status=allowed_or_not(State_f)\n",
    "            if (status):\n",
    "                print(i,j,status,State_i, State_f)\n",
    "                State_i=State_f\n",
    "                    \n",
    "        State_f=State_i.copy() \n",
    "        State_f=state_swap(State_f,i)\n",
    "        State_f=state_swap(State_f,j)\n",
    "        status_move=allowed_move(State_i, State_f)\n",
    "\n",
    "        if (status_move):\n",
    "            status=allowed_or_not(State_f)\n",
    "            if (status):\n",
    "                print(i,j,status,State_i, State_f)\n",
    "                State_i=State_f"
   ]
  },
  {
   "cell_type": "markdown",
   "id": "715e8282",
   "metadata": {},
   "source": [
    "Step4: Farmer returns"
   ]
  },
  {
   "cell_type": "code",
   "execution_count": 36,
   "id": "d4757026",
   "metadata": {},
   "outputs": [
    {
     "name": "stdout",
     "output_type": "stream",
     "text": [
      "0 1 True ['L', 'L', 'L', 'R'] ['R', 'R', 'L', 'R']\n",
      "0 2 True ['R', 'R', 'L', 'R'] ['L', 'R', 'L', 'R']\n",
      "0 2 True ['L', 'R', 'L', 'R'] ['R', 'R', 'R', 'R']\n"
     ]
    }
   ],
   "source": [
    "for j in range(1,4):\n",
    "            \n",
    "        State_f=State_i.copy() \n",
    "        State_f=state_swap(State_f,i)\n",
    "        status_move=allowed_move(State_i, State_f)\n",
    "\n",
    "        if (status_move):\n",
    "            status=allowed_or_not(State_f)\n",
    "            if (status):\n",
    "                print(i,j,status,State_i, State_f)\n",
    "                State_i=State_f\n",
    "                    \n",
    "        State_f=State_i.copy() \n",
    "        State_f=state_swap(State_f,i)\n",
    "        State_f=state_swap(State_f,j)\n",
    "        status_move=allowed_move(State_i, State_f)\n",
    "\n",
    "        if (status_move):\n",
    "            status=allowed_or_not(State_f)\n",
    "            if (status):\n",
    "                print(i,j,status,State_i, State_f)\n",
    "                State_i=State_f"
   ]
  },
  {
   "cell_type": "markdown",
   "id": "a93b8450",
   "metadata": {},
   "source": [
    "Step5: Farmer and cabbage cross   \n",
    "Step6: Farmer returns    \n",
    "Step7: Farmer and goat cross   "
   ]
  },
  {
   "cell_type": "markdown",
   "id": "cff99aed",
   "metadata": {},
   "source": [
    "And then they shoud have lived happily ever after, but we have forgotten to stop the iteration once all parties move to the right side of the river. \n",
    "\n",
    "So, if we do one more iteration the farmer and the goat will return to the left side and the cycle will have to repeat"
   ]
  },
  {
   "cell_type": "code",
   "execution_count": 37,
   "id": "b253803b",
   "metadata": {},
   "outputs": [
    {
     "name": "stdout",
     "output_type": "stream",
     "text": [
      "0 2 True ['R', 'R', 'R', 'R'] ['L', 'R', 'L', 'R']\n",
      "0 3 True ['L', 'R', 'L', 'R'] ['R', 'R', 'L', 'R']\n",
      "0 3 True ['R', 'R', 'L', 'R'] ['L', 'R', 'L', 'L']\n"
     ]
    }
   ],
   "source": [
    "for j in range(1,4):\n",
    "            \n",
    "        State_f=State_i.copy() \n",
    "        State_f=state_swap(State_f,i)\n",
    "        status_move=allowed_move(State_i, State_f)\n",
    "\n",
    "        if (status_move):\n",
    "            status=allowed_or_not(State_f)\n",
    "            if (status):\n",
    "                print(i,j,status,State_i, State_f)\n",
    "                State_i=State_f\n",
    "                    \n",
    "        State_f=State_i.copy() \n",
    "        State_f=state_swap(State_f,i)\n",
    "        State_f=state_swap(State_f,j)\n",
    "        status_move=allowed_move(State_i, State_f)\n",
    "\n",
    "        if (status_move):\n",
    "            status=allowed_or_not(State_f)\n",
    "            if (status):\n",
    "                print(i,j,status,State_i, State_f)\n",
    "                State_i=State_f"
   ]
  },
  {
   "cell_type": "markdown",
   "id": "9c61a9e4",
   "metadata": {},
   "source": [
    "In the following, we have a stand-alone code, where we will include a condition to stop the iteration when all four members are on the right side."
   ]
  },
  {
   "cell_type": "markdown",
   "id": "43ba848e",
   "metadata": {},
   "source": [
    "## A stand-alone code"
   ]
  },
  {
   "cell_type": "code",
   "execution_count": 38,
   "id": "10a5d118",
   "metadata": {},
   "outputs": [],
   "source": [
    "def allowed_or_not(A):\n",
    "    \n",
    "    # We are going to assume that the order of the characters are Farmer, Cabbage, Goat, and Wolf.\n",
    "    # The output of the function is a logical data type which can take only two values (True or False).\n",
    "    \n",
    "    # Suppose the cabbage and the goat are on the same side, but the farmer is on the other side\n",
    "    if A[1] == A[2] and A[1] != A[0]:\n",
    "        val=False\n",
    "    # Suppose the goat and the wolf are on the same side, but the farmer is on the other side\n",
    "    elif A[2] == A[3] and A[2] != A[0]:\n",
    "        val=False\n",
    "    else:\n",
    "        val=True # All other states are allowed\n",
    "    \n",
    "    #if (val):\n",
    "        #print(A, ' is an allowed state')\n",
    "        \n",
    "    return val\n",
    "\n",
    "def allowed_move(State_i, State_f):\n",
    "\n",
    "    N_diff_State=0\n",
    "    for i in range(len(State_i)):\n",
    "        if State_i[i] != State_f[i]:\n",
    "            N_diff_State=N_diff_State+1\n",
    "\n",
    "    if State_i[0] == State_f[0] and N_diff_State == 1: # Farmer is not changing, but 1 character is crossing\n",
    "        val=False\n",
    "    else:\n",
    "        val=True\n",
    "        \n",
    "    return val\n",
    "\n",
    "def state_swap(State,ival):\n",
    "    oldval=State[ival]\n",
    "    if oldval=='L':\n",
    "        State[ival]='R'\n",
    "    elif oldval=='R':\n",
    "        State[ival]='L'\n",
    "    else:\n",
    "        print('Unknown status encountered in function state_swap')\n",
    "    return State"
   ]
  },
  {
   "cell_type": "code",
   "execution_count": 39,
   "id": "0540ba47",
   "metadata": {},
   "outputs": [
    {
     "name": "stdout",
     "output_type": "stream",
     "text": [
      "['L', 'L', 'L', 'L'] -> ['R', 'L', 'R', 'L']\n",
      "['R', 'L', 'R', 'L'] -> ['L', 'L', 'R', 'L']\n",
      "['L', 'L', 'R', 'L'] -> ['R', 'L', 'R', 'R']\n",
      "['R', 'L', 'R', 'R'] -> ['L', 'L', 'L', 'R']\n",
      "['L', 'L', 'L', 'R'] -> ['R', 'R', 'L', 'R']\n",
      "['R', 'R', 'L', 'R'] -> ['L', 'R', 'L', 'R']\n",
      "['L', 'R', 'L', 'R'] -> ['R', 'R', 'R', 'R']\n"
     ]
    }
   ],
   "source": [
    "# Main program\n",
    "\n",
    "# Maximum number of iterations\n",
    "Max_iter=10 \n",
    "\n",
    "# Initial state\n",
    "State0=['L','L','L','L']\n",
    "\n",
    "# Desired target state\n",
    "State_target=['R','R','R','R']\n",
    "\n",
    "# Initialize the temporary initial state list\n",
    "State_i=State0.copy()\n",
    "\n",
    "while State_i != State_target:\n",
    "\n",
    "    i = 0\n",
    "    for j in range(1,4):\n",
    "            \n",
    "            State_f=State_i.copy() \n",
    "            State_f=state_swap(State_f,i)\n",
    "            status_move=allowed_move(State_i, State_f)\n",
    "\n",
    "            if (status_move):\n",
    "                status=allowed_or_not(State_f)\n",
    "                if (status):\n",
    "                    print(State_i, '->', State_f)\n",
    "                    State_i=State_f\n",
    "                    \n",
    "            State_f=State_i.copy() \n",
    "            State_f=state_swap(State_f,i)\n",
    "            State_f=state_swap(State_f,j)\n",
    "            status_move=allowed_move(State_i, State_f)\n",
    "\n",
    "            if (status_move):\n",
    "                status=allowed_or_not(State_f)\n",
    "                if (status):\n",
    "                    print(State_i, '->', State_f)\n",
    "                    State_i=State_f"
   ]
  },
  {
   "cell_type": "markdown",
   "id": "2cd436d4",
   "metadata": {},
   "source": [
    "We have accomplished our task, but we can improve the program in so many ways! For example, we can print the sequence differently."
   ]
  },
  {
   "cell_type": "code",
   "execution_count": 40,
   "id": "bd30f51c",
   "metadata": {},
   "outputs": [
    {
     "name": "stdout",
     "output_type": "stream",
     "text": [
      "['L', 'L', 'L', 'L']\n",
      "['R', 'L', 'R', 'L']\n",
      "['L', 'L', 'R', 'L']\n",
      "['R', 'L', 'R', 'R']\n",
      "['L', 'L', 'L', 'R']\n",
      "['R', 'R', 'L', 'R']\n",
      "['L', 'R', 'L', 'R']\n",
      "['R', 'R', 'R', 'R']\n"
     ]
    }
   ],
   "source": [
    "# Main program\n",
    "\n",
    "# Maximum number of iterations\n",
    "Max_iter=10 \n",
    "\n",
    "# Initial state\n",
    "State0=['L','L','L','L']\n",
    "\n",
    "# Desired target state\n",
    "State_target=['R','R','R','R']\n",
    "\n",
    "# Initialize the temporary initial state list\n",
    "State_i=State0.copy()\n",
    "\n",
    "print(State_i)\n",
    "\n",
    "while State_i != State_target:\n",
    "\n",
    "    i = 0\n",
    "    for j in range(1,4):\n",
    "            \n",
    "        State_f=State_i.copy() \n",
    "        State_f=state_swap(State_f,i)\n",
    "        status_move=allowed_move(State_i, State_f)\n",
    "\n",
    "        if (status_move):\n",
    "            status=allowed_or_not(State_f)\n",
    "            if (status):\n",
    "                print(State_f)\n",
    "                State_i=State_f\n",
    "                    \n",
    "        State_f=State_i.copy() \n",
    "        State_f=state_swap(State_f,i)\n",
    "        State_f=state_swap(State_f,j)\n",
    "        status_move=allowed_move(State_i, State_f)\n",
    "\n",
    "        if (status_move):\n",
    "            status=allowed_or_not(State_f)\n",
    "            if (status):\n",
    "                print(State_f)\n",
    "                State_i=State_f"
   ]
  },
  {
   "cell_type": "markdown",
   "id": "af83178e",
   "metadata": {},
   "source": [
    "## Alternative sequence?"
   ]
  },
  {
   "cell_type": "markdown",
   "id": "8bae65e9",
   "metadata": {},
   "source": [
    "What about the following sequence? Why is our program not giving this sequence? How should we modify the program so that we can get the following sequence."
   ]
  },
  {
   "cell_type": "markdown",
   "id": "38605984",
   "metadata": {},
   "source": [
    "```\n",
    "['L', 'L', 'L', 'L']\n",
    "['R', 'L', 'R', 'L']\n",
    "['L', 'L', 'R', 'L']\n",
    "['R', 'R', 'R', 'L']  # This time, the farmer takes the cabbage along \n",
    "['L', 'R', 'L', 'L']\n",
    "['L', 'R', 'L', 'R']  # and then the wolf \n",
    "['R', 'R', 'R', 'R'] \n",
    "```"
   ]
  }
 ],
 "metadata": {
  "kernelspec": {
   "display_name": "Python 3",
   "language": "python",
   "name": "python3"
  },
  "language_info": {
   "codemirror_mode": {
    "name": "ipython",
    "version": 3
   },
   "file_extension": ".py",
   "mimetype": "text/x-python",
   "name": "python",
   "nbconvert_exporter": "python",
   "pygments_lexer": "ipython3",
   "version": "3.9.4"
  }
 },
 "nbformat": 4,
 "nbformat_minor": 5
}
