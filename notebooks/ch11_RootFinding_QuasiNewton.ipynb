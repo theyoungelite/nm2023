{
 "cells": [
  {
   "cell_type": "markdown",
   "metadata": {},
   "source": [
    "# Content:\n",
    "1. [Quasi Newton: 1D, Secant Method](#1.-Quasi-Newton:-1D,-Secant-Method)\n",
    "2. [Quasi Newton: nD, Broyden Method](#2.-Quasi-Newton:-nD,-Broyden-Method)\n",
    "3. [`scipy.root`](#3.-`Scipy.root`)"
   ]
  },
  {
   "cell_type": "markdown",
   "metadata": {},
   "source": [
    "## 1. Quasi Newton: 1D, Secant Method"
   ]
  },
  {
   "cell_type": "markdown",
   "metadata": {},
   "source": [
    "![boardwork061.jpg](../boardwork/boardwork061.jpg)"
   ]
  },
  {
   "cell_type": "code",
   "execution_count": 1,
   "metadata": {},
   "outputs": [],
   "source": [
    "import numpy as np\n",
    "\n",
    "def Secant(x0, f, maxiter, maxeval, xtol, ftol, xeps, iprint):\n",
    "    '''\n",
    "        x0 (input, float): initial guess for the solution\n",
    "        f (input, function): function for which f(x)=0 is solved\n",
    "        maxiter (input, int): maximum number of iterations\n",
    "        maxeval (input, int): maximum number of function evaluations\n",
    "        xtol (input, float): tolerence for convergence in x\n",
    "        ftol (input, float): tolerence for convergence in f\n",
    "        xeps (input, float): step needed to find x1 from x0\n",
    "        iprint (input, int): print option, 1 for additional printing\n",
    "\n",
    "    '''\n",
    "    \n",
    "    if iprint == 1:\n",
    "        print('#iter    xn               f(xn)            |xn - x(n-1)| ')\n",
    "    \n",
    "    iiter=0\n",
    "    ieval=0\n",
    "    \n",
    "    f0=f(x0)\n",
    "    ieval=ieval+1\n",
    "    \n",
    "    if iprint == 1:\n",
    "        print('{:5d}{:17.8e}{:17.8e}'.format(iiter, x0, f0))\n",
    "\n",
    "    x1 = x0 + xeps\n",
    "    \n",
    "    iiter=iiter+1\n",
    "    \n",
    "    xconv = 1e99\n",
    "    \n",
    "    while xconv > xtol or f0 > ftol:\n",
    "                \n",
    "        f1=f(x1)\n",
    "        ieval=ieval+1\n",
    "        \n",
    "        if iprint == 1:\n",
    "            print('{:5d}{:17.8e}{:17.8e}{:17.8e}'.format(iiter, x1, f1, xconv))\n",
    "        \n",
    "        df1 = (f1-f0)/(x1-x0) # derivative is calculated numerically as a finite-derivative\n",
    "        \n",
    "        x0 = x1\n",
    "        fconv=abs(f1-f0)\n",
    "        \n",
    "        f0 = f1\n",
    "        \n",
    "        x1 = x0 - f1 / df1\n",
    "\n",
    "        xconv=abs(x1-x0)\n",
    "                \n",
    "        if iiter >= maxiter:\n",
    "            print('Exiting Secant, maximum iterations reached')\n",
    "            break\n",
    "            \n",
    "        if ieval >= maxeval:\n",
    "            print('Exiting Secant, maximum function evaluations reached')\n",
    "            break\n",
    "        \n",
    "    print('Exiting Secant, convergence reached')  \n",
    "    return x1"
   ]
  },
  {
   "cell_type": "code",
   "execution_count": 2,
   "metadata": {},
   "outputs": [
    {
     "name": "stdout",
     "output_type": "stream",
     "text": [
      "#iter    xn               f(xn)            |xn - x(n-1)| \n",
      "    0   2.00000000e+00  -4.64664717e-01\n",
      "    1   2.01000000e+00  -4.64011325e-01   1.00000000e+99\n",
      "    1   9.11158264e+00   8.22426908e-01   7.10158264e+00\n",
      "    1   4.57150252e+00  -7.53570882e-02   4.54008012e+00\n",
      "    1   4.95258218e+00  -2.41842305e-03   3.81079658e-01\n",
      "    1   4.96521761e+00   1.99546066e-05   1.26354359e-02\n",
      "    1   4.96511421e+00  -4.53945181e-09   1.03402831e-04\n",
      "Exiting Secant, convergence reached\n",
      "The solution is:  4.9651142317442325\n",
      "Function value at the solution is:  -8.43769498715119e-15\n"
     ]
    }
   ],
   "source": [
    "def Wienfunction(x):\n",
    "    val=np.exp(-x)+x/5.0-1.0\n",
    "    return val\n",
    "\n",
    "x0=2.0\n",
    "iprint=1\n",
    "\n",
    "maxiter=100\n",
    "maxeval=100\n",
    "\n",
    "xtol=1e-6\n",
    "ftol=1e-12\n",
    "\n",
    "xeps=0.01 # used to find x1 as x0 + Delta x0\n",
    "\n",
    "x=Secant(x0,Wienfunction,maxiter,maxeval,xtol,ftol,xeps,iprint)\n",
    "print('The solution is: ',x)\n",
    "print('Function value at the solution is: ',Wienfunction(x))"
   ]
  },
  {
   "cell_type": "code",
   "execution_count": 3,
   "metadata": {},
   "outputs": [
    {
     "name": "stdout",
     "output_type": "stream",
     "text": [
      "\n",
      "        x0 (input, float): initial guess for the solution\n",
      "        f (input, function): function for which f(x)=0 is solved\n",
      "        maxiter (input, int): maximum number of iterations\n",
      "        maxeval (input, int): maximum number of function evaluations\n",
      "        xtol (input, float): tolerence for convergence in x\n",
      "        ftol (input, float): tolerence for convergence in f\n",
      "        xeps (input, float): step needed to find x1 from x0\n",
      "        iprint (input, int): print option, 1 for additional printing\n",
      "\n",
      "    \n"
     ]
    }
   ],
   "source": [
    "print(Secant.__doc__) # printing the doc string of a function"
   ]
  },
  {
   "cell_type": "markdown",
   "metadata": {},
   "source": [
    "## 2. Quasi Newton: nD, Broyden Method"
   ]
  },
  {
   "cell_type": "markdown",
   "metadata": {},
   "source": [
    "![boardwork062.jpg](../boardwork/boardwork062.jpg)\n",
    "![boardwork063.jpg](../boardwork/boardwork063.jpg)"
   ]
  },
  {
   "cell_type": "markdown",
   "metadata": {},
   "source": [
    "---\n",
    "Homework-18 [ASSIGNMENT]: Write a python function for finding the root of an arbitrary n-dimensional function using Broyden's method. Show that the function produces desired output for higher-dimensional funtion of your choice. The solution for this problem will be graded (10 marks). A notebook containing the solution along with your full name, batch, code, etc. must be submitted via Google classroom on or before May 08, 2021.\n",
    "\n",
    "---"
   ]
  },
  {
   "cell_type": "markdown",
   "metadata": {},
   "source": [
    "## 3. `scipy.root`"
   ]
  },
  {
   "cell_type": "markdown",
   "metadata": {},
   "source": [
    "Scipy has a lot of functions available in the module root [https://docs.scipy.org/doc/scipy/reference/optimize.html#root-finding](https://docs.scipy.org/doc/scipy/reference/optimize.html#root-finding). Due to the close connection between root-finding and optimization (maximization/minimization), functions for `scipy.optimize` and `scipy.root` are collected together."
   ]
  },
  {
   "cell_type": "markdown",
   "metadata": {},
   "source": [
    "## For 1D functions (`scipy.optimize.root_scalar`)"
   ]
  },
  {
   "cell_type": "code",
   "execution_count": 4,
   "metadata": {},
   "outputs": [],
   "source": [
    "import numpy as np\n",
    "\n",
    "def Wienfunction(x):\n",
    "    val=np.exp(-x)+x/5.0-1.0\n",
    "    return val\n",
    "\n",
    "def dWienfunction(x):\n",
    "    val=-np.exp(-x)+1.0/5.0\n",
    "    return val"
   ]
  },
  {
   "cell_type": "markdown",
   "metadata": {},
   "source": [
    "### Bisection"
   ]
  },
  {
   "cell_type": "markdown",
   "metadata": {},
   "source": [
    "Have a quick look at the [manual](https://docs.scipy.org/doc/scipy/reference/generated/scipy.optimize.bisect.html#scipy.optimize.bisect)"
   ]
  },
  {
   "cell_type": "code",
   "execution_count": 5,
   "metadata": {},
   "outputs": [],
   "source": [
    "# print(optimize.bisect.__doc__)"
   ]
  },
  {
   "cell_type": "code",
   "execution_count": 6,
   "metadata": {},
   "outputs": [
    {
     "data": {
      "text/plain": [
       "(4.965114712715149,\n",
       "       converged: True\n",
       "            flag: 'converged'\n",
       "  function_calls: 25\n",
       "      iterations: 23\n",
       "            root: 4.965114712715149)"
      ]
     },
     "execution_count": 6,
     "metadata": {},
     "output_type": "execute_result"
    }
   ],
   "source": [
    "from scipy import optimize\n",
    "a=2\n",
    "b=7\n",
    "optimize.bisect(Wienfunction, a, b, xtol=1e-6, maxiter=100, full_output=True)"
   ]
  },
  {
   "cell_type": "markdown",
   "metadata": {},
   "source": [
    "Alternatively, one can call `scipy.optimize.bisect` using the `root_scalar` function. The `options` are given as a dictionary (a set of key-value pairs)"
   ]
  },
  {
   "cell_type": "code",
   "execution_count": 7,
   "metadata": {},
   "outputs": [
    {
     "data": {
      "text/plain": [
       "      converged: True\n",
       "           flag: 'converged'\n",
       " function_calls: 25\n",
       "     iterations: 23\n",
       "           root: 4.965114712715149"
      ]
     },
     "execution_count": 7,
     "metadata": {},
     "output_type": "execute_result"
    }
   ],
   "source": [
    "optimize.root_scalar(Wienfunction, method='bisect', bracket=[a,b], x0=None, options={'xtol':1e-6, 'maxiter':100})"
   ]
  },
  {
   "cell_type": "markdown",
   "metadata": {},
   "source": [
    "### Newton-Raphson"
   ]
  },
  {
   "cell_type": "markdown",
   "metadata": {},
   "source": [
    "Have a quick look at the [manual](https://docs.scipy.org/doc/scipy/reference/generated/scipy.optimize.newton.html#scipy.optimize.newton)"
   ]
  },
  {
   "cell_type": "code",
   "execution_count": 8,
   "metadata": {},
   "outputs": [
    {
     "data": {
      "text/plain": [
       "      converged: True\n",
       "           flag: 'converged'\n",
       " function_calls: 10\n",
       "     iterations: 5\n",
       "           root: 4.965114231744276"
      ]
     },
     "execution_count": 8,
     "metadata": {},
     "output_type": "execute_result"
    }
   ],
   "source": [
    "x0=2.0\n",
    "optimize.root_scalar(Wienfunction, fprime=dWienfunction, method='newton', bracket=None, x0=2.0, \\\n",
    "                     options={'tol':1e-6, 'maxiter':100})"
   ]
  },
  {
   "cell_type": "markdown",
   "metadata": {},
   "source": [
    "### Secant"
   ]
  },
  {
   "cell_type": "code",
   "execution_count": 9,
   "metadata": {},
   "outputs": [
    {
     "data": {
      "text/plain": [
       "      converged: True\n",
       "           flag: 'converged'\n",
       " function_calls: 7\n",
       "     iterations: 6\n",
       "           root: 4.96511423174423"
      ]
     },
     "execution_count": 9,
     "metadata": {},
     "output_type": "execute_result"
    }
   ],
   "source": [
    "optimize.root_scalar(Wienfunction, fprime=None, x1=x0+0.01, method='secant', bracket=None, x0=2.0, \\\n",
    "                     options={'tol':1e-6, 'maxiter':100})"
   ]
  },
  {
   "cell_type": "markdown",
   "metadata": {},
   "source": [
    "## For nD functions (`scipy.optimize.root`)"
   ]
  },
  {
   "cell_type": "code",
   "execution_count": 10,
   "metadata": {},
   "outputs": [],
   "source": [
    "import numpy as np\n",
    "\n",
    "def fnF(X):\n",
    "    x1=X[0]\n",
    "    x2=X[1]\n",
    "    \n",
    "    N=len(X)\n",
    "    \n",
    "    Fvec=np.zeros(N)\n",
    "    \n",
    "    Fvec[0] = x1**2 + x2**2 - 1.0\n",
    "    Fvec[1] = np.sin(np.pi*x1/2.0) + x2**3\n",
    "    \n",
    "    return Fvec"
   ]
  },
  {
   "cell_type": "code",
   "execution_count": 11,
   "metadata": {},
   "outputs": [
    {
     "data": {
      "text/plain": [
       "     fun: array([-0.75345295, -0.34399071])\n",
       " message: 'The maximum number of iterations allowed has been reached.'\n",
       "     nit: 300\n",
       "  status: 2\n",
       " success: False\n",
       "       x: array([-0.15342872, -0.47223583])"
      ]
     },
     "execution_count": 11,
     "metadata": {},
     "output_type": "execute_result"
    }
   ],
   "source": [
    "x0=np.array([5.0,-7.0])\n",
    "optimize.root(fnF,x0,method='broyden1')"
   ]
  },
  {
   "cell_type": "markdown",
   "metadata": {},
   "source": [
    "#### In the last class, we calculated the exact solution using Newton-Raphson and got the following output\n",
    "\n",
    "---\n",
    "Exiting Newton-Raphson, convergence reached\n",
    "The solution is:  [-0.47609582  0.87939341]\n",
    "\n",
    "---\n",
    "\n",
    "So, here Broyden failed, probably because of our initial guess is bad!"
   ]
  },
  {
   "cell_type": "markdown",
   "metadata": {},
   "source": [
    "#### Let's try different choices for the inital guess vector"
   ]
  },
  {
   "cell_type": "code",
   "execution_count": 12,
   "metadata": {},
   "outputs": [
    {
     "data": {
      "text/plain": [
       "     fun: array([ 0.05656674, -1.01608798])\n",
       " message: 'The maximum number of iterations allowed has been reached.'\n",
       "     nit: 300\n",
       "  status: 2\n",
       " success: False\n",
       "       x: array([-0.99639135, -0.25252924])"
      ]
     },
     "execution_count": 12,
     "metadata": {},
     "output_type": "execute_result"
    }
   ],
   "source": [
    "x0=np.array([0,0])\n",
    "optimize.root(fnF,x0,method='broyden1')"
   ]
  },
  {
   "cell_type": "code",
   "execution_count": 13,
   "metadata": {},
   "outputs": [
    {
     "data": {
      "text/plain": [
       "     fun: array([-1.83626278e-06,  4.40126649e-07])\n",
       " message: 'A solution was found at the specified tolerance.'\n",
       "     nit: 13\n",
       "  status: 1\n",
       " success: True\n",
       "       x: array([-0.47609463,  0.87939301])"
      ]
     },
     "execution_count": 13,
     "metadata": {},
     "output_type": "execute_result"
    }
   ],
   "source": [
    "x0=np.array([1,1])\n",
    "optimize.root(fnF,x0,method='broyden1')"
   ]
  }
 ],
 "metadata": {
  "kernelspec": {
   "display_name": "Python 3",
   "language": "python",
   "name": "python3"
  },
  "language_info": {
   "codemirror_mode": {
    "name": "ipython",
    "version": 3
   },
   "file_extension": ".py",
   "mimetype": "text/x-python",
   "name": "python",
   "nbconvert_exporter": "python",
   "pygments_lexer": "ipython3",
   "version": "3.9.4"
  }
 },
 "nbformat": 4,
 "nbformat_minor": 2
}
