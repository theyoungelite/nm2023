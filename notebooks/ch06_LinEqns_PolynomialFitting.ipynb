{
 "cells": [
  {
   "cell_type": "markdown",
   "metadata": {},
   "source": [
    "# Content:\n",
    "1. [Data modeling](#1.-Data-modeling)\n",
    "2. [Polynomial fitting explained using a quick implementation](#2.-Polynomial-fitting-explained-using-a-quick-implementation)\n",
    "3. [Polyfit and Polyval](#3.-Polyfit-and-Polyval)\n",
    "4. [Numpy's polyfit, polyval, and poly1d](#4.-Numpy's-polyfit,-polyval,-and-poly1d)"
   ]
  },
  {
   "cell_type": "markdown",
   "metadata": {},
   "source": [
    "## 1. Data modeling"
   ]
  },
  {
   "cell_type": "markdown",
   "metadata": {},
   "source": [
    "![boardwork019.jpg](../boardwork/boardwork019.jpg)\n",
    "![boardwork020.jpg](../boardwork/boardwork020.jpg)\n",
    "![boardwork021.jpg](../boardwork/boardwork021.jpg)\n",
    "![boardwork022.jpg](../boardwork/boardwork022.jpg)\n",
    "![boardwork023.jpg](../boardwork/boardwork023.jpg)\n",
    "![boardwork024.jpg](../boardwork/boardwork024.jpg)"
   ]
  },
  {
   "cell_type": "markdown",
   "metadata": {},
   "source": [
    "#### _Note:_ Instead of matrix inversion, we will directly solve the equation given in the left side using a linear solver.  \n",
    "Since $\\left[ {\\bf X}^{\\rm T}{\\bf X}\\right]$ is a symmetric matrix, we can use Cholesky decomposition."
   ]
  },
  {
   "cell_type": "markdown",
   "metadata": {},
   "source": [
    "## 2. Polynomial fitting explained using a quick implementation"
   ]
  },
  {
   "cell_type": "markdown",
   "metadata": {},
   "source": [
    "Let's write a general program to fit a set of $N$ points to a $D$ degree polynomial. "
   ]
  },
  {
   "cell_type": "markdown",
   "metadata": {},
   "source": [
    "### Vandermonde matrix"
   ]
  },
  {
   "cell_type": "markdown",
   "metadata": {},
   "source": [
    "The first step is to calculate the Vandermonde matrix. Let's calculate it for a set of x-values. Suppose we want to fit 4 points to a straightline, then $N=4$ and $D=1$. However, remember, in python the index starts with 0. So, we have to assign the variables accordingly."
   ]
  },
  {
   "cell_type": "code",
   "execution_count": 1,
   "metadata": {},
   "outputs": [
    {
     "name": "stdout",
     "output_type": "stream",
     "text": [
      "[[1. 1.]\n",
      " [1. 2.]\n",
      " [1. 3.]\n",
      " [1. 5.]]\n"
     ]
    }
   ],
   "source": [
    "import numpy as np\n",
    "x = np.array([1, 2, 3, 5],float)\n",
    "\n",
    "N = x.shape[0]\n",
    "\n",
    "D=1\n",
    "\n",
    "# Initialize the X-matrix\n",
    "X = np.ones([N,D+1]) # Note that we are using D+1 here\n",
    "\n",
    "\n",
    "# Add columns of x, x^2, ..., x^N-1 to build the Vandermonde matrix\n",
    "#X[:,1]=x[:]\n",
    "#X[:,2]=x[:]**2\n",
    "#X[:,3]=x[:]**3\n",
    "\n",
    "for i in range(1,D+1): # Note that we are using D+1 here\n",
    "    X[:,i]=x[:]**i\n",
    "\n",
    "print(X)"
   ]
  },
  {
   "cell_type": "markdown",
   "metadata": {},
   "source": [
    "Even though it is easy to calculate the Vandermonde matrix, we should note down that numpy already has a function to calculate this matrix. We can check if our results agree with numpy"
   ]
  },
  {
   "cell_type": "code",
   "execution_count": 2,
   "metadata": {},
   "outputs": [
    {
     "data": {
      "text/plain": [
       "array([[1., 1.],\n",
       "       [1., 2.],\n",
       "       [1., 3.],\n",
       "       [1., 5.]])"
      ]
     },
     "execution_count": 2,
     "metadata": {},
     "output_type": "execute_result"
    }
   ],
   "source": [
    "np.vander(x, D+1,increasing=True) #If the last argument is not given, you get the orders of columns reversed!"
   ]
  },
  {
   "cell_type": "markdown",
   "metadata": {},
   "source": [
    "### Now let's solve a problem"
   ]
  },
  {
   "cell_type": "markdown",
   "metadata": {},
   "source": [
    "Lets's use the known form of a parabola, say, $y=-0.4x^2$. We can sample some points of $x$ and fit to the known values of $y$. After fitting the data we can check of the polynomial coefficients come out as expected. "
   ]
  },
  {
   "cell_type": "code",
   "execution_count": 3,
   "metadata": {},
   "outputs": [
    {
     "name": "stdout",
     "output_type": "stream",
     "text": [
      "x-vector is:\n",
      " [-5. -4. -3. -2. -1.  0.  1.  2.  3.  4.  5.]\n",
      "y-vector is:\n",
      " [-10.   -6.4  -3.6  -1.6  -0.4  -0.   -0.4  -1.6  -3.6  -6.4 -10. ]\n"
     ]
    }
   ],
   "source": [
    "x=np.arange(-5, 6, 1, float) # start, stop, step, dtype\n",
    "\n",
    "print(\"x-vector is:\\n\", x)\n",
    "\n",
    "y=-0.4*x**2\n",
    "\n",
    "print(\"y-vector is:\\n\", y)"
   ]
  },
  {
   "cell_type": "code",
   "execution_count": 4,
   "metadata": {},
   "outputs": [
    {
     "name": "stdout",
     "output_type": "stream",
     "text": [
      "[[ 1. -5. 25.]\n",
      " [ 1. -4. 16.]\n",
      " [ 1. -3.  9.]\n",
      " [ 1. -2.  4.]\n",
      " [ 1. -1.  1.]\n",
      " [ 1.  0.  0.]\n",
      " [ 1.  1.  1.]\n",
      " [ 1.  2.  4.]\n",
      " [ 1.  3.  9.]\n",
      " [ 1.  4. 16.]\n",
      " [ 1.  5. 25.]]\n"
     ]
    }
   ],
   "source": [
    "D=2  # for a parabola\n",
    "X=np.vander(x, D+1, increasing=True)  # V is the Vandermonde matrix.\n",
    "\n",
    "print(X)"
   ]
  },
  {
   "cell_type": "code",
   "execution_count": 5,
   "metadata": {},
   "outputs": [
    {
     "name": "stdout",
     "output_type": "stream",
     "text": [
      "[[  11.    0.  110.]\n",
      " [   0.  110.    0.]\n",
      " [ 110.    0. 1958.]]\n"
     ]
    }
   ],
   "source": [
    "XT=np.transpose(X)\n",
    "    \n",
    "A=np.matmul(XT,X)\n",
    "\n",
    "print(A)"
   ]
  },
  {
   "cell_type": "markdown",
   "metadata": {},
   "source": [
    "Now, all we have to do is solve ${\\bf A}{\\bf c}={\\bf b}$, where ${\\bf b}={\\bf X}^{\\rm T}{\\bf y}$."
   ]
  },
  {
   "cell_type": "code",
   "execution_count": 6,
   "metadata": {},
   "outputs": [
    {
     "name": "stdout",
     "output_type": "stream",
     "text": [
      "\n",
      "The solution is\n",
      "\n",
      "[ 0.00000000e+00  6.45947942e-17 -4.00000000e-01]\n"
     ]
    }
   ],
   "source": [
    "import numpy as np\n",
    "from scipy.linalg import cho_factor, cho_solve\n",
    "\n",
    "b=np.matmul(XT,y)\n",
    "\n",
    "\n",
    "c=np.zeros(D,float)\n",
    "\n",
    "L, low = cho_factor(A)   \n",
    "\n",
    "c = cho_solve((L, low), b)\n",
    "\n",
    "print('\\nThe solution is\\n')\n",
    "print(c)"
   ]
  },
  {
   "cell_type": "markdown",
   "metadata": {},
   "source": [
    "We see that the coefficient for $x^0$ and $x^1$ terms are 0.0. For the quadratic term ($x^2$), the coefficient is 0.4 according to the parabola we have started with. Now, suppose you want to find the value of the function at a new value of $x$, all you have to do is evaluate the polynomial. "
   ]
  },
  {
   "cell_type": "code",
   "execution_count": 7,
   "metadata": {},
   "outputs": [
    {
     "name": "stdout",
     "output_type": "stream",
     "text": [
      "Value of y at x= 0.5  is  -0.09999999999999996\n"
     ]
    }
   ],
   "source": [
    "xnew=0.5\n",
    "ynew=c[0]*xnew**0 + c[1]*xnew**1 + c[2]*xnew**2\n",
    "print(\"Value of y at x=\", xnew, \" is \", ynew)"
   ]
  },
  {
   "cell_type": "markdown",
   "metadata": {},
   "source": [
    "The result is what is expected $y(0.5)=-0.4 \\times 0.5^2=-0.1$."
   ]
  },
  {
   "cell_type": "markdown",
   "metadata": {},
   "source": [
    "## 3. Polyfit and Polyval"
   ]
  },
  {
   "cell_type": "markdown",
   "metadata": {},
   "source": [
    "What we have done so far is to fit a set of points to a polynomial (polyfit) and evaluate the polynomial at new points (polyval). We can write general functions for these two steps."
   ]
  },
  {
   "cell_type": "code",
   "execution_count": 8,
   "metadata": {},
   "outputs": [
    {
     "name": "stdout",
     "output_type": "stream",
     "text": [
      "coefficient of x^ 0  is  0.0\n",
      "coefficient of x^ 1  is  6.459479416000912e-17\n",
      "coefficient of x^ 2  is  -0.39999999999999997\n"
     ]
    }
   ],
   "source": [
    "def chol(A,b):\n",
    "    from scipy.linalg import cho_factor, cho_solve\n",
    "    D=b.shape[0]\n",
    "    \n",
    "    c=np.zeros(D,float)\n",
    "\n",
    "    L, low = cho_factor(A)   \n",
    "\n",
    "    c = cho_solve((L, low), b)\n",
    "    return c\n",
    "\n",
    "\n",
    "def polyfit(x,y,D):\n",
    "    '''\n",
    "        Fits a given set of data x,y to a polynomial of degree D\n",
    "    '''\n",
    "    import numpy as np \n",
    "        \n",
    "    X=np.vander(x, D+1, increasing=True)\n",
    "    XT=np.transpose(X)\n",
    "    \n",
    "    A=np.matmul(XT,X)\n",
    "    \n",
    "    b=np.matmul(XT,y)\n",
    "\n",
    "    c=chol(A,b)\n",
    "    \n",
    "    return(c)\n",
    "\n",
    "#=== Let's fit to a parabola \n",
    "\n",
    "x=np.arange(-5, 6, 1, float)\n",
    "\n",
    "y=-0.4*x**2\n",
    "\n",
    "D=2  # for a parabola\n",
    "c=polyfit(x,y,D)\n",
    "\n",
    "for i in range(D+1):\n",
    "    print(\"coefficient of x^\",i,\" is \",c[i])"
   ]
  },
  {
   "cell_type": "markdown",
   "metadata": {},
   "source": [
    "Now, let's see what happens if we can fit the same data to higher-degree polynomial."
   ]
  },
  {
   "cell_type": "code",
   "execution_count": 9,
   "metadata": {},
   "outputs": [
    {
     "name": "stdout",
     "output_type": "stream",
     "text": [
      "coefficient of x^ 0  is  8.033876086462141e-15\n",
      "coefficient of x^ 1  is  -9.08310463879971e-15\n",
      "coefficient of x^ 2  is  -0.4000000000000023\n",
      "coefficient of x^ 3  is  1.3349935850729272e-15\n",
      "coefficient of x^ 4  is  8.83347612444574e-17\n",
      "coefficient of x^ 5  is  -3.970233448744883e-17\n"
     ]
    }
   ],
   "source": [
    "D=5\n",
    "c=polyfit(x,y,D)\n",
    "\n",
    "for i in range(D+1):\n",
    "    print(\"coefficient of x^\",i,\" is \",c[i])"
   ]
  },
  {
   "cell_type": "markdown",
   "metadata": {},
   "source": [
    "Only the quadratic term survives, all other coefficients are zero! How nice!"
   ]
  },
  {
   "cell_type": "markdown",
   "metadata": {},
   "source": [
    "To evaluate the polynomial, i.e., the estimated values of y, one can write another function, called polyval."
   ]
  },
  {
   "cell_type": "code",
   "execution_count": 10,
   "metadata": {},
   "outputs": [
    {
     "name": "stdout",
     "output_type": "stream",
     "text": [
      "[-0.1 -0.1]\n"
     ]
    }
   ],
   "source": [
    "def polyval(a,x):\n",
    "    '''\n",
    "        Determines the value of the polynomial using x and the coefficient vector a\n",
    "    '''\n",
    "    import numpy as np\n",
    "    D=a.shape[0]\n",
    "    N=x.shape\n",
    "\n",
    "    y=np.zeros(N)\n",
    "    for i in range(D):\n",
    "        y=y+a[i]*x**i\n",
    "    \n",
    "    return(y)\n",
    "\n",
    "xnew=np.array([-0.5,0.5])  # we will make the new x-values as an array\n",
    "ynew=polyval(c,xnew)\n",
    "print(ynew)"
   ]
  },
  {
   "cell_type": "markdown",
   "metadata": {},
   "source": [
    "## 4. Numpy's polyfit, polyval, and poly1d"
   ]
  },
  {
   "cell_type": "markdown",
   "metadata": {},
   "source": [
    "Again, since we have learned the basics of polynomial fitting _from scratch_, we can use numpy's in-built routines for production runs. But, before that we need to test if numpy's results agree with our own values!"
   ]
  },
  {
   "cell_type": "code",
   "execution_count": 11,
   "metadata": {},
   "outputs": [
    {
     "name": "stdout",
     "output_type": "stream",
     "text": [
      "Estimated value of y at new points of x is: \n",
      " [-0.1 -0.1]\n"
     ]
    }
   ],
   "source": [
    "x=np.arange(-5, 6, 1, float)\n",
    "\n",
    "y=-0.4*x**2\n",
    "\n",
    "D=4  # some polynomial degree\n",
    "\n",
    "c=np.polyfit(x, y, D)\n",
    "\n",
    "xnew=np.array([-0.5,0.5]) \n",
    "ynew=np.polyval(c,xnew)\n",
    "\n",
    "print(\"Estimated value of y at new points of x is: \\n\",ynew)"
   ]
  },
  {
   "cell_type": "markdown",
   "metadata": {},
   "source": [
    "There's also a cool function in numpy to print the polynomial as an expression."
   ]
  },
  {
   "cell_type": "code",
   "execution_count": 12,
   "metadata": {},
   "outputs": [
    {
     "name": "stdout",
     "output_type": "stream",
     "text": [
      "            4             3       2\n",
      "-4.122e-18 x + 1.754e-17 x - 0.4 x + 6.324e-17 x + 1.071e-15\n"
     ]
    }
   ],
   "source": [
    "p = np.poly1d(c)\n",
    "print(p)"
   ]
  },
  {
   "cell_type": "markdown",
   "metadata": {},
   "source": [
    "In the next class we will learn about how to quantify the accuracy of fitting. "
   ]
  }
 ],
 "metadata": {
  "kernelspec": {
   "display_name": "Python 3",
   "language": "python",
   "name": "python3"
  },
  "language_info": {
   "codemirror_mode": {
    "name": "ipython",
    "version": 3
   },
   "file_extension": ".py",
   "mimetype": "text/x-python",
   "name": "python",
   "nbconvert_exporter": "python",
   "pygments_lexer": "ipython3",
   "version": "3.9.4"
  }
 },
 "nbformat": 4,
 "nbformat_minor": 2
}
