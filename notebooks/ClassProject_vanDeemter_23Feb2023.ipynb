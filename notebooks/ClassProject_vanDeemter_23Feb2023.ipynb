{
 "cells": [
  {
   "cell_type": "markdown",
   "id": "76def834",
   "metadata": {},
   "source": [
    "# A least-squares fitting execise in gas chromatography."
   ]
  },
  {
   "cell_type": "markdown",
   "id": "78e057f2",
   "metadata": {},
   "source": [
    "The csv file `nm2023/data/exp_data.csv` contains data from a gas chromatography experiment. The first column corresponds to the flow rate, $u$, in milli-Litre-per-minute (mL/min), and the second column corresponds to the plate height, $H(u)$, in millimeter (mm). \n",
    "\n",
    "Fit this data to the [van Deemter equation](https://en.wikipedia.org/wiki/Van_Deemter_equation), $H(u)=A+B/u+Cu$, and determine the diffusion parameters, $A$, $B$, and $C$. The meaning of the parameters are defined in the wiki article linked above. \n",
    "\n",
    "Report the following in a Jupyter notebook (rename this file as `ClassProject_vanDeemter_23Feb2023_groupname.ipynb`) and send it via google classroom:   \n",
    "- The diffusion parameters, $A$, $B$, and $C$  \n",
    "- Accuracy of your fit in terms of mean absolute deviation (MAD), root mean square deviation (RMSD), maximum absolute error (MAD), and Pearson correlation coefficient. \n",
    "- Plot the actual data along with your fitted function.\n"
   ]
  },
  {
   "cell_type": "markdown",
   "id": "1212245f",
   "metadata": {},
   "source": [
    "# Solution"
   ]
  },
  {
   "cell_type": "markdown",
   "id": "035f0dce",
   "metadata": {},
   "source": [
    "## Comments"
   ]
  },
  {
   "cell_type": "markdown",
   "id": "fe89bd58",
   "metadata": {},
   "source": [
    "Steps in solving this problem. Any comments?"
   ]
  },
  {
   "cell_type": "markdown",
   "id": "91e33fa4",
   "metadata": {},
   "source": [
    "## Codes"
   ]
  },
  {
   "cell_type": "code",
   "execution_count": 5,
   "id": "a7b3cb77",
   "metadata": {},
   "outputs": [],
   "source": [
    "# codes here\n"
   ]
  },
  {
   "cell_type": "markdown",
   "id": "93b5c920",
   "metadata": {},
   "source": [
    "## Plot"
   ]
  },
  {
   "cell_type": "code",
   "execution_count": 2,
   "id": "e0adbd73",
   "metadata": {},
   "outputs": [],
   "source": [
    "# Plot here"
   ]
  },
  {
   "cell_type": "markdown",
   "id": "34f0a373",
   "metadata": {},
   "source": [
    "## Accuracy of the fit"
   ]
  },
  {
   "cell_type": "markdown",
   "id": "344644a7",
   "metadata": {},
   "source": [
    "| A       | B       | C       | MAD     | RMSD    | Pearson coefficient |\n",
    "|---------|---------|---------|---------|---------|---------------------|\n",
    "| xx.xxxx | xx.xxxx | xx.xxxx | xx.xxxx | xx.xxxx | xx.xxxx             |"
   ]
  }
 ],
 "metadata": {
  "kernelspec": {
   "display_name": "Python 3",
   "language": "python",
   "name": "python3"
  },
  "language_info": {
   "codemirror_mode": {
    "name": "ipython",
    "version": 3
   },
   "file_extension": ".py",
   "mimetype": "text/x-python",
   "name": "python",
   "nbconvert_exporter": "python",
   "pygments_lexer": "ipython3",
   "version": "3.9.4"
  }
 },
 "nbformat": 4,
 "nbformat_minor": 5
}
