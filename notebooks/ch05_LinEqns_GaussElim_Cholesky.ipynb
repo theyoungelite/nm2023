{
 "cells": [
  {
   "cell_type": "markdown",
   "metadata": {},
   "source": [
    "# Content:\n",
    "1. [Row-reduction/Elimination](#1.-Row-reduction/Elimination)\n",
    "2. [Gaussian elimination followed by substitution](#2.-Gaussian-elimination-followed-by-substitution)\n",
    "    > [2.1. Elimination: Transform of A to U](#2.1.-Elimination:-Transform-of-A-to-U)    \n",
    "    > [2.2. Backward substitution (bottom to top)](#2.2.-Backward-substitution-(bottom-to-top))   \n",
    "    > [2.3. Generalizing elimination followed by substitution](#2.3.-Generalizing-elimination-followed-by-substitution)\n",
    "3. [LU decomposition and Cholesky decomposition](#3.-LU-decomposition-and-Cholesky-decomposition)    \n",
    "4. [`scipy.linalg`](#4-`scipy.linalg`)\n",
    "5. [Applications](#5.-Applications)"
   ]
  },
  {
   "cell_type": "markdown",
   "metadata": {},
   "source": [
    "## 1. Row-reduction/Elimination"
   ]
  },
  {
   "cell_type": "markdown",
   "metadata": {},
   "source": [
    "In the approach, you will augment the given matrix, ${\\bf A}$, with the known vector, ${\\bf b}$. Let's denote the augmented matrix as ${\\bf A}_1=\\left[ {\\bf A} | {\\bf b} \\right]$. Now, you will perform a sequence of operations which will transform the augmented matrix into a new augmented matrix $\\left[ {\\bf I} | {\\bf x} \\right]$.\n",
    "$$\n",
    "\\left[ {\\bf A} | {\\bf b} \\right] \\rightarrow \\left[ {\\bf I} | {\\bf x} \\right]\n",
    "$$\n",
    "\n",
    "If you perform the same set of operations on an indentity matrix, you will obtain the inverse of ${\\bf A}$.\n",
    "\n",
    "$$\n",
    "\\left[ {\\bf A} | {\\bf b} | {\\bf I} \\right] \\rightarrow \\left[ {\\bf I} | {\\bf x} | {\\bf A}^{-1} \\right]\n",
    "$$"
   ]
  },
  {
   "cell_type": "markdown",
   "metadata": {},
   "source": [
    "![boardwork005.jpg](../boardwork/boardwork005.jpg)"
   ]
  },
  {
   "cell_type": "code",
   "execution_count": 1,
   "metadata": {},
   "outputs": [
    {
     "name": "stdout",
     "output_type": "stream",
     "text": [
      "[[0. 0. 0. 0.]\n",
      " [0. 0. 0. 0.]\n",
      " [0. 0. 0. 0.]] \n",
      "===\n",
      "\n",
      "[[ 2.  0. -1.  0.]\n",
      " [ 6.  5.  3.  0.]\n",
      " [ 2. -1.  0.  0.]] \n",
      "===\n",
      "\n",
      "The augmented matrix [A|b] is:\n",
      " [[ 2.  0. -1.  2.]\n",
      " [ 6.  5.  3.  7.]\n",
      " [ 2. -1.  0.  4.]]\n"
     ]
    }
   ],
   "source": [
    "import numpy as np\n",
    "\n",
    "A=np.array([[2,0,-1],[6,5,3],[2,-1,0]],float)\n",
    "b=np.array([2,7,4],float)\n",
    "\n",
    "#=== Augmented matrix \n",
    "A1=np.zeros([3,4])    # Declare a zero 3x4 matrix\n",
    "\n",
    "print(A1,\"\\n===\\n\")\n",
    "\n",
    "A1[0:3,0:3]=A.copy()  # Store the 'A' matrix in the first 3 columns\n",
    "print(A1,\"\\n===\\n\")\n",
    "\n",
    "A1[0:3,3]=b.copy()    # Store the 'b' vector in the 4th column\n",
    "\n",
    "print('The augmented matrix [A|b] is:\\n', A1)"
   ]
  },
  {
   "cell_type": "markdown",
   "metadata": {},
   "source": [
    "#### Use the first row of A1 to eliminate the 'rest' (i.e. second and third elements) of the first column of A1"
   ]
  },
  {
   "cell_type": "code",
   "execution_count": 2,
   "metadata": {},
   "outputs": [
    {
     "name": "stdout",
     "output_type": "stream",
     "text": [
      "After subtracting row-1 from row-2 and row-3:\n",
      " [[ 2.  0. -1.  2.]\n",
      " [ 0.  5.  6.  1.]\n",
      " [ 0. -1.  1.  2.]]\n"
     ]
    }
   ],
   "source": [
    "A1[1,:]=A1[1,:]-(A1[1,0]/A1[0,0])*A1[0,:]  # Transform second row\n",
    "A1[2,:]=A1[2,:]-(A1[2,0]/A1[0,0])*A1[0,:]  # Transform third row\n",
    "\n",
    "print('After subtracting row-1 from row-2 and row-3:\\n', A1)"
   ]
  },
  {
   "cell_type": "markdown",
   "metadata": {},
   "source": [
    "#### Use the second row of A1 to eliminate the 'rest' of the second column of A1"
   ]
  },
  {
   "cell_type": "code",
   "execution_count": 3,
   "metadata": {},
   "outputs": [
    {
     "name": "stdout",
     "output_type": "stream",
     "text": [
      "After subtracting row-2 from row-1 and row-3:\n",
      " [[ 2.   0.  -1.   2. ]\n",
      " [ 0.   5.   6.   1. ]\n",
      " [ 0.   0.   2.2  2.2]]\n"
     ]
    }
   ],
   "source": [
    "A1[0,:]=A1[0,:]-(A1[0,1]/A1[1,1])*A1[1,:] # Transform first row\n",
    "A1[2,:]=A1[2,:]-(A1[2,1]/A1[1,1])*A1[1,:] # Transform third row\n",
    "\n",
    "print('After subtracting row-2 from row-1 and row-3:\\n', A1)"
   ]
  },
  {
   "cell_type": "markdown",
   "metadata": {},
   "source": [
    "#### Use the third row of A1 to eliminate the 'rest' of the third column of A1"
   ]
  },
  {
   "cell_type": "code",
   "execution_count": 4,
   "metadata": {},
   "outputs": [
    {
     "name": "stdout",
     "output_type": "stream",
     "text": [
      "After subtracting row-3 from row-1 and row-2:\n",
      " [[ 2.   0.   0.   3. ]\n",
      " [ 0.   5.   0.  -5. ]\n",
      " [ 0.   0.   2.2  2.2]]\n"
     ]
    }
   ],
   "source": [
    "A1[0,:]=A1[0,:]-(A1[0,2]/A1[2,2])*A1[2,:] # Transform first row\n",
    "A1[1,:]=A1[1,:]-(A1[1,2]/A1[2,2])*A1[2,:] # Transform second row\n",
    "\n",
    "print('After subtracting row-3 from row-1 and row-2:\\n', A1)"
   ]
  },
  {
   "cell_type": "markdown",
   "metadata": {},
   "source": [
    "#### Now scale all the rows"
   ]
  },
  {
   "cell_type": "code",
   "execution_count": 5,
   "metadata": {},
   "outputs": [
    {
     "name": "stdout",
     "output_type": "stream",
     "text": [
      "...and finally, we have the transformed augmented matrix:\n",
      " [[ 1.   0.   0.   1.5]\n",
      " [ 0.   1.   0.  -1. ]\n",
      " [ 0.   0.   1.   1. ]]\n"
     ]
    }
   ],
   "source": [
    "A1[0,:]=A1[0,:]/A1[0,0]\n",
    "A1[1,:]=A1[1,:]/A1[1,1]\n",
    "A1[2,:]=A1[2,:]/A1[2,2]\n",
    "\n",
    "print('...and finally, we have the transformed augmented matrix:\\n', A1)"
   ]
  },
  {
   "cell_type": "markdown",
   "metadata": {},
   "source": [
    "Let's collect all the steps and make one piece of code!"
   ]
  },
  {
   "cell_type": "code",
   "execution_count": 6,
   "metadata": {},
   "outputs": [
    {
     "name": "stdout",
     "output_type": "stream",
     "text": [
      "The augmented matrix [A|b] is:\n",
      " [[ 2.  0. -1.  2.]\n",
      " [ 6.  5.  3.  7.]\n",
      " [ 2. -1.  0.  4.]]\n",
      "The augmented matrix [A|b] after row-reduction is:\n",
      " [[ 2.   0.   0.   3. ]\n",
      " [ 0.   5.   0.  -5. ]\n",
      " [ 0.   0.   2.2  2.2]]\n",
      "The solution is:\n",
      " [ 1.5 -1.   1. ]\n"
     ]
    }
   ],
   "source": [
    "import numpy as np\n",
    "\n",
    "A=np.array([[2,0,-1],[6,5,3],[2,-1,0]],float)\n",
    "b=np.array([2,7,4],float)\n",
    "\n",
    "#=== Augmented matrix\n",
    "A1=np.zeros([3,4],float)\n",
    "A1[0:3,0:3]=A.copy()\n",
    "A1[0:3,3]=b.copy()\n",
    "\n",
    "print('The augmented matrix [A|b] is:\\n', A1)\n",
    "\n",
    "# Do all steps in row-reduction listed above using loops \n",
    "for i in range(0,3):\n",
    "    for j in range(0,3):\n",
    "        if i != j:\n",
    "            A1[j,:]=A1[j,:]-(A1[j,i]/A1[i,i])*A1[i,:]\n",
    "\n",
    "print('The augmented matrix [A|b] after row-reduction is:\\n', A1)\n",
    "\n",
    "# Scale the diagonal matrix\n",
    "for i in range(0,3):\n",
    "    A1[i,:]=A1[i,:]/A1[i,i]\n",
    "\n",
    "x=np.zeros(3)\n",
    "x=A1[:,3]\n",
    "print('The solution is:\\n',x)"
   ]
  },
  {
   "cell_type": "markdown",
   "metadata": {},
   "source": [
    "## 2. Gaussian elimination followed by substitution "
   ]
  },
  {
   "cell_type": "markdown",
   "metadata": {},
   "source": [
    "Instead of the transformation $\\left[ {\\bf A} | {\\bf b} \\right] \\rightarrow \\left[ {\\bf I} | {\\bf x} \\right]$, in Gaussian elimination, we perform the transformation only to the upper or the lower triangle of ${\\bf A}$. \n",
    "$$\n",
    "\\left[ {\\bf A} | {\\bf b} \\right] \\rightarrow \\left[ {\\bf U} | {\\bf c} \\right]\n",
    "$$\n",
    "Following this, we determine the solution by backward or forward substitution."
   ]
  },
  {
   "cell_type": "markdown",
   "metadata": {},
   "source": [
    "![boardwork007.jpg](../boardwork/boardwork007.jpg)"
   ]
  },
  {
   "cell_type": "code",
   "execution_count": 7,
   "metadata": {},
   "outputs": [
    {
     "name": "stdout",
     "output_type": "stream",
     "text": [
      "The augmented matrix [A|b] is:\n",
      " [[2. 1. 1. 1.]\n",
      " [1. 2. 1. 2.]\n",
      " [1. 1. 2. 3.]]\n"
     ]
    }
   ],
   "source": [
    "import numpy as np\n",
    "\n",
    "A=np.array([[2,1,1],[1,2,1],[1,1,2]],float)\n",
    "b=np.array([1,2,3],float)\n",
    "\n",
    "#=== Augmented matrix\n",
    "A1=np.zeros([3,4],float)\n",
    "A1[0:3,0:3]=A.copy()\n",
    "A1[0:3,3]=b.copy()\n",
    "\n",
    "print('The augmented matrix [A|b] is:\\n', A1)"
   ]
  },
  {
   "cell_type": "markdown",
   "metadata": {},
   "source": [
    "### 2.1. Elimination: Transform of A to U "
   ]
  },
  {
   "cell_type": "markdown",
   "metadata": {},
   "source": [
    "Use the first row of A1 to eliminate the 'rest' of the first column of A1"
   ]
  },
  {
   "cell_type": "code",
   "execution_count": 8,
   "metadata": {},
   "outputs": [
    {
     "name": "stdout",
     "output_type": "stream",
     "text": [
      "After subtracting row-1 from row-2 and row-3:\n",
      " [[2.  1.  1.  1. ]\n",
      " [0.  1.5 0.5 1.5]\n",
      " [0.  0.5 1.5 2.5]]\n"
     ]
    }
   ],
   "source": [
    "A1[1,:]=A1[1,:]-(A1[1,0]/A1[0,0])*A1[0,:]\n",
    "A1[2,:]=A1[2,:]-(A1[2,0]/A1[0,0])*A1[0,:]\n",
    "print('After subtracting row-1 from row-2 and row-3:\\n', A1)"
   ]
  },
  {
   "cell_type": "markdown",
   "metadata": {},
   "source": [
    "Use the second row of A1 to eliminate the 'rest' of the second column of A1"
   ]
  },
  {
   "cell_type": "code",
   "execution_count": 9,
   "metadata": {},
   "outputs": [
    {
     "name": "stdout",
     "output_type": "stream",
     "text": [
      "After subtracting row-2 from row-3:\n",
      " [[2.         1.         1.         1.        ]\n",
      " [0.         1.5        0.5        1.5       ]\n",
      " [0.         0.         1.33333333 2.        ]]\n"
     ]
    }
   ],
   "source": [
    "A1[2,:]=A1[2,:]-(A1[2,1]/A1[1,1])*A1[1,:]\n",
    "print('After subtracting row-2 from row-3:\\n', A1)"
   ]
  },
  {
   "cell_type": "markdown",
   "metadata": {},
   "source": [
    "### 2.2. Backward substitution (bottom to top) "
   ]
  },
  {
   "cell_type": "code",
   "execution_count": 10,
   "metadata": {},
   "outputs": [
    {
     "name": "stdout",
     "output_type": "stream",
     "text": [
      "The U-form of matrix A is:\n",
      " [[2.         1.         1.        ]\n",
      " [0.         1.5        0.5       ]\n",
      " [0.         0.         1.33333333]]\n"
     ]
    }
   ],
   "source": [
    "U=np.zeros([3,3])\n",
    "U[0:3,0:3]=A1[0:3,0:3].copy()\n",
    "print('The U-form of matrix A is:\\n', U)"
   ]
  },
  {
   "cell_type": "code",
   "execution_count": 11,
   "metadata": {},
   "outputs": [
    {
     "name": "stdout",
     "output_type": "stream",
     "text": [
      "The modified coefficient vector is:\n",
      " [1.  1.5 2. ]\n"
     ]
    }
   ],
   "source": [
    "b=np.zeros([3])\n",
    "b[0:3]=A1[0:3,3].copy()\n",
    "print('The modified coefficient vector is:\\n', b)"
   ]
  },
  {
   "cell_type": "markdown",
   "metadata": {},
   "source": [
    "Now we have to solve the following equations.\n",
    "$$\n",
    "  2x+y+z=1 \\\\\n",
    "    1.5y+0.5z = 1.5 \\\\\n",
    "    1.33333333z=2\n",
    "$$"
   ]
  },
  {
   "cell_type": "markdown",
   "metadata": {},
   "source": [
    "Let's start by solving the last equation.\n",
    "$$\n",
    "1.33333333z=2 \\Rightarrow z = 2/1.33333333\n",
    "$$"
   ]
  },
  {
   "cell_type": "code",
   "execution_count": 12,
   "metadata": {},
   "outputs": [
    {
     "name": "stdout",
     "output_type": "stream",
     "text": [
      "[0.  0.  1.5]\n"
     ]
    }
   ],
   "source": [
    "x=np.zeros([3])\n",
    "x[2]=b[2]/U[2,2]\n",
    "print(x)"
   ]
  },
  {
   "cell_type": "markdown",
   "metadata": {},
   "source": [
    "Now let's  solve the second equation\n",
    "$$\n",
    "1.5y+0.5z = 1.5\n",
    "$$\n",
    "by substituting the value of z=1.5\n",
    "$$\n",
    "1.5y+0.5(1.5)=1.5\\\\\n",
    "\\rightarrow 1.5y+0.75 = 1.5 \\\\\n",
    "\\rightarrow 1.5y=0.75\\\\\n",
    "\\rightarrow y = 0.75/1.5 = 0.5\n",
    "$$"
   ]
  },
  {
   "cell_type": "code",
   "execution_count": 13,
   "metadata": {},
   "outputs": [
    {
     "name": "stdout",
     "output_type": "stream",
     "text": [
      "[0.  0.5 1.5]\n"
     ]
    }
   ],
   "source": [
    "x[1]=(b[1]-U[1,2]*x[2])/U[1,1]\n",
    "print(x)"
   ]
  },
  {
   "cell_type": "markdown",
   "metadata": {},
   "source": [
    "Now, the first equation\n",
    "$$\n",
    "  2x+y+z=1 \\\\\n",
    "\\rightarrow 2x+0.5+1.5=1\\\\\n",
    "\\rightarrow 2x=-1\\\\\n",
    "\\rightarrow x=-1/2\n",
    "$$"
   ]
  },
  {
   "cell_type": "code",
   "execution_count": 14,
   "metadata": {},
   "outputs": [
    {
     "name": "stdout",
     "output_type": "stream",
     "text": [
      "[-0.5  0.5  1.5]\n"
     ]
    }
   ],
   "source": [
    "x[0]=(b[0]-U[0,2]*x[1]-U[0,2]*x[2])/U[0,0]\n",
    "print(x)"
   ]
  },
  {
   "cell_type": "markdown",
   "metadata": {},
   "source": [
    "### 2.3. Generalizing elimination followed by substitution "
   ]
  },
  {
   "cell_type": "markdown",
   "metadata": {},
   "source": [
    "![boardwork006.jpg](../boardwork/boardwork006.jpg)\n",
    "![boardwork008.jpg](../boardwork/boardwork008.jpg)"
   ]
  },
  {
   "cell_type": "code",
   "execution_count": 15,
   "metadata": {},
   "outputs": [
    {
     "name": "stdout",
     "output_type": "stream",
     "text": [
      "[[2. 1. 1.]\n",
      " [1. 2. 1.]\n",
      " [1. 1. 2.]]\n",
      "\n",
      "Transformation: A -> U\n",
      "\n",
      "[[2.         1.         1.        ]\n",
      " [0.         1.5        0.5       ]\n",
      " [0.         0.         1.33333333]]\n",
      "[1.  1.5 2. ]\n",
      "\n",
      "Backward substitution to get x\n",
      "\n",
      "[-0.5  0.5  1.5]\n"
     ]
    }
   ],
   "source": [
    "import numpy as np\n",
    "\n",
    "A=np.array([[2,1,1],[1,2,1],[1,1,2]],float) #NOTE: float\n",
    "b=np.array([1,2,3],float)\n",
    "x=np.zeros(3,float)\n",
    "\n",
    "N=A.shape[0]\n",
    "\n",
    "print(A)\n",
    "\n",
    "print('\\nTransformation: A -> U\\n')\n",
    "\n",
    "for k in range(0,N-1):\n",
    "    for i in range(k+1,N):\n",
    "        lam=A[k,i]/A[k,k]\n",
    "        A[i,:]=A[i,:]-lam*A[k,:]\n",
    "        b[i]=b[i]-lam*b[k]\n",
    "\n",
    "print(A)\n",
    "\n",
    "print(b)\n",
    "\n",
    "print('\\nBackward substitution to get x\\n')\n",
    "\n",
    "x[2]=b[2]/A[2,2]\n",
    "for k in range(N-2,-1,-1):\n",
    "    x[k]=b[k]\n",
    "    for j in range(k+1,N):\n",
    "        x[k]=x[k]-A[k,j]*x[j]\n",
    "    x[k]=x[k]/A[k,k]\n",
    "\n",
    "print(x)"
   ]
  },
  {
   "cell_type": "markdown",
   "metadata": {},
   "source": [
    "## 3. LU decomposition and Cholesky decomposition "
   ]
  },
  {
   "cell_type": "markdown",
   "metadata": {},
   "source": [
    "More often than not we will encounter a symmetric coefficient matrix, i.e., ${\\bf A}^T={\\bf A}$, where ${^T}$ denotes transpose. In such cases, Cholesky decomposition is the ideal option."
   ]
  },
  {
   "cell_type": "markdown",
   "metadata": {},
   "source": [
    "![boardwork010.jpg](../boardwork/boardwork010.jpg)"
   ]
  },
  {
   "cell_type": "markdown",
   "metadata": {},
   "source": [
    "Any matrix can be written as ${\\bf A}={\\bf L}{\\bf U}$. When ${\\bf A}$ is symmetric, ${\\bf U}$ is simply ${\\bf L}^T$. Hence, we can write ${\\bf A}={\\bf L}{\\bf L}^T$. Expanding the elements of ${\\bf L}{\\bf L}^T$ and equating to ${\\bf A}$ shows that it is possible to write the elements of ${\\bf L}$ in terms of the elements of ${\\bf A}$ without having to perform sequential eliminations (or row-reductions)."
   ]
  },
  {
   "cell_type": "markdown",
   "metadata": {},
   "source": [
    "![boardwork011.jpg](../boardwork/boardwork011.jpg)\n",
    "![boardwork012.jpg](../boardwork/boardwork012.jpg)"
   ]
  },
  {
   "cell_type": "markdown",
   "metadata": {},
   "source": [
    "\n",
    "---\n",
    "Homework-5: Write a python function to solve a linear system of $N$ equations with $N$ unknowns. \n",
    "The function should perform Gaussian elimination if the matrix is not symmetric, and perform Cholesky decomposition when the matrix is symmetric.\n",
    "\n",
    "---"
   ]
  },
  {
   "cell_type": "markdown",
   "metadata": {},
   "source": [
    "## 4. `scipy.linalg`"
   ]
  },
  {
   "cell_type": "markdown",
   "metadata": {},
   "source": [
    "Even though the previous problem asks you to write a program for your own version of Gaussian elimination and Cholesky decomposition, you can always use the Cholesky linear solver from the `scipy` library. \n",
    "\n",
    "To begin with, here is an example to show how to do perform a Cholesky decomposition."
   ]
  },
  {
   "cell_type": "code",
   "execution_count": 16,
   "metadata": {},
   "outputs": [
    {
     "name": "stdout",
     "output_type": "stream",
     "text": [
      "\n",
      "Given matrix A is\n",
      "\n",
      "[[2. 1. 1.]\n",
      " [1. 2. 1.]\n",
      " [1. 1. 2.]]\n",
      "\n",
      "After A -> L, we have\n",
      "\n",
      "[[1.41421356 0.         0.        ]\n",
      " [0.70710678 1.22474487 0.        ]\n",
      " [0.70710678 0.40824829 1.15470054]]\n",
      "\n",
      "L^T is\n",
      "\n",
      "[[1.41421356 0.70710678 0.70710678]\n",
      " [0.         1.22474487 0.40824829]\n",
      " [0.         0.         1.15470054]]\n",
      "\n",
      "L x L^T gives us the original matrix\n",
      "\n",
      "[[2. 1. 1.]\n",
      " [1. 2. 1.]\n",
      " [1. 1. 2.]]\n"
     ]
    }
   ],
   "source": [
    "import numpy as np\n",
    "from scipy.linalg import cholesky\n",
    "# See, https://docs.scipy.org/doc/scipy/reference/generated/scipy.linalg.cholesky.html \n",
    "\n",
    "A=np.array([[2,1,1],[1,2,1],[1,1,2]],float) \n",
    "\n",
    "L = cholesky(A, lower=True)\n",
    "\n",
    "print('\\nGiven matrix A is\\n')\n",
    "print(A)\n",
    "\n",
    "print('\\nAfter A -> L, we have\\n')\n",
    "print(L)\n",
    "\n",
    "LT=np.transpose(L)\n",
    "\n",
    "print('\\nL^T is\\n')\n",
    "print(LT)\n",
    "\n",
    "print('\\nL x L^T gives us the original matrix\\n')\n",
    "print(np.matmul(L,LT))"
   ]
  },
  {
   "cell_type": "markdown",
   "metadata": {},
   "source": [
    "## `scipy.linalg.cho_factor`  and `scipy.linalg.cho_solve` "
   ]
  },
  {
   "cell_type": "markdown",
   "metadata": {},
   "source": [
    "Now, let's see how to solve linear equations with Cholesky decomposition."
   ]
  },
  {
   "cell_type": "code",
   "execution_count": 17,
   "metadata": {},
   "outputs": [
    {
     "name": "stdout",
     "output_type": "stream",
     "text": [
      "\n",
      "The solution is\n",
      "\n",
      "[-0.5  0.5  1.5]\n"
     ]
    }
   ],
   "source": [
    "import numpy as np\n",
    "from scipy.linalg import cho_factor, cho_solve\n",
    "# See, https://docs.scipy.org/doc/scipy/reference/generated/scipy.linalg.cho_solve.html\n",
    "\n",
    "A=np.array([[2,1,1],[1,2,1],[1,1,2]],float) \n",
    "b=np.array([1,2,3],float)\n",
    "x=np.zeros(3,float)\n",
    "\n",
    "L, low = cho_factor(A)   # low is a logical output, 'true' if L is a lower triangular matrix\n",
    "x = cho_solve((L, low), b)\n",
    "\n",
    "print('\\nThe solution is\\n')\n",
    "print(x)"
   ]
  },
  {
   "cell_type": "markdown",
   "metadata": {},
   "source": [
    "We can check if the solution is correct by performing ${\\bf A}{\\bf x}$ and see it corresponds to ${\\bf b}$. Or, even better is to see if ${\\bf A}{\\bf x}-{\\bf b}$ corresponds to a zero vector."
   ]
  },
  {
   "cell_type": "code",
   "execution_count": 18,
   "metadata": {},
   "outputs": [
    {
     "name": "stdout",
     "output_type": "stream",
     "text": [
      "[2.22044605e-16 0.00000000e+00 0.00000000e+00]\n"
     ]
    }
   ],
   "source": [
    "print(np.matmul(A,x)-b)"
   ]
  },
  {
   "cell_type": "markdown",
   "metadata": {},
   "source": [
    "If we are working with very large matrix, it is hard to check all the elements and see if they are all zero. In that case, we can use the logical operator `numpy.allclose` which checks if two vectors are same elementwise and returns `True` or `False`."
   ]
  },
  {
   "cell_type": "code",
   "execution_count": 19,
   "metadata": {},
   "outputs": [
    {
     "data": {
      "text/plain": [
       "True"
      ]
     },
     "execution_count": 19,
     "metadata": {},
     "output_type": "execute_result"
    }
   ],
   "source": [
    "np.allclose(np.matmul(A,x),b)\n",
    "# See, https://numpy.org/doc/stable/reference/generated/numpy.allclose.html"
   ]
  },
  {
   "cell_type": "markdown",
   "metadata": {},
   "source": [
    "## `scipy.linalg.solve`"
   ]
  },
  {
   "cell_type": "markdown",
   "metadata": {},
   "source": [
    "If you want to work with general matrices that are not necessarily symmetric, you can use the general function `scipy.linalg.solve` which uses different algorithms based on the type of the matrix. "
   ]
  },
  {
   "cell_type": "code",
   "execution_count": 20,
   "metadata": {},
   "outputs": [
    {
     "name": "stdout",
     "output_type": "stream",
     "text": [
      "\n",
      "Given matrix is\n",
      "\n",
      "[[2. 1. 1.]\n",
      " [3. 2. 1.]\n",
      " [4. 1. 2.]]\n",
      "\n",
      "Known vector is\n",
      "\n",
      "[1. 2. 3.]\n",
      "\n",
      "Solution is\n",
      "\n",
      "[ 2. -1. -2.]\n",
      "\n",
      "Is the solution correct?\n",
      "\n",
      "True\n"
     ]
    }
   ],
   "source": [
    "import numpy as np\n",
    "from scipy import linalg\n",
    "# See, https://docs.scipy.org/doc/scipy/reference/generated/scipy.linalg.solve.html#scipy.linalg.solve\n",
    "\n",
    "A=np.array([[2,1,1],[3,2,1],[4,1,2]],float) \n",
    "b=np.array([1,2,3],float)\n",
    "x=np.zeros(3,float)\n",
    "\n",
    "print('\\nGiven matrix is\\n')\n",
    "print(A)\n",
    "\n",
    "print('\\nKnown vector is\\n')\n",
    "print(b)\n",
    "\n",
    "x = linalg.solve(A, b)\n",
    "print('\\nSolution is\\n')\n",
    "print(x)\n",
    "\n",
    "print('\\nIs the solution correct?\\n')\n",
    "check=np.allclose(np.matmul(A,x),b)\n",
    "print(check)"
   ]
  },
  {
   "cell_type": "markdown",
   "metadata": {},
   "source": []
  },
  {
   "cell_type": "markdown",
   "metadata": {},
   "source": [
    "## 5. Applications"
   ]
  },
  {
   "cell_type": "markdown",
   "metadata": {},
   "source": [
    "xzzzzzzzzzzzzzzzzzzzzzzzzzzzzzzzzzzzzzzzzzzzzzzzzzzzzzzzzzzzzzzzzzzzzzzzzzzzzzzzzzzzzzzzzzzzzzzzzzzzzzzzzzzzzzzzzzzzzzzzzzzzzzzzzzzzzzzzzzzzzzzzzzzzzzzzzzzzzzzzzzzzzzzzzzzzzzzzzzzzzzzzzzzzzzzzzzzzzzzzzzzzzzzzzzzzzzzzzzzzzzzzzzzzzzzzzzzzzzzzzzzzzzzzzzzzzzzzzzzzzzzzzzzzzzzzzzzzzzzzzzzzzzzzzzzzzzzzzzzzzzzzzzzzzzzzzzzzzzzzzzzzzzzzzzzzzzzzzzzzzzzzzzzzzzzzzzzzzz![boardwork013.jpg](../boardwork/boardwork013.jpg)\n",
    "![boardwork014.jpg](../boardwork/boardwork014.jpg)\n",
    "![boardwork015.jpg](../boardwork/boardwork015.jpg)\n",
    "![boardwork016.jpg](../boardwork/boardwork016.jpg)\n",
    "![boardwork017.jpg](../boardwork/boardwork017.jpg)\n",
    "![boardwork018.jpg](../boardwork/boardwork018.jpg)"
   ]
  }
 ],
 "metadata": {
  "kernelspec": {
   "display_name": "Python 3 (ipykernel)",
   "language": "python",
   "name": "python3"
  },
  "language_info": {
   "codemirror_mode": {
    "name": "ipython",
    "version": 3
   },
   "file_extension": ".py",
   "mimetype": "text/x-python",
   "name": "python",
   "nbconvert_exporter": "python",
   "pygments_lexer": "ipython3",
   "version": "3.9.13"
  }
 },
 "nbformat": 4,
 "nbformat_minor": 2
}
