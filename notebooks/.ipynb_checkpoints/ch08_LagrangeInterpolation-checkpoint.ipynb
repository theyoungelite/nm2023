{
 "cells": [
  {
   "cell_type": "markdown",
   "metadata": {},
   "source": [
    "# Content:\n",
    "1. [Lagrange interpolation polynomial](#1.-Lagrange-interpolation-polynomial)\n",
    "2. [Runge's curse and overfitting](#2.-Runge's-curse-and-overfitting)\n",
    "3. [Least squares fitted polynomial vs. interpolation polynomial](#3.-Least-squares-fitted-polynomial-vs.-interpolation-polynomial)\n",
    "4. [`scipy.interpolate`](#4.-`scipy.interpolate`)"
   ]
  },
  {
   "cell_type": "markdown",
   "metadata": {},
   "source": [
    "## 1. Lagrange interpolation polynomial "
   ]
  },
  {
   "cell_type": "markdown",
   "metadata": {},
   "source": [
    "![boardwork028.jpg](../boardwork/boardwork028.jpg)\n",
    "![boardwork029.jpg](../boardwork/boardwork029.jpg)\n",
    "![boardwork030.jpg](../boardwork/boardwork030.jpg)"
   ]
  },
  {
   "cell_type": "markdown",
   "metadata": {},
   "source": [
    "Let's code it up!"
   ]
  },
  {
   "cell_type": "code",
   "execution_count": 1,
   "metadata": {},
   "outputs": [
    {
     "name": "stdout",
     "output_type": "stream",
     "text": [
      "------------------------------\n",
      "# x          interpolated y(x)\n",
      "------------------------------\n",
      "  -1.00000  -1.00000\n",
      "  -0.80000  -0.80000\n",
      "  -0.60000  -0.60000\n",
      "  -0.40000  -0.40000\n",
      "  -0.20000  -0.20000\n",
      "  -0.00000  -0.00000\n",
      "   0.20000   0.20000\n",
      "   0.40000   0.40000\n",
      "   0.60000   0.60000\n",
      "   0.80000   0.80000\n",
      "   1.00000   1.00000\n"
     ]
    }
   ],
   "source": [
    "import numpy as np\n",
    "\n",
    "def L_Dk(k,x_data,x):  # x_data contains D+1 values\n",
    "    \n",
    "    Dplus1=len(x_data)\n",
    "    \n",
    "    val=1.0            # for product, initialize with one\n",
    "    for i in range(0,Dplus1):\n",
    "        if i != k:\n",
    "            val=val*(x-x_data[i])/(x_data[k]-x_data[i])  #NOTE: product\n",
    "    return(val)\n",
    "    \n",
    "def Lagrange_poly(x_data,y_data,x): # x_data, y_data contains D+1 values\n",
    "    \n",
    "    Dplus1=len(x_data)\n",
    "    \n",
    "    val=0              # for summation, initialize with zero\n",
    "    for k in range(0,Dplus1):\n",
    "        val=val+y_data[k]*L_Dk(k,x_data,x) #NOTE: sum\n",
    "    return(val)\n",
    "\n",
    "#=== Let's try a simple example of a line passing through (0,0) and (1,1)\n",
    "x_given=np.array([0,1])\n",
    "y_given=np.array([0,1])\n",
    "\n",
    "#=== make 'x' continuous using grids using np.arange or np.linspace\n",
    "x_new=np.arange(-1.0, 1.2, 0.2, float)  # Will give us -1, -0.8, -0.6, ... +0.8, +1.0\n",
    "\n",
    "N_x=len(x_new)\n",
    "\n",
    "print('------------------------------')\n",
    "print('# x          interpolated y(x)')\n",
    "print('------------------------------')\n",
    "for i_x in range(N_x):\n",
    "    print('{:10.5f}{:10.5f}'.format(x_new[i_x],Lagrange_poly(x_given,y_given,x_new[i_x])))\n",
    "    #print(x_new[i_x], Lagrange_poly(x_given,y_given,x_new[i_x]))"
   ]
  },
  {
   "cell_type": "markdown",
   "metadata": {},
   "source": [
    "Using two points (0,0) and (1,1), we have found a smooth function that interpolates between the given points. "
   ]
  },
  {
   "cell_type": "markdown",
   "metadata": {},
   "source": [
    "## 2. Runge's curse and overfitting"
   ]
  },
  {
   "cell_type": "markdown",
   "metadata": {},
   "source": [
    "[Runge's phenomenon](https://en.wikipedia.org/wiki/Runge%27s_phenomenon) corresponds to the oscillation of a polynomials of high degree obtained using polynomial interpolation. The data used in the previous lecture 'data/fit_01.csv' shows how this works!"
   ]
  },
  {
   "cell_type": "code",
   "execution_count": 2,
   "metadata": {},
   "outputs": [],
   "source": [
    "import numpy as np\n",
    "\n",
    "#=== Read the data from a file\n",
    "myfile=open('../data/fit_01.csv','r')\n",
    "\n",
    "x_data=np.array([])\n",
    "y_data=np.array([])\n",
    "\n",
    "iline=0\n",
    "for line in myfile:\n",
    "    if iline > 0:            # i == 0 corresponds to the heading\n",
    "        string=line.split(',')  # csv, comma separated values\n",
    "        valx=eval(string[0])\n",
    "        valy=eval(string[1])\n",
    "        x_data=np.append(x_data,[valx])\n",
    "        y_data=np.append(y_data,[valy])\n",
    "        \n",
    "    iline=iline+1\n",
    "myfile.close() "
   ]
  },
  {
   "cell_type": "code",
   "execution_count": 3,
   "metadata": {},
   "outputs": [
    {
     "data": {
      "image/png": "[encoded data removed]",
      "text/plain": [
       "<Figure size 432x288 with 1 Axes>"
      ]
     },
     "metadata": {
      "needs_background": "light"
     },
     "output_type": "display_data"
    }
   ],
   "source": [
    "import numpy as np\n",
    "import matplotlib.pyplot as plt\n",
    "\n",
    "plt.plot(x_data,y_data,'o',color='r',linewidth=1,label='y$^{exact}$')\n",
    "\n",
    "xgrids=np.linspace(0.0, 7.0, 51)\n",
    "N_grids=len(xgrids)\n",
    "ygrids=np.zeros(N_grids)\n",
    "\n",
    "for i_grids in range(N_grids):\n",
    "    ygrids[i_grids]=Lagrange_poly(x_data,y_data,xgrids[i_grids])\n",
    "    #print(xgrids[i_grids],ygridsfit[i_grids])\n",
    "\n",
    "plt.plot(xgrids,ygrids,'-',color='b',linewidth=1,label='y$^{fitted}$')\n",
    "\n",
    "plt.legend()\n",
    "\n",
    "plt.xlabel(\"x\")\n",
    "plt.ylabel(\"y\")\n",
    "plt.title('Lagrange interpolation')\n",
    "\n",
    "#plt.savefig('poly_interpolation.png')  \n",
    "\n",
    "#=== display\n",
    "plt.show()"
   ]
  },
  {
   "cell_type": "markdown",
   "metadata": {},
   "source": [
    "Note that the polynomial seems to be smooth in the region [2,7] but for $x<2$ it oscillates. We say that the polynomial is [overfitted](https://en.wikipedia.org/wiki/Overfitting) in the region [2,7], hence on the left side the interpolated function's behavious is unpreditable."
   ]
  },
  {
   "cell_type": "markdown",
   "metadata": {},
   "source": [
    "## 3. Least squares fitted polynomial vs. interpolation polynomial "
   ]
  },
  {
   "cell_type": "markdown",
   "metadata": {},
   "source": [
    "![boardwork031.jpg](../boardwork/boardwork031.jpg)"
   ]
  },
  {
   "cell_type": "code",
   "execution_count": 4,
   "metadata": {},
   "outputs": [
    {
     "name": "stdout",
     "output_type": "stream",
     "text": [
      "0 0.2083333333333333\n",
      "1 -0.1666666666666668\n",
      "2 0.6250000000000002\n"
     ]
    }
   ],
   "source": [
    "x_data=np.array([-3,-1,3])\n",
    "y_data=np.array([3,1,2])\n",
    "\n",
    "D=2  # polynomial degree\n",
    "\n",
    "a=np.polyfit(x_data, y_data, D)\n",
    "\n",
    "for i in range(D+1):\n",
    "    print(i,a[i])"
   ]
  },
  {
   "cell_type": "code",
   "execution_count": 5,
   "metadata": {},
   "outputs": [
    {
     "name": "stdout",
     "output_type": "stream",
     "text": [
      "        2\n",
      "0.2083 x - 0.1667 x + 0.625\n"
     ]
    }
   ],
   "source": [
    "p = np.poly1d(a)\n",
    "print(p)"
   ]
  },
  {
   "cell_type": "code",
   "execution_count": 6,
   "metadata": {},
   "outputs": [
    {
     "data": {
      "image/png": "[encoded data removed]",
      "text/plain": [
       "<Figure size 432x288 with 1 Axes>"
      ]
     },
     "metadata": {
      "needs_background": "light"
     },
     "output_type": "display_data"
    }
   ],
   "source": [
    "import numpy as np\n",
    "import matplotlib.pyplot as plt\n",
    "\n",
    "xgrids=np.linspace(-5.0, 5.0, 51)\n",
    "ygridsfit=np.polyval(a,xgrids)\n",
    "\n",
    "ygridsinter=np.zeros(N_grids)\n",
    "\n",
    "for i_grids in range(N_grids):\n",
    "    ygridsinter[i_grids]=Lagrange_poly(x_data,y_data,xgrids[i_grids])\n",
    "    \n",
    "plt.plot(xgrids,ygridsfit,'-',color='b',linewidth=1,label='y$^{fitted}$')\n",
    "plt.plot(xgrids,ygridsinter,'.',color='r',linewidth=1,label='y$^{interpolated}$')\n",
    "plt.plot(x_data,y_data,marker='x',color='k',markersize=8,markeredgewidth=2,linewidth=0,label='y$^{exact}$')\n",
    "\n",
    "plt.legend()\n",
    "\n",
    "plt.xlabel(\"x\")\n",
    "plt.ylabel(\"y\")\n",
    "plt.title('Polynomial fitting')\n",
    "\n",
    "#plt.savefig('test.png')  \n",
    "\n",
    "#=== display\n",
    "plt.show()"
   ]
  },
  {
   "cell_type": "markdown",
   "metadata": {},
   "source": [
    "---\n",
    "Homework-13: Find the equation of a generalized parabola (or a generalized quadratic function) $f(x)=a_0+a_1 x+a_2 x^2$ passing through the points (-3,3), (-1,1), and (3,2). Hint: model the function as a Lagrange interpolating polynomial.\n",
    "\n",
    "---"
   ]
  },
  {
   "cell_type": "markdown",
   "metadata": {},
   "source": [
    "---\n",
    "Homework-14: Find the equation of a unique polynomial passing through the points (0,3), (1,0), (3,30), and (5,132).\n",
    "    \n",
    "---"
   ]
  },
  {
   "cell_type": "markdown",
   "metadata": {},
   "source": [
    "---\n",
    "Homework-15: Find the equation of a unique polynomial passing through the points (-2,3a), (0,a), and (1,4a).\n",
    "    \n",
    "---"
   ]
  },
  {
   "cell_type": "markdown",
   "metadata": {},
   "source": [
    "The above problems clearly illustrate the advantage of interpolating! We can do away with matrix inversions and Gaussian elimination for modeling data with a polynomial. However, when the degree of the interpolating polynomial increases, one must be wary of Runge's phenomenon."
   ]
  },
  {
   "cell_type": "markdown",
   "metadata": {},
   "source": [
    "## 4.  `scipy.interpolate`"
   ]
  },
  {
   "cell_type": "markdown",
   "metadata": {},
   "source": [
    "Let's try out some robust interpolation schemes available in the [interpolation module of the scipy package](https://docs.scipy.org/doc/scipy/reference/interpolate.html). Let's use the data used in the previous classes for this exercise."
   ]
  },
  {
   "cell_type": "code",
   "execution_count": 7,
   "metadata": {},
   "outputs": [],
   "source": [
    "import numpy as np\n",
    "\n",
    "#=== Read the data from a file\n",
    "myfile=open('../data/fit_01.csv','r')\n",
    "\n",
    "x_data=np.array([])\n",
    "y_data=np.array([])\n",
    "\n",
    "iline=0\n",
    "for line in myfile:\n",
    "    if iline > 0:            # i == 0 corresponds to the heading\n",
    "        string=line.split(',')  # csv, comma separated values\n",
    "        valx=eval(string[0])\n",
    "        valy=eval(string[1])\n",
    "        x_data=np.append(x_data,[valx])\n",
    "        y_data=np.append(y_data,[valy])\n",
    "        \n",
    "    iline=iline+1\n",
    "myfile.close()"
   ]
  },
  {
   "cell_type": "markdown",
   "metadata": {},
   "source": [
    "Let's try the simplest function, `interp1d`. The default interpolation scheme used in this function is linear interpolation."
   ]
  },
  {
   "cell_type": "code",
   "execution_count": 8,
   "metadata": {},
   "outputs": [
    {
     "data": {
      "image/png": "[encoded data removed]",
      "text/plain": [
       "<Figure size 432x288 with 1 Axes>"
      ]
     },
     "metadata": {
      "needs_background": "light"
     },
     "output_type": "display_data"
    }
   ],
   "source": [
    "from scipy import interpolate\n",
    "import matplotlib.pyplot as plt\n",
    "\n",
    "f=interpolate.interp1d(x_data, y_data, kind='linear')  # or simply, f=interpolate.interp1d(x_data, y_data)  \n",
    "\n",
    "xgrids=np.linspace(np.min(x_data), np.max(x_data), 51)\n",
    "ygrids_1=f(xgrids)\n",
    "\n",
    "plt.plot(xgrids,ygrids_1,'-',color='g',linewidth=1,label='y$^{int}$')\n",
    "plt.plot(x_data,y_data,'o',color='r',linewidth=1,label='y$^{exact}$')\n",
    "\n",
    "plt.legend()\n",
    "\n",
    "plt.xlabel(\"x\")\n",
    "plt.ylabel(\"y\")\n",
    "plt.title('Scipy\\'s [default] interpolation')\n",
    "\n",
    "plt.show()"
   ]
  },
  {
   "cell_type": "markdown",
   "metadata": {},
   "source": [
    "The function `interp1d` has options to use better schemes. For more details see [https://docs.scipy.org/doc/scipy/reference/generated/scipy.interpolate.interp1d.html#scipy.interpolate.interp1d](https://docs.scipy.org/doc/scipy/reference/generated/scipy.interpolate.interp1d.html#scipy.interpolate.interp1d)\n",
    "\n",
    "Let's try the cubic interpolation scheme."
   ]
  },
  {
   "cell_type": "code",
   "execution_count": 9,
   "metadata": {},
   "outputs": [
    {
     "data": {
      "image/png": "[encoded data removed]",
      "text/plain": [
       "<Figure size 432x288 with 1 Axes>"
      ]
     },
     "metadata": {
      "needs_background": "light"
     },
     "output_type": "display_data"
    }
   ],
   "source": [
    "f=interpolate.interp1d(x_data, y_data, kind='cubic')\n",
    "\n",
    "ygrids_2=f(xgrids)\n",
    "\n",
    "plt.plot(xgrids,ygrids_2,'-',color='b',linewidth=1,label='y$^{int}$')\n",
    "plt.plot(x_data,y_data,'o',color='r',linewidth=1,label='y$^{exact}$')\n",
    "\n",
    "plt.legend()\n",
    "\n",
    "plt.xlabel(\"x\")\n",
    "plt.ylabel(\"y\")\n",
    "plt.title('Scipy cubic interpolation')\n",
    "\n",
    "plt.show()"
   ]
  },
  {
   "cell_type": "markdown",
   "metadata": {},
   "source": [
    "The cubic scheme is very robust. The resulting function is smooth (continuous) and reasonably stiff (does not oscillate between data points)."
   ]
  },
  {
   "cell_type": "code",
   "execution_count": 10,
   "metadata": {},
   "outputs": [
    {
     "data": {
      "image/png": "[encoded data removed]",
      "text/plain": [
       "<Figure size 432x288 with 1 Axes>"
      ]
     },
     "metadata": {
      "needs_background": "light"
     },
     "output_type": "display_data"
    }
   ],
   "source": [
    "plt.plot(xgrids,ygrids_1,'-',color='g',linewidth=1,label='y$^{linear}$')\n",
    "plt.plot(xgrids,ygrids_2,'-',color='b',linewidth=1,label='y$^{cubic}$')\n",
    "plt.plot(x_data,y_data,'o',color='r',linewidth=1,label='y$^{exact}$')\n",
    "\n",
    "plt.legend()\n",
    "\n",
    "plt.xlabel(\"x\")\n",
    "plt.ylabel(\"y\")\n",
    "plt.title('Comparison of linear and cubic interpolations')\n",
    "\n",
    "plt.show()"
   ]
  },
  {
   "cell_type": "markdown",
   "metadata": {},
   "source": [
    "`kind='zero'`, `kind='slinear'`, `kind='quadratic;` and `kind='cubic'` refer to a spline interpolation of zeroth, first, second, and third order. \n",
    "\n",
    "In the spline approach, instead of fitting the data to a single, high-degree polynomial, the idea is to fit several low-degree polynomials to small subsets of the values. For example, if we have 10 data points, if we do Lagrange interpolation, we will be fitting the data to a polynomial of degree 9. Instead, in the spline approach, we will _Lagrange interpolate_ every pair of points to a cubic polynomial and get a smooth function that does not suffer from Runge's curse. "
   ]
  }
 ],
 "metadata": {
  "kernelspec": {
   "display_name": "Python 3 (ipykernel)",
   "language": "python",
   "name": "python3"
  },
  "language_info": {
   "codemirror_mode": {
    "name": "ipython",
    "version": 3
   },
   "file_extension": ".py",
   "mimetype": "text/x-python",
   "name": "python",
   "nbconvert_exporter": "python",
   "pygments_lexer": "ipython3",
   "version": "3.9.13"
  }
 },
 "nbformat": 4,
 "nbformat_minor": 2
}
