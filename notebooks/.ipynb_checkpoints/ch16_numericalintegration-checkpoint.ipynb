{
 "cells": [
  {
   "cell_type": "markdown",
   "id": "80a014fe",
   "metadata": {},
   "source": [
    "# Content:\n",
    "1. [Riemann approximation](#riemann)\n",
    "2. [Newton-Cotes formulae](#newton)\n",
    "3. [Trapezoidal rule](#trap)\n",
    "4. [Simpson's 1/3 rule](#simp13)\n",
    "5. [Arbitray order Newton-Cotes with Scipy](#newtonscipy)\n",
    "6. [Gaussian quadrature](#quadrature)\n",
    "7. [Gauss-Legendre quadrature](#gaussleg)\n",
    "8. [Gauss-Laguerre quadrature](#gausslag)\n",
    "9. [Gauss-Hermite quadrature](#gaussher)"
   ]
  },
  {
   "cell_type": "code",
   "execution_count": null,
   "id": "2c528fae",
   "metadata": {},
   "outputs": [],
   "source": [
    "from IPython.display import Image"
   ]
  },
  {
   "cell_type": "markdown",
   "id": "abcc3307",
   "metadata": {},
   "source": [
    "## 1. <a name=\"riemann\">Riemann approximation</a>"
   ]
  },
  {
   "cell_type": "code",
   "execution_count": null,
   "id": "a71fe246",
   "metadata": {},
   "outputs": [],
   "source": [
    "Image(filename='../boardwork/boardwork120.jpg') "
   ]
  },
  {
   "cell_type": "code",
   "execution_count": null,
   "id": "72d01600",
   "metadata": {},
   "outputs": [],
   "source": [
    "Image(filename='../boardwork/boardwork121.jpg') "
   ]
  },
  {
   "cell_type": "code",
   "execution_count": null,
   "id": "ec72376f",
   "metadata": {},
   "outputs": [],
   "source": [
    "Image(filename='../boardwork/boardwork122.jpg') "
   ]
  },
  {
   "cell_type": "markdown",
   "id": "8cc16c52",
   "metadata": {},
   "source": [
    "Let's test the approximation for $\\int_0^\\pi dx\\,\\sin(x)=\\left[ -\\cos(x)\\right]^\\pi_0=2$"
   ]
  },
  {
   "cell_type": "code",
   "execution_count": 1,
   "id": "fbc23a7f",
   "metadata": {},
   "outputs": [
    {
     "name": "stdout",
     "output_type": "stream",
     "text": [
      "We are taking  100  grids between  0  and  3.141592653589793\n",
      "Step size, h =  0.031415926535897934\n",
      "Integral using left-Riemann approximation is  1.9798338422550528\n",
      "Integral using right-Riemann approximation is  1.9798338422550528\n",
      "Integral using mid-point-Riemann approximation is  1.9800830799182418\n"
     ]
    }
   ],
   "source": [
    "import numpy as np\n",
    "\n",
    "a = 0\n",
    "b = np.pi\n",
    "\n",
    "# Let's decide the step size using number of grids we want to use\n",
    "n=100\n",
    "h = (b - a)/n\n",
    "\n",
    "print('We are taking ',n,' grids between ',a,' and ',b)\n",
    "print('Step size, h = ',h)\n",
    "\n",
    "# Function we want to integrate\n",
    "def f(x):\n",
    "    val = np.sin(x)\n",
    "    return val\n",
    "\n",
    "# Discretize x\n",
    "x = np.linspace(a, b, n)\n",
    "\n",
    "# Left Riemann\n",
    "I_L = 0\n",
    "for k in range(0,n-1):\n",
    "    I_L = I_L + h * f(x[k])\n",
    "    \n",
    "# Right Riemann\n",
    "I_R = 0\n",
    "for k in range(1,n):\n",
    "    I_R = I_R + h * f(x[k])\n",
    "    \n",
    "# Mid-point Riemann\n",
    "I_mid = 0\n",
    "for k in range(0,n-1):\n",
    "    y_k=(x[k]+x[k+1])/2\n",
    "    I_mid = I_mid + h * f(y_k)\n",
    "\n",
    "print('Integral using left-Riemann approximation is ', I_L)\n",
    "print('Integral using right-Riemann approximation is ', I_R)\n",
    "print('Integral using mid-point-Riemann approximation is ', I_mid)"
   ]
  },
  {
   "cell_type": "markdown",
   "id": "537be215",
   "metadata": {},
   "source": [
    "Let's see how the error decreases with step size"
   ]
  },
  {
   "cell_type": "code",
   "execution_count": 2,
   "id": "c9ef26e3",
   "metadata": {},
   "outputs": [],
   "source": [
    "def Integrate_LRiemenn(f,a,b,n):\n",
    "    h=(b-a)/n\n",
    "    x = np.linspace(a, b, n)\n",
    "    I_L = 0\n",
    "    for k in range(0,n-1):\n",
    "        I_L = I_L + h * f(x[k])\n",
    "    return I_L\n",
    "\n",
    "def Integrate_midRiemenn(f,a,b,n):\n",
    "    h=(b-a)/n\n",
    "    x = np.linspace(a, b, n)\n",
    "    I_mid = 0\n",
    "    for k in range(0,n-1):\n",
    "        y_k=(x[k]+x[k+1])/2\n",
    "        I_mid = I_mid + h * f(y_k)\n",
    "    return I_mid"
   ]
  },
  {
   "cell_type": "code",
   "execution_count": 3,
   "id": "b80a8023",
   "metadata": {},
   "outputs": [],
   "source": [
    "def f(x):\n",
    "    val = np.sin(x)\n",
    "    return val"
   ]
  },
  {
   "cell_type": "code",
   "execution_count": 4,
   "id": "369234d2",
   "metadata": {},
   "outputs": [],
   "source": [
    "n_steps=[2**10,2**9,2**8,2**7,2**6,2**5,2**4,2**3,2**2,2]\n",
    "a=0\n",
    "b=np.pi"
   ]
  },
  {
   "cell_type": "code",
   "execution_count": 5,
   "id": "cce4dd31",
   "metadata": {},
   "outputs": [
    {
     "name": "stdout",
     "output_type": "stream",
     "text": [
      "Integral using left-Riemann approximation for h= 0.0030679615757712823  is  1.9980453047349203\n",
      "Integral using left-Riemann approximation for h= 0.006135923151542565  is  1.9960874627908571\n",
      "Integral using left-Riemann approximation for h= 0.01227184630308513  is  1.9921623018041035\n",
      "Integral using left-Riemann approximation for h= 0.02454369260617026  is  1.984273809618408\n",
      "Integral using left-Riemann approximation for h= 0.04908738521234052  is  1.968342013332234\n",
      "Integral using left-Riemann approximation for h= 0.09817477042468103  is  1.9358415164340417\n",
      "Integral using left-Riemann approximation for h= 0.19634954084936207  is  1.868141092060096\n",
      "Integral using left-Riemann approximation for h= 0.39269908169872414  is  1.7205270939201556\n",
      "Integral using left-Riemann approximation for h= 0.7853981633974483  is  1.3603495231756635\n",
      "Integral using left-Riemann approximation for h= 1.5707963267948966  is  0.0\n"
     ]
    }
   ],
   "source": [
    "steps=[]\n",
    "error_I_L=[]\n",
    "for n in n_steps:\n",
    "    h=(b-a)/n\n",
    "    steps.append(h)\n",
    "    I= Integrate_LRiemenn(f,a,b,n) \n",
    "    error_I_L.append(np.abs(I-2))\n",
    "    print('Integral using left-Riemann approximation for h=', h,' is ',I)"
   ]
  },
  {
   "cell_type": "code",
   "execution_count": 6,
   "id": "0f8fe318",
   "metadata": {},
   "outputs": [
    {
     "name": "stdout",
     "output_type": "stream",
     "text": [
      "Integral using mid-point-Riemann approximation  for h= 0.0030679615757712823  is  1.9980476601326316\n",
      "Integral using mid-point-Riemann approximation  for h= 0.006135923151542565  is  1.9960968936060606\n",
      "Integral using mid-point-Riemann approximation  for h= 0.01227184630308513  is  1.9922000991218507\n",
      "Integral using mid-point-Riemann approximation  for h= 0.02454369260617026  is  1.984425595577799\n",
      "Integral using mid-point-Riemann approximation  for h= 0.04908738521234052  is  1.968953999674898\n",
      "Integral using mid-point-Riemann approximation  for h= 0.09817477042468103  is  1.9383293482526616\n",
      "Integral using mid-point-Riemann approximation  for h= 0.19634954084936207  is  1.8784313354592557\n",
      "Integral using mid-point-Riemann approximation  for h= 0.39269908169872414  is  1.7647736539512249\n",
      "Integral using mid-point-Riemann approximation  for h= 0.7853981633974483  is  1.5707963267948968\n",
      "Integral using mid-point-Riemann approximation  for h= 1.5707963267948966  is  1.5707963267948966\n"
     ]
    }
   ],
   "source": [
    "error_I_mid=[]\n",
    "for n in n_steps:\n",
    "    h=(b-a)/n\n",
    "    I= Integrate_midRiemenn(f,a,b,n) \n",
    "    error_I_mid.append(np.abs(I-2))\n",
    "    print('Integral using mid-point-Riemann approximation  for h=', h,' is ',I)"
   ]
  },
  {
   "cell_type": "code",
   "execution_count": 7,
   "id": "36231659",
   "metadata": {},
   "outputs": [
    {
     "data": {
      "image/png": "[encoded data removed]",
      "text/plain": [
       "<Figure size 432x288 with 1 Axes>"
      ]
     },
     "metadata": {
      "needs_background": "light"
     },
     "output_type": "display_data"
    }
   ],
   "source": [
    "import matplotlib.pyplot as plt\n",
    "\n",
    "fig, ax = plt.subplots(nrows=1, ncols=1)\n",
    "\n",
    "ax.tick_params(direction=\"in\",which='both')\n",
    "ax.set_xlim([0,2])\n",
    "ax.set_ylim([0,3])\n",
    "\n",
    "x=np.linspace(0,np.pi)\n",
    "ax.plot(error_I_L, steps,label='left Riemann',color='red',zorder=3,linewidth=1.0,marker='o',linestyle='-',alpha=0.3)\n",
    "ax.plot(error_I_mid, steps,label='mid-point Riemann',color='blue',zorder=3,linewidth=1.0,marker='o',linestyle='-',alpha=0.3)\n",
    "ax.plot(x,x,color='red',linestyle='-')\n",
    "ax.plot(x,x**2,color='blue',linestyle='-')\n",
    "ax.legend(frameon=True, loc='upper left',ncol=1,fontsize=14)\n",
    "\n",
    "plt.xlabel('approximation error', fontsize = 14)\n",
    "plt.ylabel('step size, $h$', fontsize = 14)\n",
    "pass"
   ]
  },
  {
   "cell_type": "markdown",
   "id": "80bc29c5",
   "metadata": {},
   "source": [
    "Let's try another example"
   ]
  },
  {
   "cell_type": "markdown",
   "id": "5261d42b",
   "metadata": {},
   "source": [
    "## 2. <a name=\"newton\">Newton-Cotes formulae</a>"
   ]
  },
  {
   "cell_type": "code",
   "execution_count": null,
   "id": "d563a604",
   "metadata": {},
   "outputs": [],
   "source": [
    "Image(filename='../boardwork/boardwork123.jpg') "
   ]
  },
  {
   "cell_type": "markdown",
   "id": "b0d2a1a7",
   "metadata": {},
   "source": [
    "## 3. <a name=\"trap\">Trapezoidal rule</a>"
   ]
  },
  {
   "cell_type": "markdown",
   "id": "41e51d12",
   "metadata": {},
   "source": [
    "![../boardwork2022-124.jpg](../boardwork/boardwork2022-124.jpg)\n",
    "![../boardwork2022-125.jpg](../boardwork/boardwork2022-125.jpg)"
   ]
  },
  {
   "cell_type": "code",
   "execution_count": null,
   "id": "1809c0d2",
   "metadata": {},
   "outputs": [],
   "source": [
    "Image(filename='../boardwork/boardwork124.jpg') "
   ]
  },
  {
   "cell_type": "code",
   "execution_count": null,
   "id": "e7fe675a",
   "metadata": {},
   "outputs": [],
   "source": [
    "Image(filename='../boardwork/boardwork125.jpg') "
   ]
  },
  {
   "cell_type": "code",
   "execution_count": 8,
   "id": "23b81b53",
   "metadata": {},
   "outputs": [],
   "source": [
    "def f(x):\n",
    "    val = np.sin(x)\n",
    "    return val\n",
    "\n",
    "a=0\n",
    "b=np.pi\n",
    "\n",
    "n=1024\n",
    "x = np.linspace(a, b, n)"
   ]
  },
  {
   "cell_type": "code",
   "execution_count": 9,
   "id": "6ede46c1",
   "metadata": {},
   "outputs": [
    {
     "name": "stdout",
     "output_type": "stream",
     "text": [
      "Integral using scipy's trapezoidal rule is  1.9999984281999588\n"
     ]
    }
   ],
   "source": [
    "import scipy.integrate\n",
    "\n",
    "I=scipy.integrate.trapezoid(f(x),x)\n",
    "print('Integral using scipy\\'s trapezoidal rule is ',I)"
   ]
  },
  {
   "cell_type": "markdown",
   "id": "ef081546",
   "metadata": {},
   "source": [
    "## 4. <a name=\"simp13\">Simpson's 1/3 rule</a>"
   ]
  },
  {
   "cell_type": "markdown",
   "id": "d4290a82",
   "metadata": {},
   "source": [
    "![../boardwork2022-126.jpg](../boardwork/boardwork2022-126.jpg)"
   ]
  },
  {
   "cell_type": "code",
   "execution_count": 10,
   "id": "cfd43890",
   "metadata": {},
   "outputs": [
    {
     "name": "stdout",
     "output_type": "stream",
     "text": [
      "Integral using scipy's trapezoidal rule is  1.9999999999972826\n"
     ]
    }
   ],
   "source": [
    "I=scipy.integrate.simpson(f(x),x)\n",
    "print('Integral using scipy\\'s trapezoidal rule is ',I)"
   ]
  },
  {
   "cell_type": "markdown",
   "id": "548bb2e9",
   "metadata": {},
   "source": [
    "## 5. <a name=\"newtonscipy\">Arbitray-order Newton-Cotes with Scipy</a>"
   ]
  },
  {
   "cell_type": "markdown",
   "id": "21260755",
   "metadata": {},
   "source": [
    "The integral approximations are of the form $$\\int dx\\, f(x)\\approx \\sum_{i=0}^{N} h a_i f(x_i)$$ where $h$ is the step size, and $a_i$ are weights at different positions."
   ]
  },
  {
   "cell_type": "code",
   "execution_count": 11,
   "id": "a0553373",
   "metadata": {},
   "outputs": [
    {
     "name": "stdout",
     "output_type": "stream",
     "text": [
      "\n",
      "    Return weights and error coefficient for Newton-Cotes integration.\n",
      "\n",
      "    Suppose we have (N+1) samples of f at the positions\n",
      "    x_0, x_1, ..., x_N. Then an N-point Newton-Cotes formula for the\n",
      "    integral between x_0 and x_N is:\n",
      "\n",
      "    :math:`\\int_{x_0}^{x_N} f(x)dx = \\Delta x \\sum_{i=0}^{N} a_i f(x_i)\n",
      "    + B_N (\\Delta x)^{N+2} f^{N+1} (\\xi)`\n",
      "\n",
      "    where :math:`\\xi \\in [x_0,x_N]`\n",
      "    and :math:`\\Delta x = \\frac{x_N-x_0}{N}` is the average samples spacing.\n",
      "\n",
      "    If the samples are equally-spaced and N is even, then the error\n",
      "    term is :math:`B_N (\\Delta x)^{N+3} f^{N+2}(\\xi)`.\n",
      "\n",
      "    Parameters\n",
      "    ----------\n",
      "    rn : int\n",
      "        The integer order for equally-spaced data or the relative positions of\n",
      "        the samples with the first sample at 0 and the last at N, where N+1 is\n",
      "        the length of `rn`. N is the order of the Newton-Cotes integration.\n",
      "    equal : int, optional\n",
      "        Set to 1 to enforce equally spaced data.\n",
      "\n",
      "    Returns\n",
      "    -------\n",
      "    an : ndarray\n",
      "        1-D array of weights to apply to the function at the provided sample\n",
      "        positions.\n",
      "    B : float\n",
      "        Error coefficient.\n",
      "\n",
      "    Examples\n",
      "    --------\n",
      "    Compute the integral of sin(x) in [0, :math:`\\pi`]:\n",
      "\n",
      "    >>> from scipy.integrate import newton_cotes\n",
      "    >>> def f(x):\n",
      "    ...     return np.sin(x)\n",
      "    >>> a = 0\n",
      "    >>> b = np.pi\n",
      "    >>> exact = 2\n",
      "    >>> for N in [2, 4, 6, 8, 10]:\n",
      "    ...     x = np.linspace(a, b, N + 1)\n",
      "    ...     an, B = newton_cotes(N, 1)\n",
      "    ...     dx = (b - a) / N\n",
      "    ...     quad = dx * np.sum(an * f(x))\n",
      "    ...     error = abs(quad - exact)\n",
      "    ...     print('{:2d}  {:10.9f}  {:.5e}'.format(N, quad, error))\n",
      "    ...\n",
      "     2   2.094395102   9.43951e-02\n",
      "     4   1.998570732   1.42927e-03\n",
      "     6   2.000017814   1.78136e-05\n",
      "     8   1.999999835   1.64725e-07\n",
      "    10   2.000000001   1.14677e-09\n",
      "\n",
      "    Notes\n",
      "    -----\n",
      "    Normally, the Newton-Cotes rules are used on smaller integration\n",
      "    regions and a composite rule is used to return the total integral.\n",
      "\n",
      "    \n"
     ]
    }
   ],
   "source": [
    "from scipy.integrate import newton_cotes\n",
    "print (newton_cotes.__doc__)"
   ]
  },
  {
   "cell_type": "code",
   "execution_count": 12,
   "id": "d0ab8c18",
   "metadata": {},
   "outputs": [],
   "source": [
    "def f(x):\n",
    "    val = np.sin(x)\n",
    "    return val\n",
    "\n",
    "a=0\n",
    "b=np.pi\n",
    "\n",
    "exact = 2"
   ]
  },
  {
   "cell_type": "code",
   "execution_count": 13,
   "id": "3fd57e07",
   "metadata": {},
   "outputs": [
    {
     "name": "stdout",
     "output_type": "stream",
     "text": [
      "Order   NumIntegral     Error           Precentage Error\n",
      "  1     0.000000000     2.000000000      100.000000000\n",
      "  2     2.094395102     0.094395102        4.719755120\n",
      "  3     2.040524285     0.040524285        2.026214238\n",
      "  4     1.998570732     0.001429268        0.071463409\n",
      "  5     1.999203094     0.000796906        0.039845304\n",
      "  6     2.000017814     0.000017814        0.000890682\n",
      "  7     2.000010866     0.000010866        0.000543277\n",
      "  8     1.999999835     0.000000165        0.000008236\n",
      "  9     1.999999895     0.000000105        0.000005259\n",
      " 10     2.000000001     0.000000001        0.000000057\n"
     ]
    }
   ],
   "source": [
    "print(('Order   NumIntegral     Error           Precentage Error'))\n",
    "for N in range(1,11):\n",
    "    x = np.linspace(a, b, N+1)\n",
    "    ak, B = newton_cotes(N, 1)\n",
    "    h = (b - a) / N\n",
    "    quad = h * np.sum(ak * f(x))  # h * np.dot(ak, f(x))\n",
    "    error = abs(quad - exact)\n",
    "    print('{:3d}  {:14.9f}     {:11.9f}     {:14.9f}'.format(N, quad, error, error/exact*100))"
   ]
  },
  {
   "cell_type": "markdown",
   "id": "a774cdfe",
   "metadata": {},
   "source": [
    "Let's look at the coefficients for some $N$ and check the answer by applying the formula, $$\\int dx\\, f(x)\\approx \\sum_{i=0}^{N} h a_i f(x_i).$$"
   ]
  },
  {
   "cell_type": "code",
   "execution_count": 14,
   "id": "3332d918",
   "metadata": {},
   "outputs": [],
   "source": [
    "def run_Newton_cotes(N):\n",
    "    x = np.linspace(a, b, N+1)\n",
    "    ak, B = newton_cotes(N, 1)\n",
    "    h = (b - a) / N\n",
    "    quad = h * np.sum(ak * f(x))\n",
    "    error = abs(quad - exact)\n",
    "    print('Number of points:',N+1,'\\n')\n",
    "    print(' Points, x_k     Weights, a_k')\n",
    "    for i in range(N+1):\n",
    "        print('{:11.9f}     {:11.9f}'.format(x[i],ak[i]))\n",
    "    print('\\n Integral:',quad)\n",
    "    return h,x,ak,quad"
   ]
  },
  {
   "cell_type": "code",
   "execution_count": 15,
   "id": "37d423bb",
   "metadata": {},
   "outputs": [
    {
     "name": "stdout",
     "output_type": "stream",
     "text": [
      "Number of points: 2 \n",
      "\n",
      " Points, x_k     Weights, a_k\n",
      "0.000000000     0.500000000\n",
      "3.141592654     0.500000000\n",
      "\n",
      " Integral: 1.9236706937217898e-16\n",
      " Checking the integral: 1.9236706937217898e-16\n"
     ]
    }
   ],
   "source": [
    "N=1\n",
    "h,x,ak,quad=run_Newton_cotes(N)\n",
    "fk=f(x)\n",
    "val=h * np.dot(ak,fk)\n",
    "print(' Checking the integral:',val)"
   ]
  },
  {
   "cell_type": "code",
   "execution_count": 16,
   "id": "9a9dede2",
   "metadata": {},
   "outputs": [
    {
     "name": "stdout",
     "output_type": "stream",
     "text": [
      "Number of points: 3 \n",
      "\n",
      " Points, x_k     Weights, a_k\n",
      "0.000000000     0.333333333\n",
      "1.570796327     1.333333333\n",
      "3.141592654     0.333333333\n",
      "\n",
      " Integral: 2.0943951023931953\n",
      " Checking the integral: 2.0943951023931953\n"
     ]
    }
   ],
   "source": [
    "N=2\n",
    "h,x,ak,quad=run_Newton_cotes(N)\n",
    "fk=f(x)\n",
    "val=h * np.dot(ak,fk)\n",
    "print(' Checking the integral:',val)"
   ]
  },
  {
   "cell_type": "code",
   "execution_count": 17,
   "id": "eec2e168",
   "metadata": {},
   "outputs": [
    {
     "name": "stdout",
     "output_type": "stream",
     "text": [
      "Number of points: 4 \n",
      "\n",
      " Points, x_k     Weights, a_k\n",
      "0.000000000     0.375000000\n",
      "1.047197551     1.125000000\n",
      "2.094395102     1.125000000\n",
      "3.141592654     0.375000000\n",
      "\n",
      " Integral: 2.040524284763495\n",
      " Checking the integral: 2.040524284763495\n"
     ]
    }
   ],
   "source": [
    "N=3\n",
    "h,x,ak,quad=run_Newton_cotes(N)\n",
    "fk=f(x)\n",
    "val=h * np.dot(ak,fk)\n",
    "print(' Checking the integral:',val)"
   ]
  },
  {
   "cell_type": "markdown",
   "id": "c23ce3e3",
   "metadata": {},
   "source": [
    "``` We can see that the coefficients correspond to Trapezoidal, Simpson-1/3, and Simpson-3/8 rules.```"
   ]
  },
  {
   "cell_type": "markdown",
   "id": "0ebe2dbf",
   "metadata": {},
   "source": [
    "## 6. <a name=\"quadrature\">Gaussian quadrature</a>"
   ]
  },
  {
   "cell_type": "markdown",
   "id": "601e633e",
   "metadata": {},
   "source": [
    "In numerical analysis, Gaussian quadrature rule is an approximation of the definite integral of a function, usually stated as a weighted sum of function values at specified points within the domain of integration. The integration problem is stated as follows $$\\int_a^b dx\\, w(x) f(x)\\approx \\sum_{i=1}^{N} c_i f(x_i)$$\n",
    "\n",
    "`` Note that, in the above formula, we do not have the step size, h.`` Another minor change is that $i$ starts from 1 because we want to show the summation over $N$ points.\n",
    "\n",
    "For a given $N$ and $w(x)$, the problem now is to find not only the best set of ${c_i}$, but also the best set of _abcissae_, $x_i$, to evaluate the function value. Hence, $x_i$, may come out as non-uniformly separated.\n",
    "\n",
    "`` Overall, there are 2N free parameters to choose. Recall that a polynomial of degree N depends on N + 1 free parameters (the coefficients). Thus 2N parameters can define a polynomial of degree 2N − 1 or less. Thus, an N-point Gaussian quadrature formula calculates integrals exactly for polynomials of order 2N − 1 or lower.``\n",
    "\n",
    "For a given choice of the integration limit and the weight function, the best set of abscissae turn out to be roots of various polynomials. This statement can be mathematically proved.  "
   ]
  },
  {
   "cell_type": "markdown",
   "id": "a4704205",
   "metadata": {},
   "source": [
    "|Limit| $$w(x)$$  |Polynomial|\n",
    "|---|---|---|\n",
    "|  [-1,1] | 1   | Legendre   |\n",
    "|  (-$\\infty$,$\\infty$) | $$\\exp(-x^2)$$  | Hermite  |\n",
    "|  [0,$\\infty$) |  $$\\exp(-x)$$ | Laguerre  |"
   ]
  },
  {
   "cell_type": "markdown",
   "id": "eceb1998",
   "metadata": {},
   "source": [
    "Suppose you want to apply Quadratures for limits different than what's given in this list, then you can use the transformation formula\n",
    "$$\\int_a^b dx\\, f(x) = \\frac{b-a}{2} \\int_{-1}^{+1} dt\\, f \\left( \\frac{(b-a)t+(b+a)}{2} \\right)$$\n",
    "\n",
    "You apply Gaussian quadrature in standard limit, then transform the integral to the new limit."
   ]
  },
  {
   "cell_type": "markdown",
   "id": "46db0b6b",
   "metadata": {},
   "source": [
    "## 7. <a name=\"gaussleg\">Gauss-Legendre quadrature</a>"
   ]
  },
  {
   "cell_type": "markdown",
   "id": "965f8851",
   "metadata": {},
   "source": [
    "Let's write do 4-point Gauss-Legendre integration of $\\int_0^{\\pi}\\,\\sin(x)$, step-by-step. "
   ]
  },
  {
   "cell_type": "code",
   "execution_count": 36,
   "id": "ed626b1a",
   "metadata": {},
   "outputs": [],
   "source": [
    "def f(x):\n",
    "    return np.sin(x)\n",
    "\n",
    "a=0\n",
    "b=np.pi\n",
    "\n",
    "exact = 2"
   ]
  },
  {
   "cell_type": "code",
   "execution_count": 37,
   "id": "c67e942d",
   "metadata": {},
   "outputs": [
    {
     "name": "stdout",
     "output_type": "stream",
     "text": [
      " Points, x_i     Coefficients, c_i\n",
      "-0.861136312     0.347854845\n",
      "-0.339981044     0.652145155\n",
      "0.339981044     0.652145155\n",
      "0.861136312     0.347854845\n"
     ]
    }
   ],
   "source": [
    "from scipy.special import roots_legendre\n",
    "\n",
    "N=4\n",
    "x, c = roots_legendre(N)\n",
    "\n",
    "print(' Points, x_i     Coefficients, c_i')\n",
    "for i in range(N):\n",
    "    print('{:11.9f}     {:11.9f}'.format(x[i],c[i]))"
   ]
  },
  {
   "cell_type": "code",
   "execution_count": 38,
   "id": "35f7d146",
   "metadata": {},
   "outputs": [
    {
     "name": "stdout",
     "output_type": "stream",
     "text": [
      "1.999984228457722\n"
     ]
    }
   ],
   "source": [
    "t=( (b-a)*x+(b+a) ) / 2\n",
    "f_i=f(t)\n",
    "\n",
    "Int_gaussleg=np.dot(c,f_i) * (b-a)/2\n",
    "print(Int_gaussleg)"
   ]
  },
  {
   "cell_type": "markdown",
   "id": "f76fabe8",
   "metadata": {},
   "source": [
    "This value is more accurate than the value obtained with 4-point Newton-Cotes formula. "
   ]
  },
  {
   "cell_type": "markdown",
   "id": "e0bc2ffd",
   "metadata": {},
   "source": [
    "Now, let's write a function to do all the steps by taking as inputs, the function to be integrated and the number of points to use. "
   ]
  },
  {
   "cell_type": "code",
   "execution_count": 39,
   "id": "677b58f8",
   "metadata": {},
   "outputs": [],
   "source": [
    "from scipy.special import roots_legendre\n",
    "\n",
    "def GaussLegendre(f,a,b,N):\n",
    "    \n",
    "    x, c = roots_legendre(N)\n",
    "    \n",
    "    t=( (b-a)*x+(b+a) ) / 2\n",
    "    f_i=f(t)\n",
    "    \n",
    "    Int_gaussleg=np.dot(c,f_i) * (b-a)/2\n",
    "    \n",
    "    return Int_gaussleg"
   ]
  },
  {
   "cell_type": "code",
   "execution_count": 40,
   "id": "2f739311",
   "metadata": {},
   "outputs": [
    {
     "name": "stdout",
     "output_type": "stream",
     "text": [
      "Order   NumIntegral     Error           Precentage Error\n",
      "  1          3.141592653589793             1.141592653589793       57.079632679\n",
      "  2          1.935819574651137             0.064180425348863        3.209021267\n",
      "  3          2.001388913607742             0.001388913607742        0.069445680\n",
      "  4          1.999984228457722             0.000015771542278        0.000788577\n",
      "  5          2.000000110284473             0.000000110284473        0.000005514\n",
      "  6          1.999999999477271             0.000000000522729        0.000000026\n",
      "  7          2.000000000001790             0.000000000001790        0.000000000\n",
      "  8          1.999999999999996             0.000000000000004        0.000000000\n",
      "  9          2.000000000000000             0.000000000000000        0.000000000\n",
      " 10          2.000000000000003             0.000000000000003        0.000000000\n",
      " 11          2.000000000000000             0.000000000000000        0.000000000\n",
      " 12          1.999999999999998             0.000000000000002        0.000000000\n",
      " 13          2.000000000000001             0.000000000000001        0.000000000\n",
      " 14          2.000000000000000             0.000000000000000        0.000000000\n",
      " 15          2.000000000000000             0.000000000000000        0.000000000\n",
      " 16          1.999999999999996             0.000000000000004        0.000000000\n",
      " 17          2.000000000000003             0.000000000000003        0.000000000\n",
      " 18          2.000000000000000             0.000000000000000        0.000000000\n",
      " 19          1.999999999999996             0.000000000000004        0.000000000\n",
      " 20          1.999999999999998             0.000000000000002        0.000000000\n"
     ]
    }
   ],
   "source": [
    "print(('Order   NumIntegral     Error           Precentage Error'))\n",
    "\n",
    "for N in range(1,21):\n",
    "    quad = GaussLegendre(f,0,np.pi,N)\n",
    "    error = abs(quad - exact)\n",
    "    print('{:3d}  {:25.15f}     {:25.15f}     {:14.9f}'.format(N, quad, error, error/exact*100))"
   ]
  },
  {
   "cell_type": "markdown",
   "id": "22da4743",
   "metadata": {},
   "source": [
    "_Compare these to the Newton-Cotes values_"
   ]
  },
  {
   "cell_type": "markdown",
   "id": "015c5888",
   "metadata": {},
   "source": [
    "Let's try another example $$\\int_1^3dx\\,\\left[ x^6 - x^2 \\sin(2x) \\right]=317.34424667$$"
   ]
  },
  {
   "cell_type": "code",
   "execution_count": 23,
   "id": "a863fafd",
   "metadata": {},
   "outputs": [
    {
     "name": "stdout",
     "output_type": "stream",
     "text": [
      "Order   NumIntegral     Error           Precentage Error\n",
      "  1   134.054419962     183.289826708       57.757412851\n",
      "  2   306.819934496     10.524312174        3.316370876\n",
      "  3   317.264151734     0.080094936        0.025239133\n",
      "  4   317.345390334     0.001143664        0.000360386\n",
      "  5   317.344226722     0.000019948        0.000006286\n",
      "  6   317.344246890     0.000000220        0.000000069\n"
     ]
    }
   ],
   "source": [
    "def f(x):\n",
    "    return x**6 - x**2 * np.sin(2*x)\n",
    "\n",
    "a=1\n",
    "b=3\n",
    "\n",
    "exact = 317.34424667\n",
    "\n",
    "print(('Order   NumIntegral     Error           Precentage Error'))\n",
    "\n",
    "for N in range(1,7):\n",
    "    quad = GaussLegendre(f,a,b,N)\n",
    "    error = abs(quad - exact)\n",
    "    print('{:3d}  {:14.9f}     {:11.9f}     {:14.9f}'.format(N, quad, error, error/exact*100))"
   ]
  },
  {
   "cell_type": "markdown",
   "id": "1c1fcffb",
   "metadata": {},
   "source": [
    "## 8. <a name=\"gausslag\">Gauss-Laguerre quadrature</a>"
   ]
  },
  {
   "cell_type": "markdown",
   "id": "e3dd3e7f",
   "metadata": {},
   "source": [
    "For integrating in the range $[0,\\infty)$, we will use Gauss-Laguerre quadrature."
   ]
  },
  {
   "cell_type": "code",
   "execution_count": 41,
   "id": "56d85735",
   "metadata": {},
   "outputs": [],
   "source": [
    "from scipy.special import roots_laguerre\n",
    "\n",
    "def GaussLaguerre(f,N):\n",
    "    \n",
    "    x, c = roots_laguerre(N)\n",
    "    \n",
    "    w_x=np.exp(-x)\n",
    "    f_i=f(x)/w_x\n",
    "    \n",
    "    Int_gausslag=np.dot(c,f_i) \n",
    "    \n",
    "    return Int_gausslag"
   ]
  },
  {
   "cell_type": "markdown",
   "id": "411e2465",
   "metadata": {},
   "source": [
    "Now, let's try to find the integral $$\\int_0^\\infty dx\\, \\frac{e^{-x}}{(e^{-x}+1)^3}$$ "
   ]
  },
  {
   "cell_type": "markdown",
   "id": "62359dc7",
   "metadata": {},
   "source": [
    "The exact value is 3/8=0.375."
   ]
  },
  {
   "cell_type": "markdown",
   "id": "1a4671f6",
   "metadata": {},
   "source": [
    "Note that the numerator $e^{-x}$ is the weight function $w(x)$, which is implicitly assumed in Gauss-Laguerre quadrature, see the Table given above. Also, the limit is fixed to $[0,\\infty)$."
   ]
  },
  {
   "cell_type": "code",
   "execution_count": 44,
   "id": "197073a2",
   "metadata": {},
   "outputs": [
    {
     "name": "stdout",
     "output_type": "stream",
     "text": [
      "Order   NumIntegral     Error           Precentage Error\n",
      "  1     0.390711805     0.015711805        4.189814648\n",
      "  2     0.359171085     0.015828915        4.221044037\n",
      "  3     0.374613091     0.000386909        0.103175728\n",
      "  4     0.376452702     0.001452702        0.387387317\n",
      "  5     0.375437573     0.000437573        0.116686106\n",
      "  6     0.374952724     0.000047276        0.012607054\n",
      "  7     0.374904821     0.000095179        0.025381124\n",
      "  8     0.374957673     0.000042327        0.011287142\n",
      "  9     0.374994112     0.000005888        0.001570018\n",
      " 10     0.375005560     0.000005560        0.001482763\n",
      " 11     0.375005344     0.000005344        0.001425134\n",
      " 12     0.375002614     0.000002614        0.000697198\n",
      " 13     0.375000646     0.000000646        0.000172219\n",
      " 14     0.374999804     0.000000196        0.000052306\n",
      " 15     0.374999642     0.000000358        0.000095370\n",
      " 16     0.374999740     0.000000260        0.000069277\n",
      " 17     0.374999873     0.000000127        0.000033847\n",
      " 18     0.374999964     0.000000036        0.000009593\n",
      " 19     0.375000007     0.000000007        0.000001981\n",
      " 20     0.375000020     0.000000020        0.000005256\n",
      " 21     0.375000017     0.000000017        0.000004635\n",
      " 22     0.375000011     0.000000011        0.000002901\n",
      " 23     0.375000005     0.000000005        0.000001349\n",
      " 24     0.375000001     0.000000001        0.000000355\n",
      " 25     0.375000000     0.000000000        0.000000131\n",
      " 26     0.374999999     0.000000001        0.000000282\n",
      " 27     0.374999999     0.000000001        0.000000264\n",
      " 28     0.374999999     0.000000001        0.000000185\n",
      " 29     0.375000000     0.000000000        0.000000103\n",
      " 30     0.375000000     0.000000000        0.000000043\n"
     ]
    }
   ],
   "source": [
    "def f(x):\n",
    "    val = np.exp(-x) / (np.exp(-x)+1)**3\n",
    "    return val\n",
    "\n",
    "exact = 3/8\n",
    "\n",
    "print(('Order   NumIntegral     Error           Precentage Error'))\n",
    "\n",
    "for N in range(1,31):\n",
    "    quad = GaussLaguerre(f,N)\n",
    "    error = abs(quad - exact)\n",
    "    print('{:3d}  {:14.9f}     {:11.9f}     {:14.9f}'.format(N, quad, error, error/exact*100))"
   ]
  },
  {
   "cell_type": "markdown",
   "id": "8f06cd70",
   "metadata": {},
   "source": [
    "## 9. <a name=\"gaussher\">Gauss-Hermite quadrature</a>"
   ]
  },
  {
   "cell_type": "markdown",
   "id": "73f7f020",
   "metadata": {},
   "source": [
    "For integrating in the range $(-\\infty,\\infty)$, we will use Gauss-Hermite quadrature."
   ]
  },
  {
   "cell_type": "code",
   "execution_count": 26,
   "id": "c77e173e",
   "metadata": {},
   "outputs": [],
   "source": [
    "from scipy.special import roots_hermite\n",
    "\n",
    "def GaussHermite(f,N):\n",
    "    \n",
    "    x, c = roots_hermite(N)\n",
    "    \n",
    "    w_x=np.exp(-x**2)\n",
    "    \n",
    "    f_i=f(x)/w_x\n",
    "    \n",
    "    Int_gaussher=np.dot(c,f_i) \n",
    "    \n",
    "    return Int_gaussher"
   ]
  },
  {
   "cell_type": "markdown",
   "id": "949ed82d",
   "metadata": {},
   "source": [
    "Shall we try Gaussian integral? "
   ]
  },
  {
   "cell_type": "markdown",
   "id": "cb293254",
   "metadata": {},
   "source": [
    "Sure, but remember that the weight function, $w(x)$, for Gauss-Hermite quadrature is $e^{-x^2}$, so the integand for quadrature is just 1."
   ]
  },
  {
   "cell_type": "code",
   "execution_count": 27,
   "id": "2ac3c8ea",
   "metadata": {},
   "outputs": [
    {
     "name": "stdout",
     "output_type": "stream",
     "text": [
      "Order   NumIntegral     Error           Precentage Error\n",
      "  1     1.772453851     0.000000000        0.000000000\n",
      "  2     1.772453851     0.000000000        0.000000000\n",
      "  3     1.772453851     0.000000000        0.000000000\n",
      "  4     1.772453851     0.000000000        0.000000000\n",
      "  5     1.772453851     0.000000000        0.000000000\n",
      "  6     1.772453851     0.000000000        0.000000000\n",
      "  7     1.772453851     0.000000000        0.000000000\n",
      "  8     1.772453851     0.000000000        0.000000000\n",
      "  9     1.772453851     0.000000000        0.000000000\n",
      " 10     1.772453851     0.000000000        0.000000000\n"
     ]
    }
   ],
   "source": [
    "def f(x):\n",
    "    return np.exp(-x**2)\n",
    "\n",
    "exact = np.sqrt(np.pi)\n",
    "\n",
    "\n",
    "print(('Order   NumIntegral     Error           Precentage Error'))\n",
    "\n",
    "for N in range(1,11):\n",
    "    quad = GaussHermite(f,N)\n",
    "    error = abs(quad - exact)\n",
    "    print('{:3d}  {:14.9f}     {:11.9f}     {:14.9f}'.format(N, quad, error, error/exact*100))"
   ]
  },
  {
   "cell_type": "markdown",
   "id": "409276c4",
   "metadata": {},
   "source": [
    "Let's try another example. $$\\int_{-\\infty}^{\\infty}dx\\,x^4 \\exp(-x^2)=2\\int_0^{\\infty}dx\\,x^4 \\exp(-x^2)=\\Gamma(2.5)$$"
   ]
  },
  {
   "cell_type": "code",
   "execution_count": 45,
   "id": "01aab405",
   "metadata": {},
   "outputs": [
    {
     "name": "stdout",
     "output_type": "stream",
     "text": [
      "Order   NumIntegral     Error           Precentage Error\n",
      "  1     0.000000000     1.329340388      100.000000000\n",
      "  2     0.443113463     0.886226925       66.666666667\n",
      "  3     1.329340388     0.000000000        0.000000000\n",
      "  4     1.329340388     0.000000000        0.000000000\n",
      "  5     1.329340388     0.000000000        0.000000000\n",
      "  6     1.329340388     0.000000000        0.000000000\n",
      "  7     1.329340388     0.000000000        0.000000000\n",
      "  8     1.329340388     0.000000000        0.000000000\n",
      "  9     1.329340388     0.000000000        0.000000000\n",
      " 10     1.329340388     0.000000000        0.000000000\n"
     ]
    }
   ],
   "source": [
    "def f(x):\n",
    "    return x**4 * np.exp(-x**2)\n",
    "\n",
    "exact = scipy.special.gamma(2.5)\n",
    "\n",
    "print(('Order   NumIntegral     Error           Precentage Error'))\n",
    "\n",
    "for N in range(1,11):\n",
    "    quad = GaussHermite(f,N)\n",
    "    error = abs(quad - exact)\n",
    "    print('{:3d}  {:14.9f}     {:11.9f}     {:14.9f}'.format(N, quad, error, error/exact*100))"
   ]
  },
  {
   "cell_type": "markdown",
   "id": "7a32952b",
   "metadata": {},
   "source": [
    "Note that essentially, we are integrating a degree-4 polynomial. Recall, that an $N$-point Gaussian quadrature formula calculates integrals exactly for polynomials of order 2$N$ − 1 or lower. \n",
    "\n",
    "Hence, for N=3 we have calculated the integral exactly. "
   ]
  },
  {
   "cell_type": "markdown",
   "id": "039dfd80",
   "metadata": {},
   "source": [
    "# Self-study: Integration of higher dimensional functions."
   ]
  },
  {
   "cell_type": "markdown",
   "id": "278d0e99",
   "metadata": {},
   "source": [
    "Some of the `scipy` procedures allow you to integrate a higher-dimensional function. You should consult the manuals. It is also possible for you to write your own codes for integrating a higher-dimensional function. "
   ]
  }
 ],
 "metadata": {
  "kernelspec": {
   "display_name": "Python 3",
   "language": "python",
   "name": "python3"
  },
  "language_info": {
   "codemirror_mode": {
    "name": "ipython",
    "version": 3
   },
   "file_extension": ".py",
   "mimetype": "text/x-python",
   "name": "python",
   "nbconvert_exporter": "python",
   "pygments_lexer": "ipython3",
   "version": "3.9.4"
  }
 },
 "nbformat": 4,
 "nbformat_minor": 5
}
