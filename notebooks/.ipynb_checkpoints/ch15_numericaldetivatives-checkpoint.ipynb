{
 "cells": [
  {
   "cell_type": "markdown",
   "id": "8d49f6a0",
   "metadata": {},
   "source": [
    "# Content:\n",
    "1. [Derivation of finite-difference formulae using Taylor polynomial](#taylor)\n",
    "2. [Three-point central-difference formula](#threepoint)  \n",
    "3. [Higher-order central-difference formulae](#higher)\n",
    "4. [Estimating errors](#errors)  \n",
    "5. [5-point formula in details](#5point)  \n",
    "6. [Finite derivative formulae using Lagrange interpolation polynomial](#lagrange)  "
   ]
  },
  {
   "cell_type": "markdown",
   "id": "166c89d5",
   "metadata": {},
   "source": [
    "## 1. <a name=\"taylor\">Derivation of finite-difference formulae using Taylor polynomial</a>"
   ]
  },
  {
   "cell_type": "markdown",
   "id": "8f826c30",
   "metadata": {},
   "source": [
    "![../board%20work%20-96.jpg](../boardwork/board%20work%20-96.jpg)\n",
    "![../board%20work%20-97.jpg](../boardwork/board%20work%20-97.jpg)\n",
    "![../board%20work%20-98.jpg](../boardwork/board%20work%20-98.jpg)"
   ]
  },
  {
   "cell_type": "markdown",
   "id": "1d6d71a3",
   "metadata": {},
   "source": [
    "## 2. <a name=\"threepoint\">Three-point central-difference formula</a>"
   ]
  },
  {
   "cell_type": "markdown",
   "id": "660177d7",
   "metadata": {},
   "source": [
    "![../board%20work%20-99.jpg](../boardwork/board%20work%20-99.jpg)"
   ]
  },
  {
   "cell_type": "markdown",
   "id": "9fa7b96b",
   "metadata": {},
   "source": [
    "## 3. <a name=\"higher\">Higher-order central-difference formulae</a>"
   ]
  },
  {
   "cell_type": "markdown",
   "id": "ef1776b9",
   "metadata": {},
   "source": [
    "![../board%20work%20-102.jpg](../boardwork/board%20work%20-102.jpg)"
   ]
  },
  {
   "cell_type": "markdown",
   "id": "bfb7f322",
   "metadata": {},
   "source": [
    "## 4. <a name=\"errors\">Estimating errors</a>"
   ]
  },
  {
   "cell_type": "markdown",
   "id": "2748de66",
   "metadata": {},
   "source": [
    "![../board%20work%20-100.jpg](../boardwork/board%20work%20-100.jpg)\n",
    "![../board%20work%20-101.jpg](../boardwork/board%20work%20-101.jpg)"
   ]
  },
  {
   "cell_type": "markdown",
   "id": "ed757619",
   "metadata": {},
   "source": [
    "## 5. <a name=\"5point\">5-point formula in details</a>"
   ]
  },
  {
   "cell_type": "markdown",
   "id": "6455b484",
   "metadata": {},
   "source": [
    "![../boardwork2022-111.jpg](../boardwork/boardwork2022-111.jpg)\n",
    "![../boardwork2022-112.jpg](../boardwork/boardwork2022-112.jpg)\n",
    "![../boardwork2022-113.jpg](../boardwork/boardwork2022-113.jpg)"
   ]
  },
  {
   "cell_type": "markdown",
   "id": "469c4c69",
   "metadata": {},
   "source": [
    "## 6. <a name=\"lagrange\">Finite derivative formulae using Lagrange interpolation polynomial</a>"
   ]
  },
  {
   "cell_type": "markdown",
   "id": "40b6ce8b",
   "metadata": {},
   "source": [
    "![../board%20work%20-104.jpg](../boardwork/board%20work%20-104.jpg)\n",
    "![../board%20work%20-105.jpg](../boardwork/board%20work%20-105.jpg)"
   ]
  }
 ],
 "metadata": {
  "kernelspec": {
   "display_name": "Python 3 (ipykernel)",
   "language": "python",
   "name": "python3"
  },
  "language_info": {
   "codemirror_mode": {
    "name": "ipython",
    "version": 3
   },
   "file_extension": ".py",
   "mimetype": "text/x-python",
   "name": "python",
   "nbconvert_exporter": "python",
   "pygments_lexer": "ipython3",
   "version": "3.9.13"
  }
 },
 "nbformat": 4,
 "nbformat_minor": 5
}
